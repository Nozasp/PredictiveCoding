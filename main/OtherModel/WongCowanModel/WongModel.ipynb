{
  "nbformat": 4,
  "nbformat_minor": 0,
  "metadata": {
    "colab": {
      "name": "WongModel.ipynb",
      "provenance": [],
      "collapsed_sections": [],
      "authorship_tag": "ABX9TyNWA/Aa3bOslVvQw0H/ywAn",
      "include_colab_link": true
    },
    "kernelspec": {
      "name": "python3",
      "display_name": "Python 3"
    },
    "language_info": {
      "name": "python"
    }
  },
  "cells": [
    {
      "cell_type": "markdown",
      "metadata": {
        "id": "view-in-github",
        "colab_type": "text"
      },
      "source": [
        "<a href=\"https://colab.research.google.com/github/Nozasp/PredictiveCoding/blob/main/WongModel.ipynb\" target=\"_parent\"><img src=\"https://colab.research.google.com/assets/colab-badge.svg\" alt=\"Open In Colab\"/></a>"
      ]
    },
    {
      "cell_type": "code",
      "execution_count": 54,
      "metadata": {
        "id": "wrea6VCGDzcx"
      },
      "outputs": [],
      "source": [
        "from functools import partial\n",
        "import numpy as np\n",
        "import scipy.integrate\n",
        "import scipy\n",
        "import math\n",
        "import matplotlib.pyplot as plt\n",
        "import matplotlib.patches as mpatches #used to write custom legends\n",
        "#from param import *\n",
        "#from param2 import *\n",
        "import random\n",
        "#### MESSAGE !"
      ]
    },
    {
      "cell_type": "markdown",
      "source": [
        ""
      ],
      "metadata": {
        "id": "0IzPPxe4HX_T"
      }
    },
    {
      "cell_type": "markdown",
      "source": [
        "# Parameters"
      ],
      "metadata": {
        "id": "4ifAFG-4HftR"
      }
    },
    {
      "cell_type": "code",
      "source": [
        "\n",
        "# ================== Parameters ===============================\n",
        "# ¤ General parameters\n",
        "N = 20\n",
        "#T = 0.2:0.01:1; # periods of the generative oscillator (seconds)\n",
        "#f = numpy.matrix(range(1, N))   #; # unitless\n",
        "f = list(range(1, N+1))\n",
        "dt = 0.001; # seconds\n",
        "initTime = 1;   # initalisation time (seconds)\n",
        "\n",
        "# ¤ Runtime\n",
        "verb  = 'false'\n",
        "class storeFields:\n",
        "    def __init__(self,v,dv,x):\n",
        "        self.v  = v\n",
        "        self.dv = dv\n",
        "        self.x = x\n",
        "\n",
        "storeFields_Init = storeFields(['he', 'hi', 'hs'], [], [])\n",
        "print(storeFields_Init.v[1], storeFields_Init.dv)\n",
        "\n",
        "\n",
        "\n",
        "# ¤ time constants\n",
        "#ostoj   = flse;\n",
        "taue    = 0.020; # seconds [Brunel 2001] (4.5 +- 2.4 ms)\n",
        "taui    = 0.010; # seconds [Brunel 2001] (4.5 +- 2.4 ms)\n",
        "tauNMDA = 0.100; # NMDA-gating time constants (s) [Brunel 2001]\n",
        "tauGABA = 0.005; # GABA-gating time constants (s) [Brunel 2001]\n",
        "tauAMPA = 0.002; # AMPA-gating time constants (s) [Brunel 2001]\n",
        "\n",
        "\n",
        "# ¤ population parameters\n",
        "gamma = 0.641;  # NMDA coupling   [Brunel 2001]\n",
        "sigma = 0.0007; # noise amplitude [Wong 2006]   # it s 0.007 (nA) instead !!!\n",
        "I0e   = 0.2346; # constant population input, exc (nA) [Wong2006]\n",
        "I0i   = 0.17;   # constant population input, inh (nA)\n",
        "\n",
        "# ¤ ???? parameter of the phi function\n",
        "ae = 18.26;\n",
        "be = -5.38;\n",
        "hme = 78.67;\n",
        "ai = 21.97;\n",
        "bi = -4.81;\n",
        "hmi = 125.62;\n",
        "\n",
        "\n",
        "\n",
        "# ¤ conductivities: the strength of the synaptic connection\n",
        "Jee = 0.2;\n",
        "Jie = 0.2;\n",
        "Jei = 1.4;\n",
        "Jii = 6.7;\n",
        "Jin = 0.008;\n",
        "Jiq = 0.85;\n",
        "Jes = 3.5;\n",
        "Jsi = 0.12;\n",
        "Jem = 2.2;\n",
        "\n",
        "Jext = 0.01 #% nA/Hz; # B_wong easy\n",
        "\n",
        "# ¤ Input param3ters\n",
        "In0 = 0;    # Spontaneous firing rate of input populations (Hz)\n",
        "InMax = 50;   # Max firing rate of input populations (Hz)\n",
        "Iq0 = 0;    ## Spontaneous firing rate of feedback populations (Hz)\n",
        "IqMax = 10;   ## Max firing rate of feedback populations (Hz)\n",
        "\n",
        "c_dash = 90 # imput by default\n",
        "mu0 = 30 # wong 2006\n",
        "#External input = Firing rate of upstream neurons\n",
        "In = Jext * mu0 * (1 - c_dash/100) #Jext average synaptic coupling with AMPARs\n",
        "Iq = Jext * mu0 * (1 - c_dash/100)\n",
        "# Ioe or Ioi = input weights I n and Iq??\n",
        "eta = np.random.normal(size=(4,1))#return N by 4 matrix of normal random number\n",
        "I_noise = sigma * eta\n",
        "#I need to add the noise from the external input. I put just I_noise but not the gaussian filter neither other type of noise\n",
        "\n",
        "\n",
        "\n",
        "# ¤ adaptation dynamics\n",
        "#alpha    = 0; # adaptation strenght\n",
        "alpha = 0.022; # adaptation strenght\n",
        "tauAdapt = 1.50;  # Adaptation time constant (s)\n",
        "\n",
        "\n",
        "\n",
        "# ¤ connectivity matrices\n",
        "sigmaIn  = 3;\n",
        "sigmaEI  = sigmaIn;\n",
        "sigmaQie = sigmaIn;\n",
        "sigmaInh = [0.2, sigmaIn];\n",
        "\n",
        "#. For the plasticity :\n",
        "#wei = gaussianFilter(sigmaEI, N);\n",
        "#wes = numpy.identity(N) # eye = identiy matrix of size N*N\n",
        "\n"
      ],
      "metadata": {
        "colab": {
          "base_uri": "https://localhost:8080/"
        },
        "id": "UQ6mJFvwHsk4",
        "outputId": "93bad896-cb1d-4835-ec09-4b1fe452fb58"
      },
      "execution_count": null,
      "outputs": [
        {
          "output_type": "stream",
          "name": "stdout",
          "text": [
            "hi []\n"
          ]
        }
      ]
    },
    {
      "cell_type": "markdown",
      "source": [
        "Simulation parameters"
      ],
      "metadata": {
        "id": "a3CQw-PoIiUD"
      }
    },
    {
      "cell_type": "code",
      "source": [
        "T = 2500 # % ms\n",
        "dt = 1 \n",
        "time = list(range(dt,T))\n",
        "timeIX = list(range(1, len(time)))"
      ],
      "metadata": {
        "id": "QSoJTgHLJjpu"
      },
      "execution_count": null,
      "outputs": []
    },
    {
      "cell_type": "markdown",
      "source": [
        "Initialisation of the variables"
      ],
      "metadata": {
        "id": "bvr212CfJtqJ"
      }
    },
    {
      "cell_type": "code",
      "source": [
        "# Initialisation of the variables\n",
        "r_E = np.zeros((2,len(time)))\n",
        "r_I = np.zeros((1,len(time)))\n",
        "r_S = np.zeros((1,len(time))) #NMDA\n",
        "\n",
        "drE_dt= np.zeros((2,len(time)))\n",
        "drI_dt= np.zeros((1,len(time)))\n",
        "\n",
        "S_GABA = np.zeros((1,len(time)))\n",
        "S_AMDA = np.zeros((2,len(time)))\n",
        "S_NMDA = np.zeros((1,len(time)))\n",
        "\n",
        "I_syn = np.zeros((4, len(time)))\n",
        "Phi_I = np.zeros((4, len(time)))"
      ],
      "metadata": {
        "id": "-MJhxKVzJvxl"
      },
      "execution_count": 29,
      "outputs": []
    },
    {
      "cell_type": "code",
      "source": [
        "drE_dt[0][3]"
      ],
      "metadata": {
        "colab": {
          "base_uri": "https://localhost:8080/"
        },
        "id": "Cbw3tycoTeOC",
        "outputId": "14cb41e0-3eb7-468f-8999-dabfc7ee70ef"
      },
      "execution_count": 32,
      "outputs": [
        {
          "output_type": "execute_result",
          "data": {
            "text/plain": [
              "0.0"
            ]
          },
          "metadata": {},
          "execution_count": 32
        }
      ]
    },
    {
      "cell_type": "markdown",
      "source": [
        "# Function\n",
        "function Phi => input output function"
      ],
      "metadata": {
        "id": "8SmioBJhKc_-"
      }
    },
    {
      "cell_type": "code",
      "source": [
        "def Phi_I(I_syn, typ) :\n",
        "    a = globals()[''.join(['a', typ])]\n",
        "    b = globals()[''.join(['b', typ])]\n",
        "    hm = globals()[''.join(['hm', typ])]\n",
        "    px = hm * (1 / (1 + math.exp(- (a * I_syn + b))))  \n",
        "    #px = hm * (1 / (1 + np.exp(- (a * I_syn + b))))  \n",
        "    #px = hme * (1 / (1 + math.exp(- (ae * I_syn + be))))\n",
        "    return px"
      ],
      "metadata": {
        "id": "HLul7nVTKddB"
      },
      "execution_count": 58,
      "outputs": []
    },
    {
      "cell_type": "code",
      "source": [
        "dsGaba_dt = (- S_GABA[0, i-1]/tauGABA) + drI_dt[0][i] * dt + I_noise[1]\n",
        "dsGaba_dt"
      ],
      "metadata": {
        "colab": {
          "base_uri": "https://localhost:8080/"
        },
        "id": "1icCX3nQb_gO",
        "outputId": "672c6c44-ba75-4e09-9e3b-1521d8de1b68"
      },
      "execution_count": 109,
      "outputs": [
        {
          "output_type": "execute_result",
          "data": {
            "text/plain": [
              "array([0.1018602])"
            ]
          },
          "metadata": {},
          "execution_count": 109
        }
      ]
    },
    {
      "cell_type": "code",
      "source": [
        "max(0,S_GABA[0,0]) + dsGaba_dt[0] *dt"
      ],
      "metadata": {
        "colab": {
          "base_uri": "https://localhost:8080/"
        },
        "id": "JKhoG3tZlAyM",
        "outputId": "cfe95218-494a-4799-aa28-283c3f76edb6"
      },
      "execution_count": 113,
      "outputs": [
        {
          "output_type": "execute_result",
          "data": {
            "text/plain": [
              "0.00010186020474696374"
            ]
          },
          "metadata": {},
          "execution_count": 113
        }
      ]
    },
    {
      "cell_type": "markdown",
      "source": [
        "# Simulation"
      ],
      "metadata": {
        "id": "XjJs9sVwOl7T"
      }
    },
    {
      "cell_type": "code",
      "source": [
        "for i in range(1, len(time)):\n",
        "    ## / total Synaptic input\n",
        "    I_syn_he = S_AMDA[0, i -1] * Jee - Jie * I_noise[0,] * S_GABA[0,i-1] + Jin * In0 #Jie * wie * S_GABA\n",
        "    I_syn_hm = S_AMDA[0, i -1 ] * Jee\n",
        "    I_syn_hs = Jes * (I_noise[1,] ) * S_AMDA[0, i-1] + Jiq * (Iq0 + S_AMDA[1,i-1])  #(wei * r_S) * S_AMDA[0,]\n",
        "    I_syn_hi = Jei * (I_noise[2,] ) * S_AMDA[0, i-1] - Jii * I_noise[3,] * S_GABA[0,i-1] + Jsi * S_NMDA[0,i-1] #Jii * wii * r_I * S_GABA\n",
        "    Phi_he = Phi_I(I_syn_he, 'e')\n",
        "    Phi_hi = Phi_I(I_syn_hi, 'i')\n",
        "    Phi_hs= Phi_I(I_syn_hs, 'e')\n",
        "    \n",
        "    ## / Rate variable\n",
        "    drE_dt[0][i] = (-r_E[0][i-1] + Phi_he) / taue\n",
        "    drI_dt[0][i] = (-r_I[0][i-1] + Phi_hi) / taui\n",
        "    drE_dt[1][i] = (-r_E[1][i-1] + Phi_hs) / taue\n",
        "\n",
        "    dsaAmpa_dt = (- S_AMDA[0, i-1]/tauAMPA) + drE_dt[0][i] * dt + I_noise[0]\n",
        "    dsGaba_dt = (- S_GABA[0, i-1]/tauGABA) + drI_dt[0][i] * dt + I_noise[1]\n",
        "    dsNMDA_dt = (- S_NMDA[0, i-1] / tauNMDA) + gamma * drE_dt[1][i] *dt + I_noise[2]\n",
        "    #\"Not sure how the sum should be. hm is it dynamic ? or constant ?\" hme or hmi ?\n",
        "    dsmAmpa_dt = (- S_AMDA[1, i-1]/tauAMPA) + I_noise #+ np.sum(hm, 2)\n",
        "    #have to ensure S>=0\n",
        "    S_GABA[0,i] = max(0, S_GABA[0,i - 1]) + dsGaba_dt *dt  #random walk ??\n",
        "    S_NMDA[0,i] = max(0,S_NMDA[0,i - 1]) + dsNMDA_dt *dt  #random walk\n"
      ],
      "metadata": {
        "id": "3w4Z8BYEOz_G"
      },
      "execution_count": 114,
      "outputs": []
    },
    {
      "cell_type": "code",
      "source": [
        "drI_dt"
      ],
      "metadata": {
        "colab": {
          "base_uri": "https://localhost:8080/"
        },
        "id": "2m-6ce0-TREe",
        "outputId": "371ac49f-5e25-485c-80f9-8ca800f45bdd"
      },
      "execution_count": 116,
      "outputs": [
        {
          "output_type": "execute_result",
          "data": {
            "text/plain": [
              "array([[  0.        , 101.52619235, 101.53010589, ..., 101.8301391 ,\n",
              "        101.8301391 , 101.8301391 ]])"
            ]
          },
          "metadata": {},
          "execution_count": 116
        }
      ]
    },
    {
      "cell_type": "code",
      "source": [
        ""
      ],
      "metadata": {
        "id": "GF4BnvjQQ85w"
      },
      "execution_count": null,
      "outputs": []
    },
    {
      "cell_type": "markdown",
      "source": [
        "# Plot"
      ],
      "metadata": {
        "id": "yXAY02wbQ90P"
      }
    },
    {
      "cell_type": "markdown",
      "source": [
        "We want to plot dr at the end for each population over the time"
      ],
      "metadata": {
        "id": "urydQdn1QQM1"
      }
    }
  ]
}