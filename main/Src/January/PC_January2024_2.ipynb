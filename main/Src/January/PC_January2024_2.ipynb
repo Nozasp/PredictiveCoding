{
 "cells": [
  {
   "cell_type": "markdown",
   "metadata": {},
   "source": [
    "- I try this time new format for the inputs of the NLLLoss (prediction and target) and a new optimization loop\n",
    "- I want to reimplment the class calling in the main class model\n",
    "- I want to try to optimize accross target\n",
    "- I try to get inspiration from Alex code organisation\n",
    "- I try to simplify and use easy operation\n",
    "- remove function I used before and I don t need anymore (like plot IO)"
   ]
  },
  {
   "cell_type": "markdown",
   "metadata": {},
   "source": [
    "## Import"
   ]
  },
  {
   "cell_type": "code",
   "execution_count": 8,
   "metadata": {},
   "outputs": [],
   "source": [
    "import pandas as pd\n",
    "import numpy as np\n",
    "import math\n",
    "import sys \n",
    "import torch\n",
    "import torch.nn as nn\n",
    "import torch.nn.functional as F  # F.mse_loss F.softmax\n",
    "import torch.optim as optim #optim.sgd\n",
    "from torchvision import transforms, utils, datasets\n",
    "from torch.utils.data import Dataset, DataLoader, random_split, SubsetRandomSampler, WeightedRandomSampler\n",
    "from torch.utils.data import TensorDataset, DataLoader  # for batch and split Xtrain Ytrain dataset\n",
    "import scipy\n",
    "import scipy.ndimage as nd\n",
    "from scipy.stats import norm\n",
    "from scipy.optimize import minimize\n",
    "from scipy.interpolate import griddata\n",
    "from scipy import special\n",
    "\n",
    "from locale import format\n",
    "from dataclasses import dataclass, MISSING\n",
    "\n",
    "import seaborn as sns\n",
    "import plotly.graph_objects as go\n",
    "import matplotlib.pyplot as plt\n",
    "from mpl_toolkits.mplot3d import Axes3D\n",
    "\n",
    "from icecream import ic  # for debugging. print variable name\n",
    "\n",
    "from PC_param import default_parameters_network # To get the parameters\n",
    "pars = default_parameters_network()"
   ]
  },
  {
   "cell_type": "markdown",
   "metadata": {},
   "source": [
    "## Functions"
   ]
  },
  {
   "cell_type": "code",
   "execution_count": 9,
   "metadata": {},
   "outputs": [],
   "source": [
    "\"\"\" Plot HeatMap of firing rate function\"\"\"\n",
    "def HeatMap(rE, rI, J=None):\n",
    "    if J == None:\n",
    "        J = [.00989, 0.0081, .1, .87, .00081]  # J = dict(Jin=.008, Jee= .2, Jie=.2, Jei=1.4, Jii=6.7)\n",
    "    if type(J) == dict:\n",
    "        J = np.array(list(J.values()))\n",
    "\n",
    "    rE_df = pd.DataFrame(rE.T)  # to get time vs pop\n",
    "    rI_df = pd.DataFrame(rI.T)\n",
    "    rE_df.index = rE_df.index + 1\n",
    "    rI_df.index = rI_df.index + 1\n",
    "    rE_df.index.name, rI_df.index.name = [\"Excitatory Population\", \"Inhibitory Population\"]\n",
    "    rE_df.columns.name, rI_df.columns.name = [\"Time ms\", \"Time ms\"]\n",
    "    # print(rE_df.loc[[10]])\n",
    "\n",
    "    # set context for the upcoming plot\n",
    "    sns.set_context(\"notebook\", font_scale=.8, rc={\"lines.linewidth\": 2.5, 'font.family': 'Helvetica'})\n",
    "\n",
    "    fig, (axA, axB) = plt.subplots(2, 1, figsize=(6, 6))\n",
    "\n",
    "    sns.heatmap(rE_df, ax=axA, cmap=\"viridis\")\n",
    "    sns.heatmap(rI_df, ax=axB)\n",
    "    axA.set_title(f\"Firing rate in Hz of exc populations over time. Jie: {J[2]}, Jee: {J[1]}, Jin: {J[0]}\",\n",
    "                  fontdict={\"fontsize\": 10})\n",
    "    axB.set_title(f\"Firing rate in Hz of inh populations over time. Jei: {J[3]}, Jii: {J[4]}\",\n",
    "                  fontdict={\"fontsize\": 10})\n",
    "    plt.tight_layout()\n",
    "    plt.show()\n",
    "\n",
    "\n",
    "\"\"\" Filters gauss and Dog and LoG\"\"\"\n",
    "def gaussian_filter(s, N):\n",
    "    pop = np.arange(1, N + 1)\n",
    "    n = 1 / (np.sqrt(2 * np.pi) * N * s)\n",
    "    gaussW = n * np.exp(-(pop - pop[:, np.newaxis]) ** 2 / (2 * s ** 2))\n",
    "    gaussW2 = gaussW / (.009 ** 2 / np.max(gaussW))  # 1\n",
    "    return gaussW2\n",
    "\n",
    "def dog_filter(sOut, N):\n",
    "    sIn = sOut / 30\n",
    "    pop = np.arange(1, N + 1)\n",
    "    gaussIn = np.exp(-(pop - pop[:, np.newaxis]) ** 2 / (2 * sIn ** 2))\n",
    "    gaussOut = np.exp(-(pop - pop[:, np.newaxis]) ** 2 / (2 * sOut ** 2))\n",
    "    dog = gaussOut - gaussIn\n",
    "    if np.max(dog) == 0 or None:\n",
    "        print('zero max')\n",
    "        dog = 0\n",
    "    else:\n",
    "        dog = dog / (.042 ** 2 / np.max(dog))  # .0088\n",
    "    return dog\n",
    "\n",
    "def LoG_filter(s, N):\n",
    "    x_lap = np.eye(N)\n",
    "    lapl_filter = nd.gaussian_laplace(x_lap, sigma=(s, s))\n",
    "    return lapl_filter\n",
    "\n",
    "\n",
    "def dLogGaus(s=.61, N=20):\n",
    "    dig = LoG_filter(s, N) + gaussian_filter(.019 * s, N)\n",
    "    return dig\n",
    "\n",
    "\n",
    "\"\"\"\n",
    " Normalization or transform to probability\n",
    "\"\"\"\n",
    "\n",
    "def make_it_proba(r_e):\n",
    "    eps = torch.FloatTensor([sys.float_info.epsilon]) #torch.FloatTensor\n",
    "    r_e_max = torch.max(r_e, eps.expand_as(r_e))\n",
    "    threshold = 5# torch.FloatTensor([5]).expand_as(r_e[10,:])\n",
    "    sum_r_e = torch.sum(r_e, 1).reshape(r_e.shape[0], 1)\n",
    " \n",
    "    prob_r= 0.5 * (1 + torch.tanh(sum_r_e - threshold))*(r_e_max / sum_r_e) #r_e_max.sum())\n",
    "    return prob_r #.reshape(r_e.shape[0], r_e.shape[1]) \n",
    "\n",
    "def softmax(x):\n",
    "    return torch.exp(x) / torch.sum(torch.exp(x), axis=1, keepdims=True)\n",
    "\n",
    "\n",
    "''' Classic Normalization\n",
    "use:\n",
    "#preprocessing.normalize(re_numpy, axis= 0)[20,:].sum()\n",
    "\n",
    "or use:\n",
    "'''\n",
    "def normalize(x):\n",
    "    N = (x - x.min()) / (x.max() - x.min())\n",
    "    return N\n",
    "\n",
    "\n",
    "\"\"\"\n",
    "Differentiable function for back propagation\n",
    "\n",
    "To avoid non-differentiable araising from discontinuity of the function, I \"relax\" (smoothen) the where() expression by using a sigmoid instead\n",
    "*   with grad_fn:\n",
    "*   if I get : > <SumBackward1 object at 0x7f79da0b9520> # differentiable\n",
    "*   else I get none\n",
    "\"\"\"\n",
    "def relu_stim(x, stim):\n",
    "    return torch.nn.functional.relu(1.0 - torch.abs(x - stim),\n",
    "                                    inplace=False)  # inplace = False to avoid implace operation\n",
    "\n",
    "def Dirac(A, N=pars[\"NumN\"]):\n",
    "    y = scipy.signal.unit_impulse(N, idx=(torch.max(torch.argmax(A))))  \n",
    "    return torch.tensor(y)\n",
    "\n",
    "def replace_argmax(r):\n",
    "    # along some dimension (e.g., the last dimension).\n",
    "    indices = torch.arange(r.shape[-1]).to(r.device)\n",
    "    return torch.gather(indices, dim=-1, index=torch.argmax(r, dim=-1)).max()\n",
    "\n",
    "\n",
    "\n",
    "\n",
    "\"\"\" Target design: Get the expected stimuli and then create a matrix of 1 where stimuli 0 elsewhere\"\"\"\n",
    "\n",
    "def get_stimuli_input(X_train_tensor):  # input of the shape Xtrain_tensor[5,:,:]\n",
    "    Xargmax = torch.argmax(X_train_tensor, dim=1) #consider replacing argmax by replace_argmax\n",
    "    Xmax = torch.max(Xargmax)\n",
    "    return Xmax\n",
    "\n",
    "def get_expected_Y_relu(X_train_tensor):\n",
    "    x_t = torch.transpose(X_train_tensor, 0, 1)\n",
    "    dirac_2d = torch.zeros(x_t.shape)\n",
    "    stim = get_stimuli_input(\n",
    "        X_train_tensor)  # input of the shape Xtrain_tensor[5,:,:] # here get_stimuli not differenciable\n",
    "    \n",
    "    for pop, t in enumerate(x_t):\n",
    "        tpop = torch.tensor(pop)# replace where function by relu functio which is differentiable\n",
    "        dirac_2d[pop, :] = torch.nn.functional.relu(1.0 - torch.abs(tpop - stim), inplace=False).requires_grad_(False)\n",
    "    dirac_2d = torch.transpose(dirac_2d, 1, 0)\n",
    "    return dirac_2d\n",
    "\n",
    "\n",
    "\n",
    "\"\"\" \n",
    "Optimization function\n",
    "Make a function which save parameters of trained model and upload the new model with the updated parameters\n",
    "\"\"\"\n",
    "\n",
    "def model_with_saved_trained_param(old_model, optimizer, Model, param, sim, dicJ):\n",
    "    # or to save the parameters only\n",
    "    torch.save(old_model.state_dict(),\"Old_model_optimized_parameters.pth\")\n",
    "    torch.save(optimizer.state_dict(),\"optimizer_optimized_parameters.pth\")\n",
    "    #load these parameters in a new model instance\n",
    "    new_mymodel = Model(param, sim, dicJ)\n",
    "    new_mymodel.load_state_dict(torch.load(\"Old_model_optimized_parameters.pth\")) \n",
    "    optimizer.load_state_dict(torch.load('optimizer_optimized_parameters.pth'))\n",
    "\n",
    "    #print(optimizer.param_groups[0]['params'])\n",
    "    if old_model.Jee == new_mymodel.Jee:\n",
    "        print(\"it works\")\n",
    "    print(\"old model Jee:\",old_model.Jee,\"new model Jee:\", new_mymodel.Jee)\n",
    "    #print(optimizer.param_groups)\n",
    "    #print(optimizer.state)\n",
    "    return new_mymodel, optimizer\n",
    "\n",
    "\n",
    "def load_weights(newmodel, modelpath): #string\n",
    "        if '.pt' not in modelpath:\n",
    "            modelpath += '.pt'      \n",
    "        newmodel.load_state_dict(torch.load(modelpath))\n",
    "        #new_mymodel = Model(param, sim, model.state_dict())\n",
    "        return newmodel #, newmodel.state_dict() to access the param\n",
    "    \n",
    "def save_weights(oldmodel, modelpath, epoch=None):  #string\n",
    "    if '.pt' not in modelpath:\n",
    "            modelpath += '.pt'\n",
    "    torch.save(oldmodel.state_dict(), modelpath)\n",
    "\n",
    "    \n",
    "\n",
    "\"\"\"\n",
    "Model evaluation\n",
    "\n",
    "function wich test the accuracy of a model with new parameters compared to expected results + loss values for every samples\n",
    "\"\"\"\n",
    "def test_model(model, test_dataloader, loss_f):\n",
    "    model.eval()  # Set the model to evaluation mode\n",
    "    test_loss = 0.0\n",
    "    correct_predictions = 0\n",
    "    total_samples = 0\n",
    "\n",
    "    with torch.no_grad():\n",
    "        for x_test, y_test in test_dataloader:\n",
    "            # Calculate output\n",
    "            Y_prediction, _, dredt, dridt = model(x_test[0])\n",
    "            #Y_prediction_prob = make_it_proba(Y_prediction)\n",
    "\n",
    "            # Calculate loss\n",
    "            #loss = loss_f(Y_prediction_prob, y_test[0], dredt, dridt)\n",
    "            loss = loss_f(Y_prediction, y_test[0], dredt, dridt)\n",
    "\n",
    "            # Accuracy\n",
    "            predictions = Y_prediction.detach().round() # rounds the predictions to the nearest integer (0 or 1), assuming they represent probabilities.\n",
    "            #predictions = Y_prediction_prob.detach().round() # rounds the predictions to the nearest integer (0 or 1), assuming they represent probabilities.\n",
    "            correct_predictions += (predictions == y_test[0]).sum().item() # calculates the number of correct predictions by comparing the rounded predictions with the true labels (y_test). It sums up the correct predictions over the batch.\n",
    "            total_samples += y_test[0].numel() # adds the total number of samples/item in the current batch to the overall count.\n",
    "\n",
    "            test_loss += loss.item()\n",
    "\n",
    "    accuracy = correct_predictions / total_samples\n",
    "    average_loss = test_loss / len(test_dataloader)\n",
    "\n",
    "    print(f'Test Accuracy: {accuracy:.4f}, Test Loss: {average_loss:.4f}')\n",
    "    return accuracy, average_loss\n",
    "\n",
    "\n",
    "\n",
    "\"\"\" \n",
    "LOSS\n",
    "\"\"\"\n",
    "\n",
    "def easyLoss(Y_pred_prob,target):\n",
    "    #loss = torch.sum(torch.sum((Y_prediction_prob-Y_target), axis =1))\n",
    "    return torch.mean((Y_pred_prob - target)**2)\n"
   ]
  },
  {
   "cell_type": "markdown",
   "metadata": {},
   "source": [
    "- replace argmax by replace_argmax\n",
    "- do like alex for the save and load parameters (load_weights): make 2 seperated functions included into the class model . if modelpath exists,then the old parameter are called\n",
    "https://github.com/qtabs/goin/blob/main/goin.py\n",
    "\n",
    "- consider making a class \"create a target\" .  this can be more dynamic "
   ]
  },
  {
   "cell_type": "markdown",
   "metadata": {},
   "source": [
    "## Class"
   ]
  },
  {
   "cell_type": "markdown",
   "metadata": {},
   "source": [
    "### Simple Class"
   ]
  },
  {
   "cell_type": "code",
   "execution_count": 10,
   "metadata": {},
   "outputs": [],
   "source": [
    "\n",
    "# ***************** CLASS ***************************************\n",
    "\n",
    "@dataclass\n",
    "class Parameter:\n",
    "    # °°° Load the parameters °°°\n",
    "    taue: float = pars[\"taue\"]\n",
    "    ae: float = pars['ae']\n",
    "    be, hme, I_noise = pars['be'], pars['hme'], pars['I_noise']\n",
    "    Jee: float = pars['Jee']\n",
    "    taui, ai, bi, hmi = pars['taui'], pars['ai'], pars['bi'], pars['hmi']\n",
    "    tauNMDA, tauAMPA, tauGABA = pars['tauNMDA'], pars['tauAMPA'], pars['tauGABA']\n",
    "    gamma: float = pars['gamma']  # nmda coupling parameter from brunel\n",
    "    c_dash = pars['c_dash']\n",
    "    sigma = pars['sigma']  # param.sigma = .0007 for Noise\n",
    "    I_noise = pars['sigma'] * np.random.randn(3, 1)\n",
    "    I1 = pars['Jext'] * pars['mu0'] * (1 + pars['c_dash'] / 100)\n",
    "    I2 = pars['Jext'] * pars['mu0'] * (1 - pars['c_dash'] / 100)\n",
    "    # I1, I2 = pars['I1'], pars['I2']\n",
    "    sigmaIn = pars['sigmaIn']\n",
    "\n",
    "    # Input parameters\n",
    "    In0 = pars['In0']  # % Spontaneous firing rate of input populations (Hz)\n",
    "    InMax = pars['InMax']  # % Max firing rate of input populations (Hz)\n",
    "    Iq0 = pars['Iq0']  # % Spontaneous firing rate of feedback populations (Hz)\n",
    "    IqMax = pars['IqMax']  # % Max firing rate of feedback populations (Hz)\n",
    "\n",
    "    # Gaussian filter\n",
    "    # sIn = pars['sigmaInh'][0]\n",
    "    # sOut = pars['sigmaInh'][1]\n",
    "\n",
    "    #°°° Hard encode these parameters °°°\n",
    "    Jii: float = pars['Jii']\n",
    "    Jei: float = pars['Jei']\n",
    "    Jie: float = pars['Jie']\n",
    "    Jes, Jsi = pars['Jes'], pars['Jsi']\n",
    "    Jiq: float = pars['Jiq']  # 0.85; #nA\n",
    "    Jin: float = pars['Jin']\n",
    "    #N=20, sIn=.1, sOut=3., sEI=.2\n",
    "    def __init__(self, sEI=.2, sIn=.1, sOut=3., N=20):  # sEI=4, sIn=.2, sOut=1.2,\n",
    "        # Weights (from gaussian filter)\n",
    "        self.N = N  # pars['NumN']\n",
    "        self.wei = torch.tensor(dog_filter(sOut, int(N)), dtype=torch.float32)   # .astype( torch.float32))  # , dtype='float64'# fun.dLogGaus(.61, N)  #fun.dog_filter(sIn, sOut, N)#gaussian_filter(sEI, N)\n",
    "        self.wii = torch.tensor(np.eye(int(N)), dtype=torch.float32) #.astype(torch.float32))  # dog_filter(sIn, sOut, N)#np.eye(N) #\n",
    "        self.wie = torch.tensor(gaussian_filter(sEI, int(N)), dtype=torch.float32) #.astype(torch.float32))  # dog_filter(sIn, sOut, N)\n",
    "        self.wes = torch.tensor(np.eye(int(N)), dtype=torch.float32)  #.astype(torch.float32))  # Identity matrix\n",
    "        self.f = np.arange(1, N + 1)\n",
    "        self.sEI = sEI\n",
    "        self.sIn = sIn\n",
    "        self.sOut = sOut\n",
    "\n",
    "    def reset(self):  # https://stackoverflow.com/questions/56878667/setting-default-values-in-a-class\n",
    "\n",
    "        for name, field in self.__dataclass_fields__.items():\n",
    "            if field.default != MISSING:\n",
    "                setattr(self, name, field.default)\n",
    "            else:\n",
    "                setattr(self, name, field.default_factory())\n",
    "\n",
    "\n",
    "# °°° Time of the simulation °°°\n",
    "class Simulation:\n",
    "    def __init__(self, dt, T):\n",
    "        self.dt = dt\n",
    "        self.T = T\n",
    "        self.range_t = (np.arange(0, self.T, self.dt))\n",
    "        self.Lt = self.range_t.size\n",
    "\n",
    "    def printSim(self):\n",
    "        print(\"Time step of the simulation (dt):\", self.dt, \"  Duration of simulation (T):\", self.T,\"s\",\n",
    "              \"  Length of the time frame (Lt):\", self.Lt)\n",
    "\n",
    "\n",
    "#  °°° Initialisation of the variables °°°\n",
    "\n",
    "class Stim:\n",
    "    def __init__(self, param, simu, f, ISI=0, dur=0.05):#ISI=0.5, dur=0.2): #ISI=1, dur=0.2   # 8 #[10]\n",
    "        self.f = f  # array of frequency stimulus types\n",
    "        self.ISI = ISI  # inter-stimulus interval\n",
    "        self.dur = dur  # duration in s of a specific stimulus segment . The time the frequency fi ll be maintained in the f array\n",
    "        self.tail = 0\n",
    "        self.predDt = 0\n",
    "        self.pred = 0\n",
    "        self.InMax = param.InMax\n",
    "        self.In0 = param.In0\n",
    "\n",
    "        # Instantaneous frequency\n",
    "        #f_instant = np.zeros((int(self.ISI / simu.dt) + 1, 1))  # size ISI : 1 /dt : 1000\n",
    "\n",
    "        for fx in self.f: #+2 to not lose dimension ! becareful! \n",
    "            fx_array = np.concatenate((np.ones((int(self.dur / simu.dt)+2, 1)) * fx,\n",
    "                                       # just 1 frequency of 8 . # inter-stim interval is aslong as stim interval\n",
    "                                       np.zeros((int(self.ISI / simu.dt),\n",
    "                                                 1))))  # so I get 1 list with 1000 lists containing 8 and 1000 lists containing 0\n",
    "    \n",
    "        f_stim = fx_array # np.vstack((f_instant, fx_array))  # stack vertically these arrays # [0] *1000 , [8]*1000, [0]*1000\n",
    "        self.f_stim = f_stim[1:]  # 1400*1\n",
    "        #ic(len(f_stim))\n",
    "\n",
    "    # bottom up sensory Input # duration 1sec\n",
    "    def sensoryInput(self, parameter, simu, sigmaIn=None, N=20, f_stim=None, InMax=None, In0=None):\n",
    "        paramf = np.arange(1, N+1)\n",
    "        \n",
    "        #mask the ground truth f_stim by a gaussian function\n",
    "        w = np.exp(-(((paramf) - (self.f_stim)) ** 2) / (\n",
    "                2 * (sigmaIn or parameter.sigmaIn) ** 2))  # pars['f'] = 1:N\n",
    "        #ic((w).shape)\n",
    "        #if I want to normalize w:\n",
    "        # totalAct = w.sum(axis = 1) #sum over each row\n",
    "        # norm_w = (w.T / totalAct).T # elementwise division\n",
    "        \n",
    "        In = np.where(f_stim or self.f_stim > 0, (InMax or self.InMax) * w + (In0 or self.In0),\n",
    "                      0)  # if stim >0 give InMax * weight + In0 otherwise give 0\n",
    "        if self.tail != 0:\n",
    "            tail_zeros = np.zeros((parameter.N +1, int(self.tail / simu.dt)))\n",
    "            In = np.hstack((In, tail_zeros))\n",
    "\n",
    "        range_sim = np.arange(1, In.shape[0] + 1)\n",
    "        len_sim = len(range_sim)\n",
    "        self.In = In\n",
    "        self.w = w\n",
    "        self.sigmaIn = sigmaIn\n",
    "\n",
    "        return In, range_sim, len_sim ,w, sigmaIn\n",
    "\n",
    "    def printStim(self):\n",
    "        print(\"frequence of stimulus f:\", self.f, \"  ISI:\", self.ISI,\"s\",\"  Size In\", self.In.shape, \"Size w:\",\n",
    "              self.w.shape, \"  f_stim = total length simulation:\", self.f_stim.shape,\n",
    "              \"sigmaIn:\", self.sigmaIn)\n",
    "\n",
    "\n"
   ]
  },
  {
   "cell_type": "markdown",
   "metadata": {},
   "source": [
    "### Classs Model"
   ]
  },
  {
   "cell_type": "code",
   "execution_count": 11,
   "metadata": {},
   "outputs": [
    {
     "data": {
      "text/plain": [
       "\"\\n\\n\\nclass Model(nn.Module):\\n    def __init__(self, param, sim, dicJ):\\n        super(Model, self).__init__()\\n\\n        #--- Define other model parameters, layers, or components here if needed\\n        self.dt = sim.dt #torch.tensor(1e-4) #\\n        self.N = param.N #20\\n        self.taue = self.taui = torch.tensor(param.taue) #torch.tensor(0.005)\\n         # ¤ parameter of the phi function Not tweakable parameters\\n        self.ae = torch.tensor(param.ae)# 18.26)  # 2 #Wong have to check # Modelling and Meg Gain of the E populaiton\\n        self.be = torch.tensor(param.be) #-5.38)  # Threshold of the E populaiton\\n        self.hme = torch.tensor(param.hme)#78.67)\\n        self.ai = torch.tensor(param.ai)#21.97)\\n        self.bi = torch.tensor(param.bi)#-4.81)\\n        self.hmi = torch.tensor(param.hmi)#125.62)\\n        #create the smallest possible number\\n        self.epsilon = sys.float_info.epsilon\\n\\n        self.sIn = torch.tensor(.1)\\n        self.sOut= 3.\\n        self.sEI = .2\\n        self.tauAMPA = torch.tensor(0.002)\\n        self.tauGABA = torch.tensor(0.005)\\n\\n        self.wei = torch.tensor(dog_filter(self.sOut, int(self.N)), dtype=torch.float32)\\n        self.wii = torch.tensor(np.eye(int(self.N)), dtype=torch.float32) # dog_filter(sIn, sOut, N)#np.eye(N) #\\n        self.wie = torch.tensor(gaussian_filter(self.sEI, int(self.N)), dtype=torch.float32) #.astype(torch.float32))  # dog_filter(sIn, sOut, N)\\n        self.wes = torch.tensor(np.eye(int(self.N)), dtype=torch.float32)  # Identity matrix\\n\\n\\n        # initial parameters\\n        #self.dicJ = dicJ #kwargs\\n        #    self.Jee = nn.Parameter(torch.tensor(0.072, requires_grad= True, dtype= torch.float64))#, requires_grad=False, dtype=torch.float32)#I replaced .072 by 0.072\\n        #ic(self.Jee.grad_fn) #should be none\\n        #self.Jei = nn.Parameter(torch.tensor(0.004, requires_grad= True, dtype= torch.float64))\\n        #self.Jie = nn.Parameter(torch.tensor(0.05, requires_grad=True, dtype=torch.float64))\\n        #self.Jii = nn.Parameter(torch.tensor(0.6, requires_grad=True, dtype=torch.float64))\\n        #self.Jin = nn.Parameter(torch.tensor(0.00695, requires_grad= True, dtype=torch.float64))\\n\\n        self.Jee = nn.Parameter(torch.tensor(self.dicJ['Jee'], requires_grad = True, dtype=torch.float64))\\n        self.Jei = nn.Parameter(torch.tensor(self.dicJ['Jei'], requires_grad = True, dtype=torch.float64))\\n        self.Jie = nn.Parameter(torch.tensor(self.dicJ['Jie'], requires_grad = True, dtype=torch.float64))\\n        self.Jii = nn.Parameter(torch.tensor(self.dicJ['Jii'], requires_grad = True, dtype=torch.float64))\\n        self.Jin = nn.Parameter(torch.tensor(self.dicJ['Jin'], requires_grad = True, dtype=torch.float64))\\n \\n \\n    def load_weights(self, modelpath): #string\\n        self.model.load_state_dict(torch.load(modelpath))\\n        self.model.gru.flatten_parameters() \\n    \\n    def save_weights(self, modelpath, epoch=None):  #string\\n         torch.save(self.model.state_dict(), modelpath)\\n          \\n\\t\\t\\n\\n    def phi(self, I_tot, a, b, hm): #)))  # this use a lot of memory - exponential part\\n        #multi= torch.nan_to_num((torch.mul(a, I_tot) + b), nan = self.epsilon, posinf=140, neginf=self.epsilon)\\n\\n        for i in range(I_tot.shape[0]):\\n                if torch.isnan(I_tot[i])== True:\\n                    ic(I_tot, i)\\n                    quit()\\n                    sys.exit() #sys.\\n        mulaI =torch.mul(a, I_tot)\\n        addB= mulaI + b\\n        expo = torch.exp(- (addB))  #.abs()+ self.epsilon)\\n        return torch.multiply(hm, torch.divide(1, (1+ expo)))\\n\\n    def forward(self, In):\\n        #--- Initialize model variables here\\n        prev_r_e = torch.zeros((In.shape[0], self.N)) # torch.ones(self.N) shows more obvious results\\n        prev_r_i = torch.zeros((In.shape[0], self.N))\\n        prev_s_ampa = torch.zeros((In.shape[0], self.N))\\n        prev_s_gaba = torch.zeros((In.shape[0], self.N))\\n        dr_e_dt = torch.zeros((In.shape[0], self.N))\\n        dr_i_dt = torch.zeros((In.shape[0], self.N))\\n        s_ampa = torch.tensor(0.)\\n        i_tot_e = torch.tensor(0.)\\n        i_tot_i = torch.tensor(0.)\\n\\n        for k in range(1, In.shape[0]):\\n            #--- Compute values of interest\\n            #the operation Jee_re = self.Jee * prev_r_e => triggers inplace error\\n            s_gaba_wie = prev_s_gaba[k-1,:] @ self.wie\\n            s_ampa_wei = prev_s_ampa[k-1,:] @ self.wei\\n            s_gaba_wii = prev_s_gaba[k-1,:] @ self.wii\\n            i_tot_e = (self.Jee * s_ampa) - (self.Jie * s_gaba_wie) + (self.Jin*  In[k - 1, :])\\n            i_tot_i = (self.Jei * s_ampa_wei) - (self.Jii * s_gaba_wii)\\n\\n            phi_arr_e = self.phi(i_tot_e, self.ae, self.be, self.hme)\\n            phi_arr_i = self.phi(i_tot_i, self.ai, self.bi, self.hmi)\\n\\n            dr_e_dt[k,:] = (-prev_r_e[k - 1, :] + phi_arr_e) / self.taue\\n            dr_i_dt[k,:] = (-prev_r_i[k - 1, :] + phi_arr_i) / self.taui\\n\\n            r_e = prev_r_e[k - 1, :] + dr_e_dt[k,:] * self.dt\\n            r_i = prev_r_i[k - 1, :] + dr_i_dt[k,:] * self.dt\\n\\n            dS_amp_dt = (- prev_s_ampa[k - 1, :] / self.tauAMPA) + r_e\\n            s_ampa = prev_s_ampa[k - 1, :] + dS_amp_dt * self.dt\\n\\n            dS_gab_dt = (- prev_s_gaba[k - 1, :] / self.tauGABA) + r_i\\n            s_gaba = prev_s_gaba[k - 1, :] + dS_gab_dt * self.dt\\n\\n            prev_r_e[k,:] = r_e\\n            prev_r_i[k,:] = r_i\\n            prev_s_ampa[k,:] = s_ampa\\n            prev_s_gaba[k,:] = s_gaba\\n\\n\\n        return prev_r_e, prev_r_i, dr_e_dt, dr_i_dt\""
      ]
     },
     "execution_count": 11,
     "metadata": {},
     "output_type": "execute_result"
    }
   ],
   "source": [
    "\"\"\"\"\"\"\n",
    "\"\"\"\"\"*\n",
    "*\n",
    "***********  CLASS MYMODEL\n",
    "*\n",
    "*\"\"\"\"\"\n",
    "\"\"\"\n",
    "\n",
    "\n",
    "class Model(nn.Module):\n",
    "    def __init__(self, param, sim, dicJ):\n",
    "        super(Model, self).__init__()\n",
    "\n",
    "        #--- Define other model parameters, layers, or components here if needed\n",
    "        self.dt = sim.dt #torch.tensor(1e-4) #\n",
    "        self.N = param.N #20\n",
    "        self.taue = self.taui = torch.tensor(param.taue) #torch.tensor(0.005)\n",
    "         # ¤ parameter of the phi function Not tweakable parameters\n",
    "        self.ae = torch.tensor(param.ae)# 18.26)  # 2 #Wong have to check # Modelling and Meg Gain of the E populaiton\n",
    "        self.be = torch.tensor(param.be) #-5.38)  # Threshold of the E populaiton\n",
    "        self.hme = torch.tensor(param.hme)#78.67)\n",
    "        self.ai = torch.tensor(param.ai)#21.97)\n",
    "        self.bi = torch.tensor(param.bi)#-4.81)\n",
    "        self.hmi = torch.tensor(param.hmi)#125.62)\n",
    "        #create the smallest possible number\n",
    "        self.epsilon = sys.float_info.epsilon\n",
    "\n",
    "        self.sIn = torch.tensor(.1)\n",
    "        self.sOut= 3.\n",
    "        self.sEI = .2\n",
    "        self.tauAMPA = torch.tensor(0.002)\n",
    "        self.tauGABA = torch.tensor(0.005)\n",
    "\n",
    "        self.wei = torch.tensor(dog_filter(self.sOut, int(self.N)), dtype=torch.float32)\n",
    "        self.wii = torch.tensor(np.eye(int(self.N)), dtype=torch.float32) # dog_filter(sIn, sOut, N)#np.eye(N) #\n",
    "        self.wie = torch.tensor(gaussian_filter(self.sEI, int(self.N)), dtype=torch.float32) #.astype(torch.float32))  # dog_filter(sIn, sOut, N)\n",
    "        self.wes = torch.tensor(np.eye(int(self.N)), dtype=torch.float32)  # Identity matrix\n",
    "\n",
    "\n",
    "        # initial parameters\n",
    "        #self.dicJ = dicJ #kwargs\n",
    "        #    self.Jee = nn.Parameter(torch.tensor(0.072, requires_grad= True, dtype= torch.float64))#, requires_grad=False, dtype=torch.float32)#I replaced .072 by 0.072\n",
    "        #ic(self.Jee.grad_fn) #should be none\n",
    "        #self.Jei = nn.Parameter(torch.tensor(0.004, requires_grad= True, dtype= torch.float64))\n",
    "        #self.Jie = nn.Parameter(torch.tensor(0.05, requires_grad=True, dtype=torch.float64))\n",
    "        #self.Jii = nn.Parameter(torch.tensor(0.6, requires_grad=True, dtype=torch.float64))\n",
    "        #self.Jin = nn.Parameter(torch.tensor(0.00695, requires_grad= True, dtype=torch.float64))\n",
    "\n",
    "        self.Jee = nn.Parameter(torch.tensor(self.dicJ['Jee'], requires_grad = True, dtype=torch.float64))\n",
    "        self.Jei = nn.Parameter(torch.tensor(self.dicJ['Jei'], requires_grad = True, dtype=torch.float64))\n",
    "        self.Jie = nn.Parameter(torch.tensor(self.dicJ['Jie'], requires_grad = True, dtype=torch.float64))\n",
    "        self.Jii = nn.Parameter(torch.tensor(self.dicJ['Jii'], requires_grad = True, dtype=torch.float64))\n",
    "        self.Jin = nn.Parameter(torch.tensor(self.dicJ['Jin'], requires_grad = True, dtype=torch.float64))\n",
    " \n",
    " \n",
    "    def load_weights(self, modelpath): #string\n",
    "        self.model.load_state_dict(torch.load(modelpath))\n",
    "        self.model.gru.flatten_parameters() \n",
    "    \n",
    "    def save_weights(self, modelpath, epoch=None):  #string\n",
    "         torch.save(self.model.state_dict(), modelpath)\n",
    "          \n",
    "\t\t\n",
    "\n",
    "    def phi(self, I_tot, a, b, hm): #)))  # this use a lot of memory - exponential part\n",
    "        #multi= torch.nan_to_num((torch.mul(a, I_tot) + b), nan = self.epsilon, posinf=140, neginf=self.epsilon)\n",
    "\n",
    "        for i in range(I_tot.shape[0]):\n",
    "                if torch.isnan(I_tot[i])== True:\n",
    "                    ic(I_tot, i)\n",
    "                    quit()\n",
    "                    sys.exit() #sys.\n",
    "        mulaI =torch.mul(a, I_tot)\n",
    "        addB= mulaI + b\n",
    "        expo = torch.exp(- (addB))  #.abs()+ self.epsilon)\n",
    "        return torch.multiply(hm, torch.divide(1, (1+ expo)))\n",
    "\n",
    "    def forward(self, In):\n",
    "        #--- Initialize model variables here\n",
    "        prev_r_e = torch.zeros((In.shape[0], self.N)) # torch.ones(self.N) shows more obvious results\n",
    "        prev_r_i = torch.zeros((In.shape[0], self.N))\n",
    "        prev_s_ampa = torch.zeros((In.shape[0], self.N))\n",
    "        prev_s_gaba = torch.zeros((In.shape[0], self.N))\n",
    "        dr_e_dt = torch.zeros((In.shape[0], self.N))\n",
    "        dr_i_dt = torch.zeros((In.shape[0], self.N))\n",
    "        s_ampa = torch.tensor(0.)\n",
    "        i_tot_e = torch.tensor(0.)\n",
    "        i_tot_i = torch.tensor(0.)\n",
    "\n",
    "        for k in range(1, In.shape[0]):\n",
    "            #--- Compute values of interest\n",
    "            #the operation Jee_re = self.Jee * prev_r_e => triggers inplace error\n",
    "            s_gaba_wie = prev_s_gaba[k-1,:] @ self.wie\n",
    "            s_ampa_wei = prev_s_ampa[k-1,:] @ self.wei\n",
    "            s_gaba_wii = prev_s_gaba[k-1,:] @ self.wii\n",
    "            i_tot_e = (self.Jee * s_ampa) - (self.Jie * s_gaba_wie) + (self.Jin*  In[k - 1, :])\n",
    "            i_tot_i = (self.Jei * s_ampa_wei) - (self.Jii * s_gaba_wii)\n",
    "\n",
    "            phi_arr_e = self.phi(i_tot_e, self.ae, self.be, self.hme)\n",
    "            phi_arr_i = self.phi(i_tot_i, self.ai, self.bi, self.hmi)\n",
    "\n",
    "            dr_e_dt[k,:] = (-prev_r_e[k - 1, :] + phi_arr_e) / self.taue\n",
    "            dr_i_dt[k,:] = (-prev_r_i[k - 1, :] + phi_arr_i) / self.taui\n",
    "\n",
    "            r_e = prev_r_e[k - 1, :] + dr_e_dt[k,:] * self.dt\n",
    "            r_i = prev_r_i[k - 1, :] + dr_i_dt[k,:] * self.dt\n",
    "\n",
    "            dS_amp_dt = (- prev_s_ampa[k - 1, :] / self.tauAMPA) + r_e\n",
    "            s_ampa = prev_s_ampa[k - 1, :] + dS_amp_dt * self.dt\n",
    "\n",
    "            dS_gab_dt = (- prev_s_gaba[k - 1, :] / self.tauGABA) + r_i\n",
    "            s_gaba = prev_s_gaba[k - 1, :] + dS_gab_dt * self.dt\n",
    "\n",
    "            prev_r_e[k,:] = r_e\n",
    "            prev_r_i[k,:] = r_i\n",
    "            prev_s_ampa[k,:] = s_ampa\n",
    "            prev_s_gaba[k,:] = s_gaba\n",
    "\n",
    "\n",
    "        return prev_r_e, prev_r_i, dr_e_dt, dr_i_dt\"\"\"\n"
   ]
  },
  {
   "cell_type": "code",
   "execution_count": 12,
   "metadata": {},
   "outputs": [],
   "source": [
    "\"\"\"\n",
    "*\n",
    "*\n",
    "***********  CLASS MYMODEL\n",
    "*\n",
    "*\n",
    "\"\"\"\n",
    "\n",
    "\n",
    "class Model(nn.Module):\n",
    "    def __init__(self, param, sim, dicJ):\n",
    "        super(Model, self).__init__()\n",
    "\n",
    "        #--- Define other model parameters, layers, or components here if needed\n",
    "        self.dt = sim.dt #torch.tensor(1e-4) #\n",
    "        self.N = param.N #20\n",
    "        self.taue = self.taui = torch.tensor(param.taue) #torch.tensor(0.005)\n",
    "         # ¤ parameter of the phi function Not tweakable parameters\n",
    "        self.ae = torch.tensor(param.ae)# 18.26)  # 2 #Wong have to check # Modelling and Meg Gain of the E populaiton\n",
    "        self.be = torch.tensor(param.be) #-5.38)  # Threshold of the E populaiton\n",
    "        self.hme = torch.tensor(param.hme)#78.67)\n",
    "        self.ai = torch.tensor(param.ai)#21.97)\n",
    "        self.bi = torch.tensor(param.bi)#-4.81)\n",
    "        self.hmi = torch.tensor(param.hmi)#125.62)\n",
    "        #create the smallest possible number\n",
    "        self.epsilon = sys.float_info.epsilon\n",
    "\n",
    "        self.sIn = torch.tensor(.1)\n",
    "        self.sOut= 3.\n",
    "        self.sEI = .2\n",
    "        self.tauAMPA = torch.tensor(0.002)\n",
    "        self.tauGABA = torch.tensor(0.005)\n",
    "\n",
    "        self.wei = torch.tensor(dog_filter(self.sOut, int(self.N)), dtype=torch.float32)\n",
    "        self.wii = torch.tensor(np.eye(int(self.N)), dtype=torch.float32) # dog_filter(sIn, sOut, N)#np.eye(N) #\n",
    "        self.wie = torch.tensor(gaussian_filter(self.sEI, int(self.N)), dtype=torch.float32) #.astype(torch.float32))  # dog_filter(sIn, sOut, N)\n",
    "        self.wes = torch.tensor(np.eye(int(self.N)), dtype=torch.float32)  # Identity matrix\n",
    "\n",
    "\n",
    "        # initial parameters\n",
    "        self.dicJ = dicJ #kwargs\n",
    "        \"\"\"    self.Jee = nn.Parameter(torch.tensor(0.072, requires_grad= True, dtype= torch.float64))#, requires_grad=False, dtype=torch.float32)#I replaced .072 by 0.072\n",
    "        #ic(self.Jee.grad_fn) #should be none\n",
    "        self.Jei = nn.Parameter(torch.tensor(0.004, requires_grad= True, dtype= torch.float64))\n",
    "        self.Jie = nn.Parameter(torch.tensor(0.05, requires_grad=True, dtype=torch.float64))\n",
    "        self.Jii = nn.Parameter(torch.tensor(0.6, requires_grad=True, dtype=torch.float64))\n",
    "        self.Jin = nn.Parameter(torch.tensor(0.00695, requires_grad= True, dtype=torch.float64))\"\"\"\n",
    "\n",
    "        self.Jee = nn.Parameter(torch.tensor(self.dicJ['Jee'], requires_grad = True, dtype=torch.float64))\n",
    "        self.Jei = nn.Parameter(torch.tensor(self.dicJ['Jei'], requires_grad = True, dtype=torch.float64))\n",
    "        self.Jie = nn.Parameter(torch.tensor(self.dicJ['Jie'], requires_grad = True, dtype=torch.float64))\n",
    "        self.Jii = nn.Parameter(torch.tensor(self.dicJ['Jii'], requires_grad = True, dtype=torch.float64))\n",
    "        self.Jin = nn.Parameter(torch.tensor(self.dicJ['Jin'], requires_grad = True, dtype=torch.float64))\n",
    "\n",
    "        #--- Initialize model variables here\n",
    "    def initiate_state(self):\n",
    "        self.prev_r_e = torch.zeros((self.N)) # torch.ones(self.N) shows more obvious results\n",
    "        self.prev_r_i = torch.zeros((self.N))\n",
    "        self.prev_s_ampa = torch.zeros((self.N))\n",
    "        self.prev_s_gaba = torch.zeros((self.N))\n",
    "        self.dr_e_dt = torch.zeros((self.N))\n",
    "        self.dr_i_dt = torch.zeros((self.N))\n",
    "        self.s_ampa = torch.tensor(0.)\n",
    "        self.i_tot_e = torch.tensor(0.)\n",
    "        self.i_tot_i = torch.tensor(0.)\n",
    "\t\t\n",
    "\n",
    "    def phi(self, I_tot, a, b, hm): #)))  # this use a lot of memory - exponential part\n",
    "        #multi= torch.nan_to_num((torch.mul(a, I_tot) + b), nan = self.epsilon, posinf=140, neginf=self.epsilon)\n",
    "\n",
    "        for i in range(I_tot.shape[0]):\n",
    "                if torch.isnan(I_tot[i])== True:\n",
    "                    ic(I_tot, i)\n",
    "                    quit()\n",
    "                    sys.exit() #sys.\n",
    "        mulaI = a * I_tot\n",
    "        addB = mulaI + b\n",
    "        expo = torch.exp(-addB)\n",
    "        return hm / (1 + expo)\n",
    "        \"\"\"mulaI =torch.mul(a, I_tot)\n",
    "        addB= mulaI + b\n",
    "        expo = torch.exp(- (addB))  #.abs()+ self.epsilon)\n",
    "        return torch.multiply(hm, torch.divide(1, (1+ expo)))\"\"\"\n",
    "\n",
    "    def forward(self, In):\n",
    "        #--- Compute values of interest\n",
    "        #the operation Jee_re = self.Jee * prev_r_e => triggers inplace error\n",
    "        s_gaba_wie = self.prev_s_gaba @ self.wie\n",
    "        s_ampa_wei = self.prev_s_ampa @ self.wei\n",
    "        s_gaba_wii = self.prev_s_gaba @ self.wii\n",
    "        JeeAmpa =  torch.mul(self.Jee, self.s_ampa)\n",
    "        self.i_tot_e = torch.add(torch.subtract(JeeAmpa, torch.mul(self.Jie, s_gaba_wie)), torch.mul(self.Jin, In))\n",
    "        self.i_tot_i = torch.subtract(torch.mul(self.Jei, s_ampa_wei), torch.mul(self.Jii, s_gaba_wii))\n",
    "        #print(\"Jee after computation\", self.Jee.grad_fn)\n",
    "        \"\"\"self.i_tot_e = (self.Jee * self.s_ampa) - (self.Jie * s_gaba_wie) + (self.Jin*  In)\n",
    "        self.i_tot_i = (self.Jei * s_ampa_wei) - (self.Jii * s_gaba_wii)\"\"\"\n",
    "\n",
    "        phi_arr_e = self.phi(self.i_tot_e, self.ae, self.be, self.hme)\n",
    "        phi_arr_i = self.phi(self.i_tot_i, self.ai, self.bi, self.hmi)\n",
    "\n",
    "        self.dr_e_dt = (-self.prev_r_e + phi_arr_e) / self.taue\n",
    "        self.dr_i_dt = (-self.prev_r_i + phi_arr_i) / self.taui\n",
    "\n",
    "        r_e = self.prev_r_e+ self.dr_e_dt * self.dt\n",
    "        r_i = self.prev_r_i + self.dr_i_dt * self.dt\n",
    "\n",
    "        dS_amp_dt = (- self.prev_s_ampa / self.tauAMPA) + r_e\n",
    "        s_ampa = self.prev_s_ampa+ dS_amp_dt * self.dt\n",
    "\n",
    "        dS_gab_dt = (- self.prev_s_gaba / self.tauGABA) + r_i\n",
    "        s_gaba = self.prev_s_gaba + dS_gab_dt * self.dt\n",
    "\n",
    "        self.prev_r_e = r_e\n",
    "        self.prev_r_i = r_i\n",
    "        self.prev_s_ampa = s_ampa\n",
    "        self.prev_s_gaba = s_gaba\n",
    "\n",
    "\n",
    "        return self.prev_r_e, self.prev_r_i, self.dr_e_dt, self.dr_i_dt, self.prev_s_ampa, self.prev_s_gaba"
   ]
  },
  {
   "cell_type": "markdown",
   "metadata": {},
   "source": [
    "## Create Input stimuli"
   ]
  },
  {
   "cell_type": "code",
   "execution_count": 13,
   "metadata": {},
   "outputs": [
    {
     "name": "stdout",
     "output_type": "stream",
     "text": [
      "Time step of the simulation (dt): 0.001   Duration of simulation (T): 0.051 s   Length of the time frame (Lt): 51\n",
      "frequence of stimulus f: [8]   ISI: 0 s   Size In (51, 20) Size w: (51, 20)   f_stim = total length simulation: (51, 1) sigmaIn: 2.0\n",
      "51\n"
     ]
    }
   ],
   "source": [
    "# \\\\\\\\ Parameters\n",
    "param = Parameter() # N=20\n",
    "\n",
    "# \\\\\\\\ Simulation time: T in s  (2s before)\n",
    "#sim = Simulation(dt=1e-4,T=.0510) \n",
    "sim = Simulation(dt=1e-3,T=.0510) \n",
    "sim.printSim()\n",
    "\n",
    "# \\\\\\\\ Bottom up sensory input\n",
    "stimuli = Stim(param, sim, dur=sim.T, f=[8])\n",
    "In, range_sim, len_sim, w, sigmaIn = stimuli.sensoryInput(param, sim, sigmaIn=2.) #2.\n",
    "stimuli.printStim()\n",
    "print((len_sim))"
   ]
  },
  {
   "cell_type": "code",
   "execution_count": 14,
   "metadata": {},
   "outputs": [
    {
     "name": "stdout",
     "output_type": "stream",
     "text": [
      "0.072 ['Jee', 'Jei', 'Jie', 'Jii', 'Jin']\n"
     ]
    }
   ],
   "source": [
    "J1 = {'Jee': 0.072, 'Jei': 0.004, 'Jie': 0.05, 'Jii': 0.6, 'Jin': 0.00695}\n",
    "J_list = list(J1.keys())\n",
    "print(J1['Jee'], J_list)\n",
    "\n",
    "# +++++++++++++++++++++++++ Initialize the Model ++++++++++++++++++++++++++++\n",
    "model = Model(param=param, sim=sim, dicJ=J1)\n",
    "\n",
    "# ~~~~~~~~~~~~~~~~~~~~~~~~~~~~~~~~~~~~~~~ RUN forward pass and Print heatmap ~~~~~~~~~~~~~~~~~~~~~~~~~~~~~~~~~~~~~~~~~~~~~~~~~~~~~~~~~~\n",
    "sti = torch.tensor(stimuli.In, dtype=torch.float32)\n",
    "#r_e, r_i, dredt, dridt = mymodel.forward(sti)\n",
    "\n",
    "#HeatMap(r_e.detach().numpy(), r_i.detach().numpy(), J1)\n",
    "#HeatMap(sti.detach().numpy(), r_i.detach().numpy(), J1)"
   ]
  },
  {
   "cell_type": "markdown",
   "metadata": {},
   "source": [
    "## Data preparation - Batch"
   ]
  },
  {
   "cell_type": "markdown",
   "metadata": {},
   "source": [
    "#### 1- create a big dataset for every stimuli . In = X stimulus\n",
    "\n",
    "#### 2- Split In/ X into train and test dataset\n",
    "\n",
    "Split 70% into train dataset and 30% into test dataset\n",
    "\n",
    "#### 3- get expected Y - Ytarget\n",
    "\n",
    "#### 4- Create the DataLoader merging Xtrain_tensor and Ytrain_tensor (Input and Target)"
   ]
  },
  {
   "cell_type": "code",
   "execution_count": 15,
   "metadata": {},
   "outputs": [],
   "source": [
    " # 1  \\\\\\\\\\\\\\\\\\\\\\ BIG Bottom up sensory input\n",
    "def IN_Big(param, simu, len_sim):\n",
    "    IN_T = torch.zeros(len_sim, 20 ,20)\n",
    "\n",
    "    for i in range(0, param.N):\n",
    "        index = i+1\n",
    "        st = Stim(param,simu, dur=simu.T,f =[index], ISI=0) \n",
    "        In, range_s, len_s, w, sigmaIn =st.sensoryInput(param, simu, sigmaIn = 2.)\n",
    "        IN_T[:,:, i] = torch.tensor(In)\n",
    "        #sti = torch.tensor(In).float()\n",
    "\n",
    "    return IN_T\n",
    "\n",
    "# 2\n",
    "def train_test_dataset(IN_T):\n",
    "    #create a random list containing each of our stimuli types\n",
    "    rng = np.random.default_rng(1245)\n",
    "    Number_Stim = (IN_T).shape[2]\n",
    "    rand_indices = np.arange(0, Number_Stim)\n",
    "    rng.shuffle(rand_indices)\n",
    "\n",
    "    # split this random list into test and train index. and filter the IN with those indexes\n",
    "    val_split_index = int(np.floor(0.7 * Number_Stim))\n",
    "    test_idx, train_idx = rand_indices[val_split_index:], rand_indices[:val_split_index]\n",
    "    train_tensorIN = IN_T[:,:, train_idx]\n",
    "    test_tensorIN = IN_T[:,:, test_idx]\n",
    "\n",
    "    return train_tensorIN.permute(2,0,1), test_tensorIN.permute(2,0,1)\n",
    "\n",
    "\n",
    "# 3\n",
    "def Y_Target_Big(X_tensor):\n",
    "    Ytrain_tensor = torch.zeros((X_tensor.shape))\n",
    "    for stimu in range(X_tensor.shape[0]):\n",
    "      Ytrain_tensor[stimu,:,:] = get_expected_Y_relu(X_tensor[stimu,:,:])\n",
    "    return Ytrain_tensor\n",
    "\n",
    "\n",
    "# 4\n",
    "def create_dataloader(Input, Target):\n",
    "    train_dataset = TensorDataset(Input, Target)\n",
    "    train_dataloader = DataLoader(train_dataset, batch_size=1, shuffle = True) #one sample per batch\n",
    "    return train_dataloader\n",
    "\n",
    "# 5\n",
    "def fromIN_to_dataloader(IN_T):\n",
    "\n",
    "    train_tensIN, test_tensIN = train_test_dataset(IN_T)\n",
    "    #print(train_tensorIN[:,:,0])\n",
    "    #plt.plot(np.arange(0,20),train_tensorIN[4,300,:]) \n",
    "    Ytrain_tensor = Y_Target_Big(train_tensIN)\n",
    "    Ytest_tensor = Y_Target_Big(test_tensIN)\n",
    "    train_dataloader = create_dataloader(train_tensIN, Ytrain_tensor)\n",
    "    test_dataloader = create_dataloader(test_tensIN, Ytest_tensor)\n",
    "    return train_dataloader, Ytrain_tensor, train_tensIN, test_dataloader, Ytest_tensor, test_tensIN"
   ]
  },
  {
   "cell_type": "code",
   "execution_count": 16,
   "metadata": {},
   "outputs": [],
   "source": [
    "IN_T = IN_Big(param=param, simu=sim, len_sim = sim.Lt)\n",
    "\n",
    "train_dataloader, Ytrain_tensor, Xtrain_tensor, test_dataloader, Ytest_tensor, test_tensorIN = fromIN_to_dataloader(IN_T=IN_T)"
   ]
  },
  {
   "cell_type": "markdown",
   "metadata": {},
   "source": [
    "#### Control what I have inside my tensors"
   ]
  },
  {
   "cell_type": "code",
   "execution_count": 17,
   "metadata": {},
   "outputs": [
    {
     "name": "stderr",
     "output_type": "stream",
     "text": [
      "ic| X_input_proba.shape[1]: 20\n"
     ]
    },
    {
     "data": {
      "text/plain": [
       "<matplotlib.legend.Legend at 0x1cf5f1e1ed0>"
      ]
     },
     "execution_count": 17,
     "metadata": {},
     "output_type": "execute_result"
    },
    {
     "data": {
      "image/png": "[encoded data removed]",
      "text/plain": [
       "<Figure size 640x480 with 1 Axes>"
      ]
     },
     "metadata": {},
     "output_type": "display_data"
    }
   ],
   "source": [
    "\n",
    "X_input_proba = make_it_proba(Xtrain_tensor[4,:,:])\n",
    "Y_target = Ytrain_tensor[4,:,:]\n",
    "t=48\n",
    "ic(X_input_proba.shape[1])\n",
    "plt.plot(torch.arange(X_input_proba.shape[1]), X_input_proba[t,:], label= f\"Proba Input at t={t}\") #not in proba\n",
    "plt.plot(torch.arange(Y_target.detach().numpy().shape[1]), Y_target.detach().numpy()[t,:], label = f\"target at t={t}\") #in proba\n",
    "plt.legend()"
   ]
  },
  {
   "cell_type": "markdown",
   "metadata": {},
   "source": [
    "### Make the target vector: index of the activated population at each time step and across each batch (B*T)"
   ]
  },
  {
   "cell_type": "code",
   "execution_count": 18,
   "metadata": {},
   "outputs": [],
   "source": [
    "def make_Target_index(IN_T):\n",
    "    BatchXTime = IN_T.shape[0]*  IN_T.shape[1]\n",
    "    Target_index = torch.zeros((BatchXTime))\n",
    "    time_stim = 0\n",
    "    for batch in range(0, IN_T.shape[0]):\n",
    "        for time in range(0, IN_T.shape[1]):\n",
    "            Target_index[time + time_stim] = get_stimuli_input(IN_T[batch,:,:]).item()\n",
    "        time_stim += IN_T.shape[1]\n",
    "    \n",
    "    #print(len(Target_index))\n",
    "    #print(Target_index.numpy()[0])\n",
    "    return Target_index\n",
    "\n",
    "Target = make_Target_index(Xtrain_tensor)#plt.plot(np.arange(0,Target_index.shape[0]),Target_index)"
   ]
  },
  {
   "cell_type": "markdown",
   "metadata": {},
   "source": [
    "#### Make the input vector of the shape (B*T,N)"
   ]
  },
  {
   "cell_type": "code",
   "execution_count": 19,
   "metadata": {},
   "outputs": [
    {
     "name": "stdout",
     "output_type": "stream",
     "text": [
      "torch.Size([14, 51, 20]) torch.Size([714, 20])\n"
     ]
    }
   ],
   "source": [
    "Input = Xtrain_tensor.reshape(Xtrain_tensor.shape[0] * Xtrain_tensor.shape[1], Xtrain_tensor.shape[2])\n",
    "#plt.plot(np.arange(20),Xtrain_forloss[2000,:])\n",
    "print(Xtrain_tensor.shape, Input.shape)\n"
   ]
  },
  {
   "cell_type": "code",
   "execution_count": 20,
   "metadata": {},
   "outputs": [
    {
     "data": {
      "image/png": "[encoded data removed]",
      "text/plain": [
       "<Figure size 600x600 with 4 Axes>"
      ]
     },
     "metadata": {},
     "output_type": "display_data"
    }
   ],
   "source": [
    "count = 0 \n",
    "P0 = torch.zeros(Input.shape)  \n",
    "I0 = torch.zeros(Input.shape)\n",
    "model.initiate_state()\n",
    "for i, b in enumerate(Target):\n",
    "        count +=1\n",
    "        P0[i,:], I0[i,:], dredt, dridt, ampa, gaba = model.forward(Input[int(i),:])#.item()\n",
    "        if count == Xtrain_tensor.shape[1]: #if we end the simulation time and go to the next batch\n",
    "            count = 0\n",
    "            model.initiate_state()\n",
    "\n",
    "HeatMap(P0.detach().numpy(), I0.detach().numpy(), J1)"
   ]
  },
  {
   "cell_type": "code",
   "execution_count": 21,
   "metadata": {},
   "outputs": [
    {
     "data": {
      "image/png": "[encoded data removed]",
      "text/plain": [
       "<Figure size 600x600 with 4 Axes>"
      ]
     },
     "metadata": {},
     "output_type": "display_data"
    }
   ],
   "source": [
    "#Input_forloss.shape\n",
    "HeatMap(Input.detach().numpy(), Input.detach().numpy())\n",
    "#plt.plot(np.arange(Input.shape[1]), Input[1500,:].detach().numpy())\n"
   ]
  },
  {
   "cell_type": "markdown",
   "metadata": {},
   "source": [
    "## Optimization"
   ]
  },
  {
   "cell_type": "code",
   "execution_count": 22,
   "metadata": {},
   "outputs": [],
   "source": [
    "def make_it_proba(r_e):\n",
    "    eps = torch.FloatTensor([sys.float_info.epsilon]) #torch.FloatTensor\n",
    "    r_e_max = torch.max(r_e, eps.expand_as(r_e))\n",
    "    threshold = 5# torch.FloatTensor([5]).expand_as(r_e[10,:])\n",
    "    sum_r_e = torch.sum(r_e, 1).reshape(r_e.shape[0], 1)\n",
    " \n",
    "    prob_r= 0.5 * (1 + torch.tanh(sum_r_e - threshold))*(r_e_max / sum_r_e) #r_e_max.sum())\n",
    "    return prob_r #.reshape(r_e.shape[0], r_e.shape[1]) "
   ]
  },
  {
   "cell_type": "code",
   "execution_count": 23,
   "metadata": {},
   "outputs": [
    {
     "data": {
      "image/png": "[encoded data removed]",
      "text/plain": [
       "<Figure size 600x600 with 4 Axes>"
      ]
     },
     "metadata": {},
     "output_type": "display_data"
    }
   ],
   "source": [
    "P0_norm = make_it_proba(P0)\n",
    "HeatMap(P0_norm[:510,:].detach().numpy(),P0_norm[:511,:].detach().numpy() , J1)\n",
    "#HeatMap(P0_norm[1100:1511,:].detach().numpy(),P0_norm[:511,:].detach().numpy() , J1)\n",
    "#plt.plot(np.arange(P0_norm.shape[1]), P0_norm[504,:].detach().numpy())\n"
   ]
  },
  {
   "cell_type": "code",
   "execution_count": 27,
   "metadata": {},
   "outputs": [
    {
     "name": "stderr",
     "output_type": "stream",
     "text": [
      "ic| torch.max(P): tensor(45.0336, grad_fn=<MaxBackward1>)\n",
      "    torch.min(P): tensor(0.0389, grad_fn=<MinBackward1>)\n",
      "ic| torch.max(P2): tensor(0.9354, grad_fn=<MaxBackward1>)\n",
      "    torch.min(P2): tensor(0.0008, grad_fn=<MinBackward1>)\n"
     ]
    },
    {
     "name": "stdout",
     "output_type": "stream",
     "text": [
      "Epoch [1/100], Loss: -0.5233078002929688\n",
      "total_loss.grad:  <NllLossBackward0 object at 0x000001CF652EDF30>\n",
      "tensor(0., dtype=torch.float64)\n",
      "tensor(4.6358, dtype=torch.float64)\n",
      "tensor(0.3390, dtype=torch.float64)\n",
      "tensor(-0.0155, dtype=torch.float64)\n",
      "tensor(-2.1200, dtype=torch.float64)\n"
     ]
    },
    {
     "name": "stderr",
     "output_type": "stream",
     "text": [
      "ic| torch.max(P): tensor(46.7688, grad_fn=<MaxBackward1>)\n",
      "    torch.min(P): tensor(0.0375, grad_fn=<MinBackward1>)\n",
      "ic| torch.max(P2): tensor(0.9376, grad_fn=<MaxBackward1>)\n",
      "    torch.min(P2): tensor(0.0008, grad_fn=<MinBackward1>)\n"
     ]
    },
    {
     "name": "stdout",
     "output_type": "stream",
     "text": [
      "Epoch [2/100], Loss: -0.5238578915596008\n",
      "total_loss.grad:  <NllLossBackward0 object at 0x000001CF652EE260>\n",
      "tensor(0., dtype=torch.float64)\n",
      "tensor(4.6086, dtype=torch.float64)\n",
      "tensor(0.3054, dtype=torch.float64)\n",
      "tensor(-0.0158, dtype=torch.float64)\n",
      "tensor(0.9964, dtype=torch.float64)\n"
     ]
    },
    {
     "name": "stderr",
     "output_type": "stream",
     "text": [
      "ic| torch.max(P): tensor(47.2649, grad_fn=<MaxBackward1>)\n",
      "    torch.min(P): tensor(0.0397, grad_fn=<MinBackward1>)\n",
      "ic| torch.max(P2): tensor(0.9376, grad_fn=<MaxBackward1>)\n",
      "    torch.min(P2): tensor(0.0008, grad_fn=<MinBackward1>)\n"
     ]
    },
    {
     "name": "stdout",
     "output_type": "stream",
     "text": [
      "Epoch [3/100], Loss: -0.5242720246315002\n",
      "total_loss.grad:  <NllLossBackward0 object at 0x000001CF650A2590>\n",
      "tensor(0., dtype=torch.float64)\n",
      "tensor(3.6393, dtype=torch.float64)\n",
      "tensor(0.2619, dtype=torch.float64)\n",
      "tensor(-0.0141, dtype=torch.float64)\n",
      "tensor(0.9301, dtype=torch.float64)\n"
     ]
    },
    {
     "name": "stderr",
     "output_type": "stream",
     "text": [
      "ic| torch.max(P): tensor(47.2110, grad_fn=<MaxBackward1>)\n",
      "    torch.min(P): tensor(0.0419, grad_fn=<MinBackward1>)\n",
      "ic| torch.max(P2): tensor(0.9365, grad_fn=<MaxBackward1>)\n",
      "    torch.min(P2): tensor(0.0010, grad_fn=<MinBackward1>)\n"
     ]
    },
    {
     "name": "stdout",
     "output_type": "stream",
     "text": [
      "Epoch [4/100], Loss: -0.5245891809463501\n",
      "total_loss.grad:  <NllLossBackward0 object at 0x000001CF652EE260>\n",
      "tensor(0., dtype=torch.float64)\n",
      "tensor(2.2647, dtype=torch.float64)\n",
      "tensor(0.2187, dtype=torch.float64)\n",
      "tensor(-0.0116, dtype=torch.float64)\n",
      "tensor(-0.4630, dtype=torch.float64)\n"
     ]
    },
    {
     "name": "stderr",
     "output_type": "stream",
     "text": [
      "ic| torch.max(P): tensor(47.3399, grad_fn=<MaxBackward1>)\n",
      "    torch.min(P): tensor(0.0440, grad_fn=<MinBackward1>)\n",
      "ic| torch.max(P2): tensor(0.9356, grad_fn=<MaxBackward1>)\n",
      "    torch.min(P2): tensor(0.0012, grad_fn=<MinBackward1>)\n"
     ]
    },
    {
     "name": "stdout",
     "output_type": "stream",
     "text": [
      "Epoch [5/100], Loss: -0.5247731804847717\n",
      "total_loss.grad:  <NllLossBackward0 object at 0x000001CF650A2860>\n",
      "tensor(0., dtype=torch.float64)\n",
      "tensor(1.0509, dtype=torch.float64)\n",
      "tensor(0.1811, dtype=torch.float64)\n",
      "tensor(-0.0096, dtype=torch.float64)\n",
      "tensor(-1.3322, dtype=torch.float64)\n"
     ]
    },
    {
     "name": "stderr",
     "output_type": "stream",
     "text": [
      "ic| torch.max(P): tensor(47.8634, grad_fn=<MaxBackward1>)\n",
      "    torch.min(P): tensor(0.0453, grad_fn=<MinBackward1>)\n",
      "ic| torch.max(P2): tensor(0.9355, grad_fn=<MaxBackward1>)\n",
      "    torch.min(P2): tensor(0.0013, grad_fn=<MinBackward1>)\n"
     ]
    },
    {
     "name": "stdout",
     "output_type": "stream",
     "text": [
      "Epoch [6/100], Loss: -0.5248821973800659\n",
      "total_loss.grad:  <NllLossBackward0 object at 0x000001CF651572E0>\n",
      "tensor(0., dtype=torch.float64)\n",
      "tensor(0.1942, dtype=torch.float64)\n",
      "tensor(0.1492, dtype=torch.float64)\n",
      "tensor(-0.0084, dtype=torch.float64)\n",
      "tensor(-1.1194, dtype=torch.float64)\n"
     ]
    },
    {
     "name": "stderr",
     "output_type": "stream",
     "text": [
      "ic| torch.max(P): tensor(48.6014, grad_fn=<MaxBackward1>)\n",
      "    torch.min(P): tensor(0.0460, grad_fn=<MinBackward1>)\n",
      "ic| torch.max(P2): tensor(0.9359, grad_fn=<MaxBackward1>)\n",
      "    torch.min(P2): tensor(0.0014, grad_fn=<MinBackward1>)\n"
     ]
    },
    {
     "name": "stdout",
     "output_type": "stream",
     "text": [
      "Epoch [7/100], Loss: -0.5249184966087341\n",
      "total_loss.grad:  <NllLossBackward0 object at 0x000001CF64F12800>\n",
      "tensor(0., dtype=torch.float64)\n",
      "tensor(-0.3997, dtype=torch.float64)\n",
      "tensor(0.1216, dtype=torch.float64)\n",
      "tensor(-0.0078, dtype=torch.float64)\n",
      "tensor(-0.2753, dtype=torch.float64)\n"
     ]
    },
    {
     "name": "stderr",
     "output_type": "stream",
     "text": [
      "ic| torch.max(P): tensor(49.3139, grad_fn=<MaxBackward1>)\n",
      "    torch.min(P): tensor(0.0465, grad_fn=<MinBackward1>)\n",
      "ic| torch.max(P2): tensor(0.9363, grad_fn=<MaxBackward1>)\n",
      "    torch.min(P2): tensor(0.0015, grad_fn=<MinBackward1>)\n"
     ]
    },
    {
     "name": "stdout",
     "output_type": "stream",
     "text": [
      "Epoch [8/100], Loss: -0.5248813033103943\n",
      "total_loss.grad:  <NllLossBackward0 object at 0x000001CF651572E0>\n",
      "tensor(0., dtype=torch.float64)\n",
      "tensor(-0.8731, dtype=torch.float64)\n",
      "tensor(0.0980, dtype=torch.float64)\n",
      "tensor(-0.0073, dtype=torch.float64)\n",
      "tensor(0.6214, dtype=torch.float64)\n"
     ]
    },
    {
     "name": "stderr",
     "output_type": "stream",
     "text": [
      "ic| torch.max(P): tensor(49.7635, grad_fn=<MaxBackward1>)\n",
      "    torch.min(P): tensor(0.0472, grad_fn=<MinBackward1>)\n",
      "ic| torch.max(P2): tensor(0.9363, grad_fn=<MaxBackward1>)\n",
      "    torch.min(P2): tensor(0.0015, grad_fn=<MinBackward1>)\n"
     ]
    },
    {
     "name": "stdout",
     "output_type": "stream",
     "text": [
      "Epoch [9/100], Loss: -0.5248108506202698\n",
      "total_loss.grad:  <NllLossBackward0 object at 0x000001CF64F13430>\n",
      "tensor(0., dtype=torch.float64)\n",
      "tensor(-1.3699, dtype=torch.float64)\n",
      "tensor(0.0781, dtype=torch.float64)\n",
      "tensor(-0.0068, dtype=torch.float64)\n",
      "tensor(1.0415, dtype=torch.float64)\n"
     ]
    },
    {
     "name": "stderr",
     "output_type": "stream",
     "text": [
      "ic| torch.max(P): tensor(49.8896, grad_fn=<MaxBackward1>)\n",
      "    torch.min(P): tensor(0.0480, grad_fn=<MinBackward1>)\n",
      "ic| torch.max(P2): tensor(0.9359, grad_fn=<MaxBackward1>)\n",
      "    torch.min(P2): tensor(0.0016, grad_fn=<MinBackward1>)\n"
     ]
    },
    {
     "name": "stdout",
     "output_type": "stream",
     "text": [
      "Epoch [10/100], Loss: -0.5247517824172974\n",
      "total_loss.grad:  <NllLossBackward0 object at 0x000001CF652EDE70>\n",
      "tensor(0., dtype=torch.float64)\n",
      "tensor(-1.8965, dtype=torch.float64)\n",
      "tensor(0.0629, dtype=torch.float64)\n",
      "tensor(-0.0061, dtype=torch.float64)\n",
      "tensor(0.8851, dtype=torch.float64)\n"
     ]
    },
    {
     "name": "stderr",
     "output_type": "stream",
     "text": [
      "ic| torch.max(P): tensor(49.7967, grad_fn=<MaxBackward1>)\n",
      "    torch.min(P): tensor(0.0488, grad_fn=<MinBackward1>)\n",
      "ic| torch.max(P2): tensor(0.9353, grad_fn=<MaxBackward1>)\n",
      "    torch.min(P2): tensor(0.0017, grad_fn=<MinBackward1>)\n"
     ]
    },
    {
     "name": "stdout",
     "output_type": "stream",
     "text": [
      "Epoch [11/100], Loss: -0.5247188806533813\n",
      "total_loss.grad:  <NllLossBackward0 object at 0x000001CF64F137C0>\n",
      "tensor(0., dtype=torch.float64)\n",
      "tensor(-2.3354, dtype=torch.float64)\n",
      "tensor(0.0534, dtype=torch.float64)\n",
      "tensor(-0.0055, dtype=torch.float64)\n",
      "tensor(0.4126, dtype=torch.float64)\n"
     ]
    },
    {
     "name": "stderr",
     "output_type": "stream",
     "text": [
      "ic| torch.max(P): tensor(49.6265, grad_fn=<MaxBackward1>)\n",
      "    torch.min(P): tensor(0.0494, grad_fn=<MinBackward1>)\n",
      "ic| torch.max(P2): tensor(0.9348, grad_fn=<MaxBackward1>)\n",
      "    torch.min(P2): tensor(0.0017, grad_fn=<MinBackward1>)\n"
     ]
    },
    {
     "name": "stdout",
     "output_type": "stream",
     "text": [
      "Epoch [12/100], Loss: -0.5247158408164978\n",
      "total_loss.grad:  <NllLossBackward0 object at 0x000001CF651572E0>\n",
      "tensor(0., dtype=torch.float64)\n",
      "tensor(-2.5676, dtype=torch.float64)\n",
      "tensor(0.0502, dtype=torch.float64)\n",
      "tensor(-0.0052, dtype=torch.float64)\n",
      "tensor(-0.0575, dtype=torch.float64)\n"
     ]
    },
    {
     "name": "stderr",
     "output_type": "stream",
     "text": [
      "ic| torch.max(P): tensor(49.4964, grad_fn=<MaxBackward1>)\n",
      "    torch.min(P): tensor(0.0494, grad_fn=<MinBackward1>)\n",
      "ic| torch.max(P2): tensor(0.9347, grad_fn=<MaxBackward1>)\n",
      "    torch.min(P2): tensor(0.0017, grad_fn=<MinBackward1>)\n"
     ]
    },
    {
     "name": "stdout",
     "output_type": "stream",
     "text": [
      "Epoch [13/100], Loss: -0.524744987487793\n",
      "total_loss.grad:  <NllLossBackward0 object at 0x000001CF64F11E40>\n",
      "tensor(0., dtype=torch.float64)\n",
      "tensor(-2.5290, dtype=torch.float64)\n",
      "tensor(0.0528, dtype=torch.float64)\n",
      "tensor(-0.0051, dtype=torch.float64)\n",
      "tensor(-0.2771, dtype=torch.float64)\n"
     ]
    },
    {
     "name": "stderr",
     "output_type": "stream",
     "text": [
      "ic| torch.max(P): tensor(49.4535, grad_fn=<MaxBackward1>)\n",
      "    torch.min(P): tensor(0.0490, grad_fn=<MinBackward1>)\n",
      "ic| torch.max(P2): tensor(0.9349, grad_fn=<MaxBackward1>)\n",
      "    torch.min(P2): tensor(0.0017, grad_fn=<MinBackward1>)\n"
     ]
    },
    {
     "name": "stdout",
     "output_type": "stream",
     "text": [
      "Epoch [14/100], Loss: -0.5248011946678162\n",
      "total_loss.grad:  <NllLossBackward0 object at 0x000001CF652EDF30>\n",
      "tensor(0., dtype=torch.float64)\n",
      "tensor(-2.2338, dtype=torch.float64)\n",
      "tensor(0.0603, dtype=torch.float64)\n",
      "tensor(-0.0055, dtype=torch.float64)\n",
      "tensor(-0.1665, dtype=torch.float64)\n"
     ]
    },
    {
     "name": "stderr",
     "output_type": "stream",
     "text": [
      "ic| torch.max(P): tensor(49.4609, grad_fn=<MaxBackward1>)\n",
      "    torch.min(P): tensor(0.0482, grad_fn=<MinBackward1>)\n",
      "ic| torch.max(P2): tensor(0.9353, grad_fn=<MaxBackward1>)\n",
      "    torch.min(P2): tensor(0.0016, grad_fn=<MinBackward1>)\n"
     ]
    },
    {
     "name": "stdout",
     "output_type": "stream",
     "text": [
      "Epoch [15/100], Loss: -0.5248676538467407\n",
      "total_loss.grad:  <NllLossBackward0 object at 0x000001CF65156950>\n",
      "tensor(0., dtype=torch.float64)\n",
      "tensor(-1.7677, dtype=torch.float64)\n",
      "tensor(0.0713, dtype=torch.float64)\n",
      "tensor(-0.0060, dtype=torch.float64)\n",
      "tensor(0.1586, dtype=torch.float64)\n"
     ]
    },
    {
     "name": "stderr",
     "output_type": "stream",
     "text": [
      "ic| torch.max(P): tensor(49.4351, grad_fn=<MaxBackward1>)\n",
      "    torch.min(P): tensor(0.0474, grad_fn=<MinBackward1>)\n",
      "ic| torch.max(P2): tensor(0.9358, grad_fn=<MaxBackward1>)\n",
      "    torch.min(P2): tensor(0.0015, grad_fn=<MinBackward1>)\n"
     ]
    },
    {
     "name": "stdout",
     "output_type": "stream",
     "text": [
      "Epoch [16/100], Loss: -0.524928867816925\n",
      "total_loss.grad:  <NllLossBackward0 object at 0x000001CF652EDE70>\n",
      "tensor(0., dtype=torch.float64)\n",
      "tensor(-1.2509, dtype=torch.float64)\n",
      "tensor(0.0844, dtype=torch.float64)\n",
      "tensor(-0.0067, dtype=torch.float64)\n",
      "tensor(0.4714, dtype=torch.float64)\n"
     ]
    },
    {
     "name": "stderr",
     "output_type": "stream",
     "text": [
      "ic| torch.max(P): tensor(49.3049, grad_fn=<MaxBackward1>)\n",
      "    torch.min(P): tensor(0.0467, grad_fn=<MinBackward1>)\n",
      "ic| torch.max(P2): tensor(0.9360, grad_fn=<MaxBackward1>)\n",
      "    torch.min(P2): tensor(0.0014, grad_fn=<MinBackward1>)\n"
     ]
    },
    {
     "name": "stdout",
     "output_type": "stream",
     "text": [
      "Epoch [17/100], Loss: -0.524979829788208\n",
      "total_loss.grad:  <NllLossBackward0 object at 0x000001CF65156950>\n",
      "tensor(0., dtype=torch.float64)\n",
      "tensor(-0.7870, dtype=torch.float64)\n",
      "tensor(0.0980, dtype=torch.float64)\n",
      "tensor(-0.0073, dtype=torch.float64)\n",
      "tensor(0.5720, dtype=torch.float64)\n"
     ]
    },
    {
     "name": "stderr",
     "output_type": "stream",
     "text": [
      "ic| torch.max(P): tensor(49.0569, grad_fn=<MaxBackward1>)\n",
      "    torch.min(P): tensor(0.0462, grad_fn=<MinBackward1>)\n",
      "ic| torch.max(P2): tensor(0.9360, grad_fn=<MaxBackward1>)\n",
      "    torch.min(P2): tensor(0.0014, grad_fn=<MinBackward1>)\n"
     ]
    },
    {
     "name": "stdout",
     "output_type": "stream",
     "text": [
      "Epoch [18/100], Loss: -0.5250186324119568\n",
      "total_loss.grad:  <NllLossBackward0 object at 0x000001CF652EDED0>\n",
      "tensor(0., dtype=torch.float64)\n",
      "tensor(-0.4233, dtype=torch.float64)\n",
      "tensor(0.1112, dtype=torch.float64)\n",
      "tensor(-0.0077, dtype=torch.float64)\n",
      "tensor(0.3973, dtype=torch.float64)\n"
     ]
    },
    {
     "name": "stderr",
     "output_type": "stream",
     "text": [
      "ic| torch.max(P): tensor(48.7407, grad_fn=<MaxBackward1>)\n",
      "    torch.min(P): tensor(0.0459, grad_fn=<MinBackward1>)\n",
      "ic| torch.max(P2): tensor(0.9358, grad_fn=<MaxBackward1>)\n",
      "    torch.min(P2): tensor(0.0013, grad_fn=<MinBackward1>)\n"
     ]
    },
    {
     "name": "stdout",
     "output_type": "stream",
     "text": [
      "Epoch [19/100], Loss: -0.5250420570373535\n",
      "total_loss.grad:  <NllLossBackward0 object at 0x000001CF64F12560>\n",
      "tensor(0., dtype=torch.float64)\n",
      "tensor(-0.1468, dtype=torch.float64)\n",
      "tensor(0.1233, dtype=torch.float64)\n",
      "tensor(-0.0079, dtype=torch.float64)\n",
      "tensor(0.0378, dtype=torch.float64)\n"
     ]
    },
    {
     "name": "stderr",
     "output_type": "stream",
     "text": [
      "ic| torch.max(P): tensor(48.4447, grad_fn=<MaxBackward1>)\n",
      "    torch.min(P): tensor(0.0456, grad_fn=<MinBackward1>)\n",
      "ic| torch.max(P2): tensor(0.9356, grad_fn=<MaxBackward1>)\n",
      "    torch.min(P2): tensor(0.0013, grad_fn=<MinBackward1>)\n"
     ]
    },
    {
     "name": "stdout",
     "output_type": "stream",
     "text": [
      "Epoch [20/100], Loss: -0.5250497460365295\n",
      "total_loss.grad:  <NllLossBackward0 object at 0x000001CF652EDF30>\n",
      "tensor(0., dtype=torch.float64)\n",
      "tensor(0.0934, dtype=torch.float64)\n",
      "tensor(0.1342, dtype=torch.float64)\n",
      "tensor(-0.0082, dtype=torch.float64)\n",
      "tensor(-0.3131, dtype=torch.float64)\n"
     ]
    },
    {
     "name": "stderr",
     "output_type": "stream",
     "text": [
      "ic| torch.max(P): tensor(48.2524, grad_fn=<MaxBackward1>)\n",
      "    torch.min(P): tensor(0.0453, grad_fn=<MinBackward1>)\n",
      "ic| torch.max(P2): tensor(0.9356, grad_fn=<MaxBackward1>)\n",
      "    torch.min(P2): tensor(0.0013, grad_fn=<MinBackward1>)\n"
     ]
    },
    {
     "name": "stdout",
     "output_type": "stream",
     "text": [
      "Epoch [21/100], Loss: -0.5250480771064758\n",
      "total_loss.grad:  <NllLossBackward0 object at 0x000001CF650A29B0>\n",
      "tensor(0., dtype=torch.float64)\n",
      "tensor(0.3486, dtype=torch.float64)\n",
      "tensor(0.1441, dtype=torch.float64)\n",
      "tensor(-0.0085, dtype=torch.float64)\n",
      "tensor(-0.4625, dtype=torch.float64)\n"
     ]
    },
    {
     "name": "stderr",
     "output_type": "stream",
     "text": [
      "ic| torch.max(P): tensor(48.1916, grad_fn=<MaxBackward1>)\n",
      "    torch.min(P): tensor(0.0449, grad_fn=<MinBackward1>)\n",
      "ic| torch.max(P2): tensor(0.9357, grad_fn=<MaxBackward1>)\n",
      "    torch.min(P2): tensor(0.0012, grad_fn=<MinBackward1>)\n"
     ]
    },
    {
     "name": "stdout",
     "output_type": "stream",
     "text": [
      "Epoch [22/100], Loss: -0.5250444412231445\n",
      "total_loss.grad:  <NllLossBackward0 object at 0x000001CF65156950>\n",
      "tensor(0., dtype=torch.float64)\n",
      "tensor(0.6277, dtype=torch.float64)\n",
      "tensor(0.1526, dtype=torch.float64)\n",
      "tensor(-0.0089, dtype=torch.float64)\n",
      "tensor(-0.3501, dtype=torch.float64)\n"
     ]
    },
    {
     "name": "stderr",
     "output_type": "stream",
     "text": [
      "ic| torch.max(P): tensor(48.2222, grad_fn=<MaxBackward1>)\n",
      "    torch.min(P): tensor(0.0444, grad_fn=<MinBackward1>)\n",
      "ic| torch.max(P2): tensor(0.9359, grad_fn=<MaxBackward1>)\n",
      "    torch.min(P2): tensor(0.0012, grad_fn=<MinBackward1>)\n"
     ]
    },
    {
     "name": "stdout",
     "output_type": "stream",
     "text": [
      "Epoch [23/100], Loss: -0.5250410437583923\n",
      "total_loss.grad:  <NllLossBackward0 object at 0x000001CF652EDFC0>\n",
      "tensor(0., dtype=torch.float64)\n",
      "tensor(0.8894, dtype=torch.float64)\n",
      "tensor(0.1593, dtype=torch.float64)\n",
      "tensor(-0.0093, dtype=torch.float64)\n",
      "tensor(-0.0840, dtype=torch.float64)\n"
     ]
    },
    {
     "name": "stderr",
     "output_type": "stream",
     "text": [
      "ic| torch.max(P): tensor(48.2705, grad_fn=<MaxBackward1>)\n",
      "    torch.min(P): tensor(0.0441, grad_fn=<MinBackward1>)\n",
      "ic| torch.max(P2): tensor(0.9361, grad_fn=<MaxBackward1>)\n",
      "    torch.min(P2): tensor(0.0012, grad_fn=<MinBackward1>)\n"
     ]
    },
    {
     "name": "stdout",
     "output_type": "stream",
     "text": [
      "Epoch [24/100], Loss: -0.5250406265258789\n",
      "total_loss.grad:  <NllLossBackward0 object at 0x000001CF64F12560>\n",
      "tensor(0., dtype=torch.float64)\n",
      "tensor(1.0703, dtype=torch.float64)\n",
      "tensor(0.1635, dtype=torch.float64)\n",
      "tensor(-0.0095, dtype=torch.float64)\n",
      "tensor(0.1465, dtype=torch.float64)\n"
     ]
    },
    {
     "name": "stderr",
     "output_type": "stream",
     "text": [
      "ic| torch.max(P): tensor(48.2778, grad_fn=<MaxBackward1>)\n",
      "    torch.min(P): tensor(0.0440, grad_fn=<MinBackward1>)\n",
      "ic| torch.max(P2): tensor(0.9361, grad_fn=<MaxBackward1>)\n",
      "    torch.min(P2): tensor(0.0011, grad_fn=<MinBackward1>)\n"
     ]
    },
    {
     "name": "stdout",
     "output_type": "stream",
     "text": [
      "Epoch [25/100], Loss: -0.5250469446182251\n",
      "total_loss.grad:  <NllLossBackward0 object at 0x000001CF651572E0>\n",
      "tensor(0., dtype=torch.float64)\n",
      "tensor(1.1246, dtype=torch.float64)\n",
      "tensor(0.1648, dtype=torch.float64)\n",
      "tensor(-0.0096, dtype=torch.float64)\n",
      "tensor(0.1943, dtype=torch.float64)\n"
     ]
    },
    {
     "name": "stderr",
     "output_type": "stream",
     "text": [
      "ic| torch.max(P): tensor(48.2356, grad_fn=<MaxBackward1>)\n",
      "    torch.min(P): tensor(0.0442, grad_fn=<MinBackward1>)\n",
      "ic| torch.max(P2): tensor(0.9360, grad_fn=<MaxBackward1>)\n",
      "    torch.min(P2): tensor(0.0012, grad_fn=<MinBackward1>)\n"
     ]
    },
    {
     "name": "stdout",
     "output_type": "stream",
     "text": [
      "Epoch [26/100], Loss: -0.5250613689422607\n",
      "total_loss.grad:  <NllLossBackward0 object at 0x000001CF650A2050>\n",
      "tensor(0., dtype=torch.float64)\n",
      "tensor(1.0522, dtype=torch.float64)\n",
      "tensor(0.1631, dtype=torch.float64)\n",
      "tensor(-0.0094, dtype=torch.float64)\n",
      "tensor(0.0426, dtype=torch.float64)\n"
     ]
    },
    {
     "name": "stderr",
     "output_type": "stream",
     "text": [
      "ic| torch.max(P): tensor(48.1861, grad_fn=<MaxBackward1>)\n",
      "    torch.min(P): tensor(0.0445, grad_fn=<MinBackward1>)\n",
      "ic| torch.max(P2): tensor(0.9357, grad_fn=<MaxBackward1>)\n",
      "    torch.min(P2): tensor(0.0012, grad_fn=<MinBackward1>)\n"
     ]
    },
    {
     "name": "stdout",
     "output_type": "stream",
     "text": [
      "Epoch [27/100], Loss: -0.5250808000564575\n",
      "total_loss.grad:  <NllLossBackward0 object at 0x000001CF64F12800>\n",
      "tensor(0., dtype=torch.float64)\n",
      "tensor(0.8976, dtype=torch.float64)\n",
      "tensor(0.1593, dtype=torch.float64)\n",
      "tensor(-0.0092, dtype=torch.float64)\n",
      "tensor(-0.1941, dtype=torch.float64)\n"
     ]
    },
    {
     "name": "stderr",
     "output_type": "stream",
     "text": [
      "ic| torch.max(P): tensor(48.1909, grad_fn=<MaxBackward1>)\n",
      "    torch.min(P): tensor(0.0449, grad_fn=<MinBackward1>)\n",
      "ic| torch.max(P2): tensor(0.9355, grad_fn=<MaxBackward1>)\n",
      "    torch.min(P2): tensor(0.0012, grad_fn=<MinBackward1>)\n"
     ]
    },
    {
     "name": "stdout",
     "output_type": "stream",
     "text": [
      "Epoch [28/100], Loss: -0.5251030325889587\n",
      "total_loss.grad:  <NllLossBackward0 object at 0x000001CF64F127A0>\n",
      "tensor(0., dtype=torch.float64)\n",
      "tensor(0.7230, dtype=torch.float64)\n",
      "tensor(0.1540, dtype=torch.float64)\n",
      "tensor(-0.0089, dtype=torch.float64)\n",
      "tensor(-0.3494, dtype=torch.float64)\n"
     ]
    },
    {
     "name": "stderr",
     "output_type": "stream",
     "text": [
      "ic| torch.max(P): tensor(48.2861, grad_fn=<MaxBackward1>)\n",
      "    torch.min(P): tensor(0.0452, grad_fn=<MinBackward1>)\n",
      "ic| torch.max(P2): tensor(0.9355, grad_fn=<MaxBackward1>)\n",
      "    torch.min(P2): tensor(0.0012, grad_fn=<MinBackward1>)\n"
     ]
    },
    {
     "name": "stdout",
     "output_type": "stream",
     "text": [
      "Epoch [29/100], Loss: -0.5251269936561584\n",
      "total_loss.grad:  <NllLossBackward0 object at 0x000001CF650A2860>\n",
      "tensor(0., dtype=torch.float64)\n",
      "tensor(0.5715, dtype=torch.float64)\n",
      "tensor(0.1479, dtype=torch.float64)\n",
      "tensor(-0.0086, dtype=torch.float64)\n",
      "tensor(-0.3199, dtype=torch.float64)\n"
     ]
    },
    {
     "name": "stderr",
     "output_type": "stream",
     "text": [
      "ic| torch.max(P): tensor(48.4565, grad_fn=<MaxBackward1>)\n",
      "    torch.min(P): tensor(0.0453, grad_fn=<MinBackward1>)\n",
      "ic| torch.max(P2): tensor(0.9355, grad_fn=<MaxBackward1>)\n",
      "    torch.min(P2): tensor(0.0012, grad_fn=<MinBackward1>)\n"
     ]
    },
    {
     "name": "stdout",
     "output_type": "stream",
     "text": [
      "Epoch [30/100], Loss: -0.5251501798629761\n",
      "total_loss.grad:  <NllLossBackward0 object at 0x000001CF650A2890>\n",
      "tensor(0., dtype=torch.float64)\n",
      "tensor(0.4456, dtype=torch.float64)\n",
      "tensor(0.1413, dtype=torch.float64)\n",
      "tensor(-0.0085, dtype=torch.float64)\n",
      "tensor(-0.1316, dtype=torch.float64)\n"
     ]
    },
    {
     "name": "stderr",
     "output_type": "stream",
     "text": [
      "ic| torch.max(P): tensor(48.6466, grad_fn=<MaxBackward1>)\n",
      "    torch.min(P): tensor(0.0455, grad_fn=<MinBackward1>)\n",
      "ic| torch.max(P2): tensor(0.9356, grad_fn=<MaxBackward1>)\n",
      "    torch.min(P2): tensor(0.0013, grad_fn=<MinBackward1>)\n"
     ]
    },
    {
     "name": "stdout",
     "output_type": "stream",
     "text": [
      "Epoch [31/100], Loss: -0.5251697897911072\n",
      "total_loss.grad:  <NllLossBackward0 object at 0x000001CF652EDED0>\n",
      "tensor(0., dtype=torch.float64)\n",
      "tensor(0.3159, dtype=torch.float64)\n",
      "tensor(0.1344, dtype=torch.float64)\n",
      "tensor(-0.0083, dtype=torch.float64)\n",
      "tensor(0.0896, dtype=torch.float64)\n"
     ]
    },
    {
     "name": "stderr",
     "output_type": "stream",
     "text": [
      "ic| torch.max(P): tensor(48.7963, grad_fn=<MaxBackward1>)\n",
      "    torch.min(P): tensor(0.0458, grad_fn=<MinBackward1>)\n",
      "ic| torch.max(P2): tensor(0.9356, grad_fn=<MaxBackward1>)\n",
      "    torch.min(P2): tensor(0.0013, grad_fn=<MinBackward1>)\n"
     ]
    },
    {
     "name": "stdout",
     "output_type": "stream",
     "text": [
      "Epoch [32/100], Loss: -0.525184690952301\n",
      "total_loss.grad:  <NllLossBackward0 object at 0x000001CF64F12290>\n",
      "tensor(0., dtype=torch.float64)\n",
      "tensor(0.1495, dtype=torch.float64)\n",
      "tensor(0.1270, dtype=torch.float64)\n",
      "tensor(-0.0081, dtype=torch.float64)\n",
      "tensor(0.2086, dtype=torch.float64)\n"
     ]
    },
    {
     "name": "stderr",
     "output_type": "stream",
     "text": [
      "ic| torch.max(P): tensor(48.8773, grad_fn=<MaxBackward1>)\n",
      "    torch.min(P): tensor(0.0462, grad_fn=<MinBackward1>)\n",
      "ic| torch.max(P2): tensor(0.9355, grad_fn=<MaxBackward1>)\n",
      "    torch.min(P2): tensor(0.0013, grad_fn=<MinBackward1>)\n"
     ]
    },
    {
     "name": "stdout",
     "output_type": "stream",
     "text": [
      "Epoch [33/100], Loss: -0.5251963138580322\n",
      "total_loss.grad:  <NllLossBackward0 object at 0x000001CF652EE260>\n",
      "tensor(0., dtype=torch.float64)\n",
      "tensor(-0.0609, dtype=torch.float64)\n",
      "tensor(0.1196, dtype=torch.float64)\n",
      "tensor(-0.0077, dtype=torch.float64)\n",
      "tensor(0.1698, dtype=torch.float64)\n"
     ]
    },
    {
     "name": "stderr",
     "output_type": "stream",
     "text": [
      "ic| torch.max(P): tensor(48.9064, grad_fn=<MaxBackward1>)\n",
      "    torch.min(P): tensor(0.0466, grad_fn=<MinBackward1>)\n",
      "ic| torch.max(P2): tensor(0.9352, grad_fn=<MaxBackward1>)\n",
      "    torch.min(P2): tensor(0.0014, grad_fn=<MinBackward1>)\n"
     ]
    },
    {
     "name": "stdout",
     "output_type": "stream",
     "text": [
      "Epoch [34/100], Loss: -0.5252048969268799\n",
      "total_loss.grad:  <NllLossBackward0 object at 0x000001CF651572E0>\n",
      "tensor(0., dtype=torch.float64)\n",
      "tensor(-0.2863, dtype=torch.float64)\n",
      "tensor(0.1126, dtype=torch.float64)\n",
      "tensor(-0.0074, dtype=torch.float64)\n",
      "tensor(0.0278, dtype=torch.float64)\n"
     ]
    },
    {
     "name": "stderr",
     "output_type": "stream",
     "text": [
      "ic| torch.max(P): tensor(48.9274, grad_fn=<MaxBackward1>)\n",
      "    torch.min(P): tensor(0.0470, grad_fn=<MinBackward1>)\n",
      "ic| torch.max(P2): tensor(0.9350, grad_fn=<MaxBackward1>)\n",
      "    torch.min(P2): tensor(0.0014, grad_fn=<MinBackward1>)\n"
     ]
    },
    {
     "name": "stdout",
     "output_type": "stream",
     "text": [
      "Epoch [35/100], Loss: -0.5252110362052917\n",
      "total_loss.grad:  <NllLossBackward0 object at 0x000001CF64F12560>\n",
      "tensor(0., dtype=torch.float64)\n",
      "tensor(-0.4773, dtype=torch.float64)\n",
      "tensor(0.1067, dtype=torch.float64)\n",
      "tensor(-0.0071, dtype=torch.float64)\n",
      "tensor(-0.0994, dtype=torch.float64)\n"
     ]
    },
    {
     "name": "stderr",
     "output_type": "stream",
     "text": [
      "ic| torch.max(P): tensor(48.9769, grad_fn=<MaxBackward1>)\n",
      "    torch.min(P): tensor(0.0472, grad_fn=<MinBackward1>)\n",
      "ic| torch.max(P2): tensor(0.9349, grad_fn=<MaxBackward1>)\n",
      "    torch.min(P2): tensor(0.0014, grad_fn=<MinBackward1>)\n"
     ]
    },
    {
     "name": "stdout",
     "output_type": "stream",
     "text": [
      "Epoch [36/100], Loss: -0.5252171158790588\n",
      "total_loss.grad:  <NllLossBackward0 object at 0x000001CF64F10CD0>\n",
      "tensor(0., dtype=torch.float64)\n",
      "tensor(-0.5932, dtype=torch.float64)\n",
      "tensor(0.1024, dtype=torch.float64)\n",
      "tensor(-0.0069, dtype=torch.float64)\n",
      "tensor(-0.1144, dtype=torch.float64)\n"
     ]
    },
    {
     "name": "stderr",
     "output_type": "stream",
     "text": [
      "ic| torch.max(P): tensor(49.0573, grad_fn=<MaxBackward1>)\n",
      "    torch.min(P): tensor(0.0473, grad_fn=<MinBackward1>)\n",
      "ic| torch.max(P2): tensor(0.9350, grad_fn=<MaxBackward1>)\n",
      "    torch.min(P2): tensor(0.0014, grad_fn=<MinBackward1>)\n"
     ]
    },
    {
     "name": "stdout",
     "output_type": "stream",
     "text": [
      "Epoch [37/100], Loss: -0.5252247452735901\n",
      "total_loss.grad:  <NllLossBackward0 object at 0x000001CF652EDE70>\n",
      "tensor(0., dtype=torch.float64)\n",
      "tensor(-0.6261, dtype=torch.float64)\n",
      "tensor(0.0999, dtype=torch.float64)\n",
      "tensor(-0.0069, dtype=torch.float64)\n",
      "tensor(-0.0080, dtype=torch.float64)\n"
     ]
    },
    {
     "name": "stderr",
     "output_type": "stream",
     "text": [
      "ic| torch.max(P): tensor(49.1359, grad_fn=<MaxBackward1>)\n",
      "    torch.min(P): tensor(0.0472, grad_fn=<MinBackward1>)\n",
      "ic| torch.max(P2): tensor(0.9350, grad_fn=<MaxBackward1>)\n",
      "    torch.min(P2): tensor(0.0014, grad_fn=<MinBackward1>)\n"
     ]
    },
    {
     "name": "stdout",
     "output_type": "stream",
     "text": [
      "Epoch [38/100], Loss: -0.5252341032028198\n",
      "total_loss.grad:  <NllLossBackward0 object at 0x000001CF64F10CD0>\n",
      "tensor(0., dtype=torch.float64)\n",
      "tensor(-0.6013, dtype=torch.float64)\n",
      "tensor(0.0990, dtype=torch.float64)\n",
      "tensor(-0.0069, dtype=torch.float64)\n",
      "tensor(0.1401, dtype=torch.float64)\n"
     ]
    },
    {
     "name": "stderr",
     "output_type": "stream",
     "text": [
      "ic| torch.max(P): tensor(49.1703, grad_fn=<MaxBackward1>)\n",
      "    torch.min(P): tensor(0.0472, grad_fn=<MinBackward1>)\n",
      "ic| torch.max(P2): tensor(0.9351, grad_fn=<MaxBackward1>)\n",
      "    torch.min(P2): tensor(0.0014, grad_fn=<MinBackward1>)\n"
     ]
    },
    {
     "name": "stdout",
     "output_type": "stream",
     "text": [
      "Epoch [39/100], Loss: -0.5252453684806824\n",
      "total_loss.grad:  <NllLossBackward0 object at 0x000001CF652EE260>\n",
      "tensor(0., dtype=torch.float64)\n",
      "tensor(-0.5568, dtype=torch.float64)\n",
      "tensor(0.0993, dtype=torch.float64)\n",
      "tensor(-0.0069, dtype=torch.float64)\n",
      "tensor(0.2236, dtype=torch.float64)\n"
     ]
    },
    {
     "name": "stderr",
     "output_type": "stream",
     "text": [
      "ic| torch.max(P): tensor(49.1399, grad_fn=<MaxBackward1>)\n",
      "    torch.min(P): tensor(0.0472, grad_fn=<MinBackward1>)\n",
      "ic| torch.max(P2): tensor(0.9350, grad_fn=<MaxBackward1>)\n",
      "    torch.min(P2): tensor(0.0014, grad_fn=<MinBackward1>)\n"
     ]
    },
    {
     "name": "stdout",
     "output_type": "stream",
     "text": [
      "Epoch [40/100], Loss: -0.5252590179443359\n",
      "total_loss.grad:  <NllLossBackward0 object at 0x000001CF64F12800>\n",
      "tensor(0., dtype=torch.float64)\n",
      "tensor(-0.5161, dtype=torch.float64)\n",
      "tensor(0.1006, dtype=torch.float64)\n",
      "tensor(-0.0070, dtype=torch.float64)\n",
      "tensor(0.1871, dtype=torch.float64)\n"
     ]
    },
    {
     "name": "stderr",
     "output_type": "stream",
     "text": [
      "ic| torch.max(P): tensor(49.0605, grad_fn=<MaxBackward1>)\n",
      "    torch.min(P): tensor(0.0472, grad_fn=<MinBackward1>)\n",
      "ic| torch.max(P2): tensor(0.9349, grad_fn=<MaxBackward1>)\n",
      "    torch.min(P2): tensor(0.0014, grad_fn=<MinBackward1>)\n"
     ]
    },
    {
     "name": "stdout",
     "output_type": "stream",
     "text": [
      "Epoch [41/100], Loss: -0.5252737402915955\n",
      "total_loss.grad:  <NllLossBackward0 object at 0x000001CF652EDFC0>\n",
      "tensor(0., dtype=torch.float64)\n",
      "tensor(-0.4753, dtype=torch.float64)\n",
      "tensor(0.1026, dtype=torch.float64)\n",
      "tensor(-0.0070, dtype=torch.float64)\n",
      "tensor(0.0617, dtype=torch.float64)\n"
     ]
    },
    {
     "name": "stderr",
     "output_type": "stream",
     "text": [
      "ic| torch.max(P): tensor(48.9728, grad_fn=<MaxBackward1>)\n",
      "    torch.min(P): tensor(0.0471, grad_fn=<MinBackward1>)\n",
      "ic| torch.max(P2): tensor(0.9348, grad_fn=<MaxBackward1>)\n",
      "    torch.min(P2): tensor(0.0014, grad_fn=<MinBackward1>)\n"
     ]
    },
    {
     "name": "stdout",
     "output_type": "stream",
     "text": [
      "Epoch [42/100], Loss: -0.5252882242202759\n",
      "total_loss.grad:  <NllLossBackward0 object at 0x000001CF64F12560>\n",
      "tensor(0., dtype=torch.float64)\n",
      "tensor(-0.4120, dtype=torch.float64)\n",
      "tensor(0.1055, dtype=torch.float64)\n",
      "tensor(-0.0070, dtype=torch.float64)\n",
      "tensor(-0.0612, dtype=torch.float64)\n"
     ]
    },
    {
     "name": "stderr",
     "output_type": "stream",
     "text": [
      "ic| torch.max(P): tensor(48.9139, grad_fn=<MaxBackward1>)\n",
      "    torch.min(P): tensor(0.0470, grad_fn=<MinBackward1>)\n",
      "ic| torch.max(P2): tensor(0.9348, grad_fn=<MaxBackward1>)\n",
      "    torch.min(P2): tensor(0.0014, grad_fn=<MinBackward1>)\n"
     ]
    },
    {
     "name": "stdout",
     "output_type": "stream",
     "text": [
      "Epoch [43/100], Loss: -0.5253016948699951\n",
      "total_loss.grad:  <NllLossBackward0 object at 0x000001CF651572E0>\n",
      "tensor(0., dtype=torch.float64)\n",
      "tensor(-0.3081, dtype=torch.float64)\n",
      "tensor(0.1090, dtype=torch.float64)\n",
      "tensor(-0.0071, dtype=torch.float64)\n",
      "tensor(-0.0991, dtype=torch.float64)\n"
     ]
    },
    {
     "name": "stderr",
     "output_type": "stream",
     "text": [
      "ic| torch.max(P): tensor(48.8928, grad_fn=<MaxBackward1>)\n",
      "    torch.min(P): tensor(0.0468, grad_fn=<MinBackward1>)\n",
      "ic| torch.max(P2): tensor(0.9349, grad_fn=<MaxBackward1>)\n",
      "    torch.min(P2): tensor(0.0013, grad_fn=<MinBackward1>)\n"
     ]
    },
    {
     "name": "stdout",
     "output_type": "stream",
     "text": [
      "Epoch [44/100], Loss: -0.5253146886825562\n",
      "total_loss.grad:  <NllLossBackward0 object at 0x000001CF652EDFC0>\n",
      "tensor(0., dtype=torch.float64)\n",
      "tensor(-0.1685, dtype=torch.float64)\n",
      "tensor(0.1130, dtype=torch.float64)\n",
      "tensor(-0.0073, dtype=torch.float64)\n",
      "tensor(-0.0386, dtype=torch.float64)\n"
     ]
    },
    {
     "name": "stderr",
     "output_type": "stream",
     "text": [
      "ic| torch.max(P): tensor(48.8873, grad_fn=<MaxBackward1>)\n",
      "    torch.min(P): tensor(0.0466, grad_fn=<MinBackward1>)\n",
      "ic| torch.max(P2): tensor(0.9350, grad_fn=<MaxBackward1>)\n",
      "    torch.min(P2): tensor(0.0013, grad_fn=<MinBackward1>)\n"
     ]
    },
    {
     "name": "stdout",
     "output_type": "stream",
     "text": [
      "Epoch [45/100], Loss: -0.5253257751464844\n",
      "total_loss.grad:  <NllLossBackward0 object at 0x000001CF65156950>\n",
      "tensor(0., dtype=torch.float64)\n",
      "tensor(-0.0227, dtype=torch.float64)\n",
      "tensor(0.1169, dtype=torch.float64)\n",
      "tensor(-0.0075, dtype=torch.float64)\n",
      "tensor(0.0567, dtype=torch.float64)\n"
     ]
    },
    {
     "name": "stderr",
     "output_type": "stream",
     "text": [
      "ic| torch.max(P): tensor(48.8665, grad_fn=<MaxBackward1>)\n",
      "    torch.min(P): tensor(0.0464, grad_fn=<MinBackward1>)\n",
      "ic| torch.max(P2): tensor(0.9350, grad_fn=<MaxBackward1>)\n",
      "    torch.min(P2): tensor(0.0013, grad_fn=<MinBackward1>)\n"
     ]
    },
    {
     "name": "stdout",
     "output_type": "stream",
     "text": [
      "Epoch [46/100], Loss: -0.5253358483314514\n",
      "total_loss.grad:  <NllLossBackward0 object at 0x000001CF64F109D0>\n",
      "tensor(0., dtype=torch.float64)\n",
      "tensor(0.0945, dtype=torch.float64)\n",
      "tensor(0.1203, dtype=torch.float64)\n",
      "tensor(-0.0076, dtype=torch.float64)\n",
      "tensor(0.1017, dtype=torch.float64)\n"
     ]
    },
    {
     "name": "stderr",
     "output_type": "stream",
     "text": [
      "ic| torch.max(P): tensor(48.8172, grad_fn=<MaxBackward1>)\n",
      "    torch.min(P): tensor(0.0463, grad_fn=<MinBackward1>)\n",
      "ic| torch.max(P2): tensor(0.9349, grad_fn=<MaxBackward1>)\n",
      "    torch.min(P2): tensor(0.0013, grad_fn=<MinBackward1>)\n"
     ]
    },
    {
     "name": "stdout",
     "output_type": "stream",
     "text": [
      "Epoch [47/100], Loss: -0.5253452062606812\n",
      "total_loss.grad:  <NllLossBackward0 object at 0x000001CF65156950>\n",
      "tensor(0., dtype=torch.float64)\n",
      "tensor(0.1651, dtype=torch.float64)\n",
      "tensor(0.1228, dtype=torch.float64)\n",
      "tensor(-0.0077, dtype=torch.float64)\n",
      "tensor(0.0569, dtype=torch.float64)\n"
     ]
    },
    {
     "name": "stderr",
     "output_type": "stream",
     "text": [
      "ic| torch.max(P): tensor(48.7557, grad_fn=<MaxBackward1>)\n",
      "    torch.min(P): tensor(0.0463, grad_fn=<MinBackward1>)\n",
      "ic| torch.max(P2): tensor(0.9349, grad_fn=<MaxBackward1>)\n",
      "    torch.min(P2): tensor(0.0013, grad_fn=<MinBackward1>)\n"
     ]
    },
    {
     "name": "stdout",
     "output_type": "stream",
     "text": [
      "Epoch [48/100], Loss: -0.5253545045852661\n",
      "total_loss.grad:  <NllLossBackward0 object at 0x000001CF650A2890>\n",
      "tensor(0., dtype=torch.float64)\n",
      "tensor(0.1972, dtype=torch.float64)\n",
      "tensor(0.1244, dtype=torch.float64)\n",
      "tensor(-0.0077, dtype=torch.float64)\n",
      "tensor(-0.0422, dtype=torch.float64)\n"
     ]
    },
    {
     "name": "stderr",
     "output_type": "stream",
     "text": [
      "ic| torch.max(P): tensor(48.7144, grad_fn=<MaxBackward1>)\n",
      "    torch.min(P): tensor(0.0464, grad_fn=<MinBackward1>)\n",
      "ic| torch.max(P2): tensor(0.9348, grad_fn=<MaxBackward1>)\n",
      "    torch.min(P2): tensor(0.0013, grad_fn=<MinBackward1>)\n"
     ]
    },
    {
     "name": "stdout",
     "output_type": "stream",
     "text": [
      "Epoch [49/100], Loss: -0.5253638029098511\n",
      "total_loss.grad:  <NllLossBackward0 object at 0x000001CF64F12800>\n",
      "tensor(0., dtype=torch.float64)\n",
      "tensor(0.2139, dtype=torch.float64)\n",
      "tensor(0.1253, dtype=torch.float64)\n",
      "tensor(-0.0077, dtype=torch.float64)\n",
      "tensor(-0.1175, dtype=torch.float64)\n"
     ]
    },
    {
     "name": "stderr",
     "output_type": "stream",
     "text": [
      "ic| torch.max(P): tensor(48.7159, grad_fn=<MaxBackward1>)\n",
      "    torch.min(P): tensor(0.0464, grad_fn=<MinBackward1>)\n",
      "ic| torch.max(P2): tensor(0.9347, grad_fn=<MaxBackward1>)\n",
      "    torch.min(P2): tensor(0.0013, grad_fn=<MinBackward1>)\n"
     ]
    },
    {
     "name": "stdout",
     "output_type": "stream",
     "text": [
      "Epoch [50/100], Loss: -0.5253738164901733\n",
      "total_loss.grad:  <NllLossBackward0 object at 0x000001CF64F10DC0>\n",
      "tensor(0., dtype=torch.float64)\n",
      "tensor(0.2326, dtype=torch.float64)\n",
      "tensor(0.1255, dtype=torch.float64)\n",
      "tensor(-0.0077, dtype=torch.float64)\n",
      "tensor(-0.1131, dtype=torch.float64)\n"
     ]
    },
    {
     "name": "stderr",
     "output_type": "stream",
     "text": [
      "ic| torch.max(P): tensor(48.7552, grad_fn=<MaxBackward1>)\n",
      "    torch.min(P): tensor(0.0464, grad_fn=<MinBackward1>)\n",
      "ic| torch.max(P2): tensor(0.9348, grad_fn=<MaxBackward1>)\n",
      "    torch.min(P2): tensor(0.0013, grad_fn=<MinBackward1>)\n"
     ]
    },
    {
     "name": "stdout",
     "output_type": "stream",
     "text": [
      "Epoch [51/100], Loss: -0.5253844261169434\n",
      "total_loss.grad:  <NllLossBackward0 object at 0x000001CF64F13430>\n",
      "tensor(0., dtype=torch.float64)\n",
      "tensor(0.2503, dtype=torch.float64)\n",
      "tensor(0.1251, dtype=torch.float64)\n",
      "tensor(-0.0077, dtype=torch.float64)\n",
      "tensor(-0.0404, dtype=torch.float64)\n"
     ]
    },
    {
     "name": "stderr",
     "output_type": "stream",
     "text": [
      "ic| torch.max(P): tensor(48.8052, grad_fn=<MaxBackward1>)\n",
      "    torch.min(P): tensor(0.0464, grad_fn=<MinBackward1>)\n",
      "ic| torch.max(P2): tensor(0.9348, grad_fn=<MaxBackward1>)\n",
      "    torch.min(P2): tensor(0.0013, grad_fn=<MinBackward1>)\n"
     ]
    },
    {
     "name": "stdout",
     "output_type": "stream",
     "text": [
      "Epoch [52/100], Loss: -0.5253954529762268\n",
      "total_loss.grad:  <NllLossBackward0 object at 0x000001CF64DD36A0>\n",
      "tensor(0., dtype=torch.float64)\n",
      "tensor(0.2488, dtype=torch.float64)\n",
      "tensor(0.1239, dtype=torch.float64)\n",
      "tensor(-0.0077, dtype=torch.float64)\n",
      "tensor(0.0356, dtype=torch.float64)\n"
     ]
    },
    {
     "name": "stderr",
     "output_type": "stream",
     "text": [
      "ic| torch.max(P): tensor(48.8399, grad_fn=<MaxBackward1>)\n",
      "    torch.min(P): tensor(0.0465, grad_fn=<MinBackward1>)\n",
      "ic| torch.max(P2): tensor(0.9347, grad_fn=<MaxBackward1>)\n",
      "    torch.min(P2): tensor(0.0013, grad_fn=<MinBackward1>)\n"
     ]
    },
    {
     "name": "stdout",
     "output_type": "stream",
     "text": [
      "Epoch [53/100], Loss: -0.5254069566726685\n",
      "total_loss.grad:  <NllLossBackward0 object at 0x000001CF6F35D450>\n",
      "tensor(0., dtype=torch.float64)\n",
      "tensor(0.2121, dtype=torch.float64)\n",
      "tensor(0.1220, dtype=torch.float64)\n",
      "tensor(-0.0076, dtype=torch.float64)\n",
      "tensor(0.0540, dtype=torch.float64)\n"
     ]
    },
    {
     "name": "stderr",
     "output_type": "stream",
     "text": [
      "ic| torch.max(P): tensor(48.8545, grad_fn=<MaxBackward1>)\n",
      "    torch.min(P): tensor(0.0466, grad_fn=<MinBackward1>)\n",
      "ic| torch.max(P2): tensor(0.9346, grad_fn=<MaxBackward1>)\n",
      "    torch.min(P2): tensor(0.0013, grad_fn=<MinBackward1>)\n"
     ]
    },
    {
     "name": "stdout",
     "output_type": "stream",
     "text": [
      "Epoch [54/100], Loss: -0.5254183411598206\n",
      "total_loss.grad:  <NllLossBackward0 object at 0x000001CF64DD36A0>\n",
      "tensor(0., dtype=torch.float64)\n",
      "tensor(0.1422, dtype=torch.float64)\n",
      "tensor(0.1194, dtype=torch.float64)\n",
      "tensor(-0.0075, dtype=torch.float64)\n",
      "tensor(0.0081, dtype=torch.float64)\n"
     ]
    },
    {
     "name": "stderr",
     "output_type": "stream",
     "text": [
      "ic| torch.max(P): tensor(48.8663, grad_fn=<MaxBackward1>)\n",
      "    torch.min(P): tensor(0.0468, grad_fn=<MinBackward1>)\n",
      "ic| torch.max(P2): tensor(0.9345, grad_fn=<MaxBackward1>)\n",
      "    torch.min(P2): tensor(0.0013, grad_fn=<MinBackward1>)\n"
     ]
    },
    {
     "name": "stdout",
     "output_type": "stream",
     "text": [
      "Epoch [55/100], Loss: -0.5254295468330383\n",
      "total_loss.grad:  <NllLossBackward0 object at 0x000001CF6F35CCA0>\n",
      "tensor(0., dtype=torch.float64)\n",
      "tensor(0.0596, dtype=torch.float64)\n",
      "tensor(0.1164, dtype=torch.float64)\n",
      "tensor(-0.0073, dtype=torch.float64)\n",
      "tensor(-0.0533, dtype=torch.float64)\n"
     ]
    },
    {
     "name": "stderr",
     "output_type": "stream",
     "text": [
      "ic| torch.max(P): tensor(48.8967, grad_fn=<MaxBackward1>)\n",
      "    torch.min(P): tensor(0.0470, grad_fn=<MinBackward1>)\n",
      "ic| torch.max(P2): tensor(0.9345, grad_fn=<MaxBackward1>)\n",
      "    torch.min(P2): tensor(0.0013, grad_fn=<MinBackward1>)\n"
     ]
    },
    {
     "name": "stdout",
     "output_type": "stream",
     "text": [
      "Epoch [56/100], Loss: -0.5254400968551636\n",
      "total_loss.grad:  <NllLossBackward0 object at 0x000001CF64DD36A0>\n",
      "tensor(0., dtype=torch.float64)\n",
      "tensor(-0.0119, dtype=torch.float64)\n",
      "tensor(0.1134, dtype=torch.float64)\n",
      "tensor(-0.0072, dtype=torch.float64)\n",
      "tensor(-0.0713, dtype=torch.float64)\n"
     ]
    },
    {
     "name": "stderr",
     "output_type": "stream",
     "text": [
      "ic| torch.max(P): tensor(48.9503, grad_fn=<MaxBackward1>)\n",
      "    torch.min(P): tensor(0.0471, grad_fn=<MinBackward1>)\n",
      "ic| torch.max(P2): tensor(0.9344, grad_fn=<MaxBackward1>)\n",
      "    torch.min(P2): tensor(0.0013, grad_fn=<MinBackward1>)\n"
     ]
    },
    {
     "name": "stdout",
     "output_type": "stream",
     "text": [
      "Epoch [57/100], Loss: -0.5254503488540649\n",
      "total_loss.grad:  <NllLossBackward0 object at 0x000001CF6F2947C0>\n",
      "tensor(0., dtype=torch.float64)\n",
      "tensor(-0.0617, dtype=torch.float64)\n",
      "tensor(0.1108, dtype=torch.float64)\n",
      "tensor(-0.0071, dtype=torch.float64)\n",
      "tensor(-0.0283, dtype=torch.float64)\n"
     ]
    },
    {
     "name": "stderr",
     "output_type": "stream",
     "text": [
      "ic| torch.max(P): tensor(49.0107, grad_fn=<MaxBackward1>)\n",
      "    torch.min(P): tensor(0.0472, grad_fn=<MinBackward1>)\n",
      "ic| torch.max(P2): tensor(0.9344, grad_fn=<MaxBackward1>)\n",
      "    torch.min(P2): tensor(0.0013, grad_fn=<MinBackward1>)\n"
     ]
    },
    {
     "name": "stdout",
     "output_type": "stream",
     "text": [
      "Epoch [58/100], Loss: -0.5254601836204529\n",
      "total_loss.grad:  <NllLossBackward0 object at 0x000001CF652327D0>\n",
      "tensor(0., dtype=torch.float64)\n",
      "tensor(-0.0973, dtype=torch.float64)\n",
      "tensor(0.1084, dtype=torch.float64)\n",
      "tensor(-0.0070, dtype=torch.float64)\n",
      "tensor(0.0388, dtype=torch.float64)\n"
     ]
    },
    {
     "name": "stderr",
     "output_type": "stream",
     "text": [
      "ic| torch.max(P): tensor(49.0538, grad_fn=<MaxBackward1>)\n",
      "    torch.min(P): tensor(0.0473, grad_fn=<MinBackward1>)\n",
      "ic| torch.max(P2): tensor(0.9344, grad_fn=<MaxBackward1>)\n",
      "    torch.min(P2): tensor(0.0013, grad_fn=<MinBackward1>)\n"
     ]
    },
    {
     "name": "stdout",
     "output_type": "stream",
     "text": [
      "Epoch [59/100], Loss: -0.5254697799682617\n",
      "total_loss.grad:  <NllLossBackward0 object at 0x000001CF64DD36A0>\n",
      "tensor(0., dtype=torch.float64)\n",
      "tensor(-0.1325, dtype=torch.float64)\n",
      "tensor(0.1063, dtype=torch.float64)\n",
      "tensor(-0.0070, dtype=torch.float64)\n",
      "tensor(0.0747, dtype=torch.float64)\n"
     ]
    },
    {
     "name": "stderr",
     "output_type": "stream",
     "text": [
      "ic| torch.max(P): tensor(49.0687, grad_fn=<MaxBackward1>)\n",
      "    torch.min(P): tensor(0.0474, grad_fn=<MinBackward1>)\n",
      "ic| torch.max(P2): tensor(0.9343, grad_fn=<MaxBackward1>)\n",
      "    torch.min(P2): tensor(0.0013, grad_fn=<MinBackward1>)\n"
     ]
    },
    {
     "name": "stdout",
     "output_type": "stream",
     "text": [
      "Epoch [60/100], Loss: -0.5254793167114258\n",
      "total_loss.grad:  <NllLossBackward0 object at 0x000001CF6F294790>\n",
      "tensor(0., dtype=torch.float64)\n",
      "tensor(-0.1727, dtype=torch.float64)\n",
      "tensor(0.1045, dtype=torch.float64)\n",
      "tensor(-0.0069, dtype=torch.float64)\n",
      "tensor(0.0551, dtype=torch.float64)\n"
     ]
    },
    {
     "name": "stderr",
     "output_type": "stream",
     "text": [
      "ic| torch.max(P): tensor(49.0649, grad_fn=<MaxBackward1>)\n",
      "    torch.min(P): tensor(0.0475, grad_fn=<MinBackward1>)\n",
      "ic| torch.max(P2): tensor(0.9343, grad_fn=<MaxBackward1>)\n",
      "    torch.min(P2): tensor(0.0013, grad_fn=<MinBackward1>)\n"
     ]
    },
    {
     "name": "stdout",
     "output_type": "stream",
     "text": [
      "Epoch [61/100], Loss: -0.5254889130592346\n",
      "total_loss.grad:  <NllLossBackward0 object at 0x000001CF652327D0>\n",
      "tensor(0., dtype=torch.float64)\n",
      "tensor(-0.2081, dtype=torch.float64)\n",
      "tensor(0.1032, dtype=torch.float64)\n",
      "tensor(-0.0068, dtype=torch.float64)\n",
      "tensor(0.0049, dtype=torch.float64)\n"
     ]
    },
    {
     "name": "stderr",
     "output_type": "stream",
     "text": [
      "ic| torch.max(P): tensor(49.0620, grad_fn=<MaxBackward1>)\n",
      "    torch.min(P): tensor(0.0475, grad_fn=<MinBackward1>)\n",
      "ic| torch.max(P2): tensor(0.9342, grad_fn=<MaxBackward1>)\n",
      "    torch.min(P2): tensor(0.0013, grad_fn=<MinBackward1>)\n"
     ]
    },
    {
     "name": "stdout",
     "output_type": "stream",
     "text": [
      "Epoch [62/100], Loss: -0.5254988074302673\n",
      "total_loss.grad:  <NllLossBackward0 object at 0x000001CF652304C0>\n",
      "tensor(0., dtype=torch.float64)\n",
      "tensor(-0.2231, dtype=torch.float64)\n",
      "tensor(0.1024, dtype=torch.float64)\n",
      "tensor(-0.0068, dtype=torch.float64)\n",
      "tensor(-0.0268, dtype=torch.float64)\n"
     ]
    },
    {
     "name": "stderr",
     "output_type": "stream",
     "text": [
      "ic| torch.max(P): tensor(49.0713, grad_fn=<MaxBackward1>)\n",
      "    torch.min(P): tensor(0.0476, grad_fn=<MinBackward1>)\n",
      "ic| torch.max(P2): tensor(0.9342, grad_fn=<MaxBackward1>)\n",
      "    torch.min(P2): tensor(0.0013, grad_fn=<MinBackward1>)\n"
     ]
    },
    {
     "name": "stdout",
     "output_type": "stream",
     "text": [
      "Epoch [63/100], Loss: -0.5255086421966553\n",
      "total_loss.grad:  <NllLossBackward0 object at 0x000001CF6F294670>\n",
      "tensor(0., dtype=torch.float64)\n",
      "tensor(-0.2098, dtype=torch.float64)\n",
      "tensor(0.1023, dtype=torch.float64)\n",
      "tensor(-0.0067, dtype=torch.float64)\n",
      "tensor(-0.0130, dtype=torch.float64)\n"
     ]
    },
    {
     "name": "stderr",
     "output_type": "stream",
     "text": [
      "ic| torch.max(P): tensor(49.0867, grad_fn=<MaxBackward1>)\n",
      "    torch.min(P): tensor(0.0475, grad_fn=<MinBackward1>)\n",
      "ic| torch.max(P2): tensor(0.9342, grad_fn=<MaxBackward1>)\n",
      "    torch.min(P2): tensor(0.0013, grad_fn=<MinBackward1>)\n"
     ]
    },
    {
     "name": "stdout",
     "output_type": "stream",
     "text": [
      "Epoch [64/100], Loss: -0.5255187749862671\n",
      "total_loss.grad:  <NllLossBackward0 object at 0x000001CF64DD36A0>\n",
      "tensor(0., dtype=torch.float64)\n",
      "tensor(-0.1756, dtype=torch.float64)\n",
      "tensor(0.1027, dtype=torch.float64)\n",
      "tensor(-0.0068, dtype=torch.float64)\n",
      "tensor(0.0293, dtype=torch.float64)\n"
     ]
    },
    {
     "name": "stderr",
     "output_type": "stream",
     "text": [
      "ic| torch.max(P): tensor(49.0922, grad_fn=<MaxBackward1>)\n",
      "    torch.min(P): tensor(0.0475, grad_fn=<MinBackward1>)\n",
      "ic| torch.max(P2): tensor(0.9342, grad_fn=<MaxBackward1>)\n",
      "    torch.min(P2): tensor(0.0013, grad_fn=<MinBackward1>)\n"
     ]
    },
    {
     "name": "stdout",
     "output_type": "stream",
     "text": [
      "Epoch [65/100], Loss: -0.5255287289619446\n",
      "total_loss.grad:  <NllLossBackward0 object at 0x000001CF6F294760>\n",
      "tensor(0., dtype=torch.float64)\n",
      "tensor(-0.1371, dtype=torch.float64)\n",
      "tensor(0.1034, dtype=torch.float64)\n",
      "tensor(-0.0068, dtype=torch.float64)\n",
      "tensor(0.0569, dtype=torch.float64)\n"
     ]
    },
    {
     "name": "stderr",
     "output_type": "stream",
     "text": [
      "ic| torch.max(P): tensor(49.0783, grad_fn=<MaxBackward1>)\n",
      "    torch.min(P): tensor(0.0475, grad_fn=<MinBackward1>)\n",
      "ic| torch.max(P2): tensor(0.9341, grad_fn=<MaxBackward1>)\n",
      "    torch.min(P2): tensor(0.0013, grad_fn=<MinBackward1>)\n"
     ]
    },
    {
     "name": "stdout",
     "output_type": "stream",
     "text": [
      "Epoch [66/100], Loss: -0.5255387425422668\n",
      "total_loss.grad:  <NllLossBackward0 object at 0x000001CF65230700>\n",
      "tensor(0., dtype=torch.float64)\n",
      "tensor(-0.1057, dtype=torch.float64)\n",
      "tensor(0.1042, dtype=torch.float64)\n",
      "tensor(-0.0068, dtype=torch.float64)\n",
      "tensor(0.0430, dtype=torch.float64)\n"
     ]
    },
    {
     "name": "stderr",
     "output_type": "stream",
     "text": [
      "ic| torch.max(P): tensor(49.0516, grad_fn=<MaxBackward1>)\n",
      "    torch.min(P): tensor(0.0475, grad_fn=<MinBackward1>)\n",
      "ic| torch.max(P2): tensor(0.9341, grad_fn=<MaxBackward1>)\n",
      "    torch.min(P2): tensor(0.0013, grad_fn=<MinBackward1>)\n"
     ]
    },
    {
     "name": "stdout",
     "output_type": "stream",
     "text": [
      "Epoch [67/100], Loss: -0.5255487561225891\n",
      "total_loss.grad:  <NllLossBackward0 object at 0x000001CF6F2942B0>\n",
      "tensor(0., dtype=torch.float64)\n",
      "tensor(-0.0807, dtype=torch.float64)\n",
      "tensor(0.1050, dtype=torch.float64)\n",
      "tensor(-0.0068, dtype=torch.float64)\n",
      "tensor(0.0006, dtype=torch.float64)\n"
     ]
    },
    {
     "name": "stderr",
     "output_type": "stream",
     "text": [
      "ic| torch.max(P): tensor(49.0291, grad_fn=<MaxBackward1>)\n",
      "    torch.min(P): tensor(0.0475, grad_fn=<MinBackward1>)\n",
      "ic| torch.max(P2): tensor(0.9340, grad_fn=<MaxBackward1>)\n",
      "    torch.min(P2): tensor(0.0013, grad_fn=<MinBackward1>)\n"
     ]
    },
    {
     "name": "stdout",
     "output_type": "stream",
     "text": [
      "Epoch [68/100], Loss: -0.5255582332611084\n",
      "total_loss.grad:  <NllLossBackward0 object at 0x000001CF6F35D390>\n",
      "tensor(0., dtype=torch.float64)\n",
      "tensor(-0.0531, dtype=torch.float64)\n",
      "tensor(0.1058, dtype=torch.float64)\n",
      "tensor(-0.0068, dtype=torch.float64)\n",
      "tensor(-0.0322, dtype=torch.float64)\n"
     ]
    },
    {
     "name": "stderr",
     "output_type": "stream",
     "text": [
      "ic| torch.max(P): tensor(49.0227, grad_fn=<MaxBackward1>)\n",
      "    torch.min(P): tensor(0.0474, grad_fn=<MinBackward1>)\n",
      "ic| torch.max(P2): tensor(0.9340, grad_fn=<MaxBackward1>)\n",
      "    torch.min(P2): tensor(0.0013, grad_fn=<MinBackward1>)\n"
     ]
    },
    {
     "name": "stdout",
     "output_type": "stream",
     "text": [
      "Epoch [69/100], Loss: -0.5255677700042725\n",
      "total_loss.grad:  <NllLossBackward0 object at 0x000001CF6F2947C0>\n",
      "tensor(0., dtype=torch.float64)\n",
      "tensor(-0.0176, dtype=torch.float64)\n",
      "tensor(0.1066, dtype=torch.float64)\n",
      "tensor(-0.0069, dtype=torch.float64)\n",
      "tensor(-0.0286, dtype=torch.float64)\n"
     ]
    },
    {
     "name": "stderr",
     "output_type": "stream",
     "text": [
      "ic| torch.max(P): tensor(49.0294, grad_fn=<MaxBackward1>)\n",
      "    torch.min(P): tensor(0.0474, grad_fn=<MinBackward1>)\n",
      "ic| torch.max(P2): tensor(0.9340, grad_fn=<MaxBackward1>)\n",
      "    torch.min(P2): tensor(0.0013, grad_fn=<MinBackward1>)\n"
     ]
    },
    {
     "name": "stdout",
     "output_type": "stream",
     "text": [
      "Epoch [70/100], Loss: -0.5255770087242126\n",
      "total_loss.grad:  <NllLossBackward0 object at 0x000001CF652304C0>\n",
      "tensor(0., dtype=torch.float64)\n",
      "tensor(0.0205, dtype=torch.float64)\n",
      "tensor(0.1073, dtype=torch.float64)\n",
      "tensor(-0.0069, dtype=torch.float64)\n",
      "tensor(0.0015, dtype=torch.float64)\n"
     ]
    },
    {
     "name": "stderr",
     "output_type": "stream",
     "text": [
      "ic| torch.max(P): tensor(49.0365, grad_fn=<MaxBackward1>)\n",
      "    torch.min(P): tensor(0.0474, grad_fn=<MinBackward1>)\n",
      "ic| torch.max(P2): tensor(0.9340, grad_fn=<MaxBackward1>)\n",
      "    torch.min(P2): tensor(0.0013, grad_fn=<MinBackward1>)\n"
     ]
    },
    {
     "name": "stdout",
     "output_type": "stream",
     "text": [
      "Epoch [71/100], Loss: -0.5255863070487976\n",
      "total_loss.grad:  <NllLossBackward0 object at 0x000001CF65232E90>\n",
      "tensor(0., dtype=torch.float64)\n",
      "tensor(0.0489, dtype=torch.float64)\n",
      "tensor(0.1077, dtype=torch.float64)\n",
      "tensor(-0.0069, dtype=torch.float64)\n",
      "tensor(0.0243, dtype=torch.float64)\n"
     ]
    },
    {
     "name": "stderr",
     "output_type": "stream",
     "text": [
      "ic| torch.max(P): tensor(49.0352, grad_fn=<MaxBackward1>)\n",
      "    torch.min(P): tensor(0.0474, grad_fn=<MinBackward1>)\n",
      "ic| torch.max(P2): tensor(0.9339, grad_fn=<MaxBackward1>)\n",
      "    torch.min(P2): tensor(0.0013, grad_fn=<MinBackward1>)\n"
     ]
    },
    {
     "name": "stdout",
     "output_type": "stream",
     "text": [
      "Epoch [72/100], Loss: -0.5255954265594482\n",
      "total_loss.grad:  <NllLossBackward0 object at 0x000001CF6F294670>\n",
      "tensor(0., dtype=torch.float64)\n",
      "tensor(0.0594, dtype=torch.float64)\n",
      "tensor(0.1077, dtype=torch.float64)\n",
      "tensor(-0.0069, dtype=torch.float64)\n",
      "tensor(0.0164, dtype=torch.float64)\n"
     ]
    },
    {
     "name": "stderr",
     "output_type": "stream",
     "text": [
      "ic| torch.max(P): tensor(49.0291, grad_fn=<MaxBackward1>)\n",
      "    torch.min(P): tensor(0.0475, grad_fn=<MinBackward1>)\n",
      "ic| torch.max(P2): tensor(0.9339, grad_fn=<MaxBackward1>)\n",
      "    torch.min(P2): tensor(0.0013, grad_fn=<MinBackward1>)\n"
     ]
    },
    {
     "name": "stdout",
     "output_type": "stream",
     "text": [
      "Epoch [73/100], Loss: -0.525604784488678\n",
      "total_loss.grad:  <NllLossBackward0 object at 0x000001CF64DD36A0>\n",
      "tensor(0., dtype=torch.float64)\n",
      "tensor(0.0547, dtype=torch.float64)\n",
      "tensor(0.1073, dtype=torch.float64)\n",
      "tensor(-0.0069, dtype=torch.float64)\n",
      "tensor(-0.0130, dtype=torch.float64)\n"
     ]
    },
    {
     "name": "stderr",
     "output_type": "stream",
     "text": [
      "ic| torch.max(P): tensor(49.0301, grad_fn=<MaxBackward1>)\n",
      "    torch.min(P): tensor(0.0475, grad_fn=<MinBackward1>)\n",
      "ic| torch.max(P2): tensor(0.9338, grad_fn=<MaxBackward1>)\n",
      "    torch.min(P2): tensor(0.0013, grad_fn=<MinBackward1>)\n"
     ]
    },
    {
     "name": "stdout",
     "output_type": "stream",
     "text": [
      "Epoch [74/100], Loss: -0.5256140232086182\n",
      "total_loss.grad:  <NllLossBackward0 object at 0x000001CF65232440>\n",
      "tensor(0., dtype=torch.float64)\n",
      "tensor(0.0447, dtype=torch.float64)\n",
      "tensor(0.1066, dtype=torch.float64)\n",
      "tensor(-0.0068, dtype=torch.float64)\n",
      "tensor(-0.0337, dtype=torch.float64)\n"
     ]
    },
    {
     "name": "stderr",
     "output_type": "stream",
     "text": [
      "ic| torch.max(P): tensor(49.0458, grad_fn=<MaxBackward1>)\n",
      "    torch.min(P): tensor(0.0476, grad_fn=<MinBackward1>)\n",
      "ic| torch.max(P2): tensor(0.9338, grad_fn=<MaxBackward1>)\n",
      "    torch.min(P2): tensor(0.0013, grad_fn=<MinBackward1>)\n"
     ]
    },
    {
     "name": "stdout",
     "output_type": "stream",
     "text": [
      "Epoch [75/100], Loss: -0.5256232023239136\n",
      "total_loss.grad:  <NllLossBackward0 object at 0x000001CF6F294670>\n",
      "tensor(0., dtype=torch.float64)\n",
      "tensor(0.0365, dtype=torch.float64)\n",
      "tensor(0.1057, dtype=torch.float64)\n",
      "tensor(-0.0068, dtype=torch.float64)\n",
      "tensor(-0.0257, dtype=torch.float64)\n"
     ]
    },
    {
     "name": "stderr",
     "output_type": "stream",
     "text": [
      "ic| torch.max(P): tensor(49.0718, grad_fn=<MaxBackward1>)\n",
      "    torch.min(P): tensor(0.0476, grad_fn=<MinBackward1>)\n",
      "ic| torch.max(P2): tensor(0.9338, grad_fn=<MaxBackward1>)\n",
      "    torch.min(P2): tensor(0.0013, grad_fn=<MinBackward1>)\n"
     ]
    },
    {
     "name": "stdout",
     "output_type": "stream",
     "text": [
      "Epoch [76/100], Loss: -0.525632381439209\n",
      "total_loss.grad:  <NllLossBackward0 object at 0x000001CF6F294670>\n",
      "tensor(0., dtype=torch.float64)\n",
      "tensor(0.0287, dtype=torch.float64)\n",
      "tensor(0.1047, dtype=torch.float64)\n",
      "tensor(-0.0067, dtype=torch.float64)\n",
      "tensor(0.0017, dtype=torch.float64)\n"
     ]
    },
    {
     "name": "stderr",
     "output_type": "stream",
     "text": [
      "ic| torch.max(P): tensor(49.0963, grad_fn=<MaxBackward1>)\n",
      "    torch.min(P): tensor(0.0477, grad_fn=<MinBackward1>)\n",
      "ic| torch.max(P2): tensor(0.9337, grad_fn=<MaxBackward1>)\n",
      "    torch.min(P2): tensor(0.0013, grad_fn=<MinBackward1>)\n"
     ]
    },
    {
     "name": "stdout",
     "output_type": "stream",
     "text": [
      "Epoch [77/100], Loss: -0.5256416201591492\n",
      "total_loss.grad:  <NllLossBackward0 object at 0x000001CF64DD36A0>\n",
      "tensor(0., dtype=torch.float64)\n",
      "tensor(0.0148, dtype=torch.float64)\n",
      "tensor(0.1035, dtype=torch.float64)\n",
      "tensor(-0.0067, dtype=torch.float64)\n",
      "tensor(0.0210, dtype=torch.float64)\n"
     ]
    },
    {
     "name": "stderr",
     "output_type": "stream",
     "text": [
      "ic| torch.max(P): tensor(49.1116, grad_fn=<MaxBackward1>)\n",
      "    torch.min(P): tensor(0.0478, grad_fn=<MinBackward1>)\n",
      "ic| torch.max(P2): tensor(0.9337, grad_fn=<MaxBackward1>)\n",
      "    torch.min(P2): tensor(0.0013, grad_fn=<MinBackward1>)\n"
     ]
    },
    {
     "name": "stdout",
     "output_type": "stream",
     "text": [
      "Epoch [78/100], Loss: -0.5256506204605103\n",
      "total_loss.grad:  <NllLossBackward0 object at 0x000001CF6F35D450>\n",
      "tensor(0., dtype=torch.float64)\n",
      "tensor(-0.0086, dtype=torch.float64)\n",
      "tensor(0.1021, dtype=torch.float64)\n",
      "tensor(-0.0066, dtype=torch.float64)\n",
      "tensor(0.0156, dtype=torch.float64)\n"
     ]
    },
    {
     "name": "stderr",
     "output_type": "stream",
     "text": [
      "ic| torch.max(P): tensor(49.1208, grad_fn=<MaxBackward1>)\n",
      "    torch.min(P): tensor(0.0478, grad_fn=<MinBackward1>)\n",
      "ic| torch.max(P2): tensor(0.9336, grad_fn=<MaxBackward1>)\n",
      "    torch.min(P2): tensor(0.0013, grad_fn=<MinBackward1>)\n"
     ]
    },
    {
     "name": "stdout",
     "output_type": "stream",
     "text": [
      "Epoch [79/100], Loss: -0.5256596803665161\n",
      "total_loss.grad:  <NllLossBackward0 object at 0x000001CF64DD36A0>\n",
      "tensor(0., dtype=torch.float64)\n",
      "tensor(-0.0363, dtype=torch.float64)\n",
      "tensor(0.1007, dtype=torch.float64)\n",
      "tensor(-0.0066, dtype=torch.float64)\n",
      "tensor(-0.0048, dtype=torch.float64)\n"
     ]
    },
    {
     "name": "stderr",
     "output_type": "stream",
     "text": [
      "ic| torch.max(P): tensor(49.1329, grad_fn=<MaxBackward1>)\n",
      "    torch.min(P): tensor(0.0479, grad_fn=<MinBackward1>)\n",
      "ic| torch.max(P2): tensor(0.9336, grad_fn=<MaxBackward1>)\n",
      "    torch.min(P2): tensor(0.0013, grad_fn=<MinBackward1>)\n"
     ]
    },
    {
     "name": "stdout",
     "output_type": "stream",
     "text": [
      "Epoch [80/100], Loss: -0.5256683230400085\n",
      "total_loss.grad:  <NllLossBackward0 object at 0x000001CF65233CD0>\n",
      "tensor(0., dtype=torch.float64)\n",
      "tensor(-0.0593, dtype=torch.float64)\n",
      "tensor(0.0994, dtype=torch.float64)\n",
      "tensor(-0.0065, dtype=torch.float64)\n",
      "tensor(-0.0159, dtype=torch.float64)\n"
     ]
    },
    {
     "name": "stderr",
     "output_type": "stream",
     "text": [
      "ic| torch.max(P): tensor(49.1521, grad_fn=<MaxBackward1>)\n",
      "    torch.min(P): tensor(0.0480, grad_fn=<MinBackward1>)\n",
      "ic| torch.max(P2): tensor(0.9335, grad_fn=<MaxBackward1>)\n",
      "    torch.min(P2): tensor(0.0013, grad_fn=<MinBackward1>)\n"
     ]
    },
    {
     "name": "stdout",
     "output_type": "stream",
     "text": [
      "Epoch [81/100], Loss: -0.5256771445274353\n",
      "total_loss.grad:  <NllLossBackward0 object at 0x000001CF6F294670>\n",
      "tensor(0., dtype=torch.float64)\n",
      "tensor(-0.0721, dtype=torch.float64)\n",
      "tensor(0.0983, dtype=torch.float64)\n",
      "tensor(-0.0065, dtype=torch.float64)\n",
      "tensor(-0.0051, dtype=torch.float64)\n"
     ]
    },
    {
     "name": "stderr",
     "output_type": "stream",
     "text": [
      "ic| torch.max(P): tensor(49.1735, grad_fn=<MaxBackward1>)\n",
      "    torch.min(P): tensor(0.0480, grad_fn=<MinBackward1>)\n",
      "ic| torch.max(P2): tensor(0.9335, grad_fn=<MaxBackward1>)\n",
      "    torch.min(P2): tensor(0.0013, grad_fn=<MinBackward1>)\n"
     ]
    },
    {
     "name": "stdout",
     "output_type": "stream",
     "text": [
      "Epoch [82/100], Loss: -0.5256858468055725\n",
      "total_loss.grad:  <NllLossBackward0 object at 0x000001CF6F294670>\n",
      "tensor(0., dtype=torch.float64)\n",
      "tensor(-0.0773, dtype=torch.float64)\n",
      "tensor(0.0974, dtype=torch.float64)\n",
      "tensor(-0.0064, dtype=torch.float64)\n",
      "tensor(0.0160, dtype=torch.float64)\n"
     ]
    },
    {
     "name": "stderr",
     "output_type": "stream",
     "text": [
      "ic| torch.max(P): tensor(49.1881, grad_fn=<MaxBackward1>)\n",
      "    torch.min(P): tensor(0.0481, grad_fn=<MinBackward1>)\n",
      "ic| torch.max(P2): tensor(0.9335, grad_fn=<MaxBackward1>)\n",
      "    torch.min(P2): tensor(0.0013, grad_fn=<MinBackward1>)\n"
     ]
    },
    {
     "name": "stdout",
     "output_type": "stream",
     "text": [
      "Epoch [83/100], Loss: -0.5256943106651306\n",
      "total_loss.grad:  <NllLossBackward0 object at 0x000001CF6F2942B0>\n",
      "tensor(0., dtype=torch.float64)\n",
      "tensor(-0.0810, dtype=torch.float64)\n",
      "tensor(0.0966, dtype=torch.float64)\n",
      "tensor(-0.0064, dtype=torch.float64)\n",
      "tensor(0.0259, dtype=torch.float64)\n"
     ]
    },
    {
     "name": "stderr",
     "output_type": "stream",
     "text": [
      "ic| torch.max(P): tensor(49.1924, grad_fn=<MaxBackward1>)\n",
      "    torch.min(P): tensor(0.0481, grad_fn=<MinBackward1>)\n",
      "ic| torch.max(P2): tensor(0.9334, grad_fn=<MaxBackward1>)\n",
      "    torch.min(P2): tensor(0.0013, grad_fn=<MinBackward1>)\n"
     ]
    },
    {
     "name": "stdout",
     "output_type": "stream",
     "text": [
      "Epoch [84/100], Loss: -0.5257030129432678\n",
      "total_loss.grad:  <NllLossBackward0 object at 0x000001CF6F2947C0>\n",
      "tensor(0., dtype=torch.float64)\n",
      "tensor(-0.0855, dtype=torch.float64)\n",
      "tensor(0.0960, dtype=torch.float64)\n",
      "tensor(-0.0064, dtype=torch.float64)\n",
      "tensor(0.0159, dtype=torch.float64)\n"
     ]
    },
    {
     "name": "stderr",
     "output_type": "stream",
     "text": [
      "ic| torch.max(P): tensor(49.1914, grad_fn=<MaxBackward1>)\n",
      "    torch.min(P): tensor(0.0482, grad_fn=<MinBackward1>)\n",
      "ic| torch.max(P2): tensor(0.9334, grad_fn=<MaxBackward1>)\n",
      "    torch.min(P2): tensor(0.0013, grad_fn=<MinBackward1>)\n"
     ]
    },
    {
     "name": "stdout",
     "output_type": "stream",
     "text": [
      "Epoch [85/100], Loss: -0.5257114768028259\n",
      "total_loss.grad:  <NllLossBackward0 object at 0x000001CF6F35D390>\n",
      "tensor(0., dtype=torch.float64)\n",
      "tensor(-0.0875, dtype=torch.float64)\n",
      "tensor(0.0955, dtype=torch.float64)\n",
      "tensor(-0.0063, dtype=torch.float64)\n",
      "tensor(-0.0016, dtype=torch.float64)\n"
     ]
    },
    {
     "name": "stderr",
     "output_type": "stream",
     "text": [
      "ic| torch.max(P): tensor(49.1931, grad_fn=<MaxBackward1>)\n",
      "    torch.min(P): tensor(0.0482, grad_fn=<MinBackward1>)\n",
      "ic| torch.max(P2): tensor(0.9334, grad_fn=<MaxBackward1>)\n",
      "    torch.min(P2): tensor(0.0013, grad_fn=<MinBackward1>)\n"
     ]
    },
    {
     "name": "stdout",
     "output_type": "stream",
     "text": [
      "Epoch [86/100], Loss: -0.5257198810577393\n",
      "total_loss.grad:  <NllLossBackward0 object at 0x000001CF6F294790>\n",
      "tensor(0., dtype=torch.float64)\n",
      "tensor(-0.0820, dtype=torch.float64)\n",
      "tensor(0.0953, dtype=torch.float64)\n",
      "tensor(-0.0063, dtype=torch.float64)\n",
      "tensor(-0.0079, dtype=torch.float64)\n"
     ]
    },
    {
     "name": "stderr",
     "output_type": "stream",
     "text": [
      "ic| torch.max(P): tensor(49.1999, grad_fn=<MaxBackward1>)\n",
      "    torch.min(P): tensor(0.0482, grad_fn=<MinBackward1>)\n",
      "ic| torch.max(P2): tensor(0.9333, grad_fn=<MaxBackward1>)\n",
      "    torch.min(P2): tensor(0.0013, grad_fn=<MinBackward1>)\n"
     ]
    },
    {
     "name": "stdout",
     "output_type": "stream",
     "text": [
      "Epoch [87/100], Loss: -0.5257284045219421\n",
      "total_loss.grad:  <NllLossBackward0 object at 0x000001CF64DD36A0>\n",
      "tensor(0., dtype=torch.float64)\n",
      "tensor(-0.0684, dtype=torch.float64)\n",
      "tensor(0.0952, dtype=torch.float64)\n",
      "tensor(-0.0063, dtype=torch.float64)\n",
      "tensor(0.0020, dtype=torch.float64)\n"
     ]
    },
    {
     "name": "stderr",
     "output_type": "stream",
     "text": [
      "ic| torch.max(P): tensor(49.2070, grad_fn=<MaxBackward1>)\n",
      "    torch.min(P): tensor(0.0482, grad_fn=<MinBackward1>)\n",
      "ic| torch.max(P2): tensor(0.9333, grad_fn=<MaxBackward1>)\n",
      "    torch.min(P2): tensor(0.0013, grad_fn=<MinBackward1>)\n"
     ]
    },
    {
     "name": "stdout",
     "output_type": "stream",
     "text": [
      "Epoch [88/100], Loss: -0.5257368087768555\n",
      "total_loss.grad:  <NllLossBackward0 object at 0x000001CF65230700>\n",
      "tensor(0., dtype=torch.float64)\n",
      "tensor(-0.0521, dtype=torch.float64)\n",
      "tensor(0.0952, dtype=torch.float64)\n",
      "tensor(-0.0063, dtype=torch.float64)\n",
      "tensor(0.0149, dtype=torch.float64)\n"
     ]
    },
    {
     "name": "stderr",
     "output_type": "stream",
     "text": [
      "ic| torch.max(P): tensor(49.2088, grad_fn=<MaxBackward1>)\n",
      "    torch.min(P): tensor(0.0482, grad_fn=<MinBackward1>)\n",
      "ic| torch.max(P2): tensor(0.9333, grad_fn=<MaxBackward1>)\n",
      "    torch.min(P2): tensor(0.0013, grad_fn=<MinBackward1>)\n"
     ]
    },
    {
     "name": "stdout",
     "output_type": "stream",
     "text": [
      "Epoch [89/100], Loss: -0.525745153427124\n",
      "total_loss.grad:  <NllLossBackward0 object at 0x000001CF65230700>\n",
      "tensor(0., dtype=torch.float64)\n",
      "tensor(-0.0388, dtype=torch.float64)\n",
      "tensor(0.0952, dtype=torch.float64)\n",
      "tensor(-0.0063, dtype=torch.float64)\n",
      "tensor(0.0153, dtype=torch.float64)\n"
     ]
    },
    {
     "name": "stderr",
     "output_type": "stream",
     "text": [
      "ic| torch.max(P): tensor(49.2055, grad_fn=<MaxBackward1>)\n",
      "    torch.min(P): tensor(0.0482, grad_fn=<MinBackward1>)\n",
      "ic| torch.max(P2): tensor(0.9332, grad_fn=<MaxBackward1>)\n",
      "    torch.min(P2): tensor(0.0013, grad_fn=<MinBackward1>)\n"
     ]
    },
    {
     "name": "stdout",
     "output_type": "stream",
     "text": [
      "Epoch [90/100], Loss: -0.5257531404495239\n",
      "total_loss.grad:  <NllLossBackward0 object at 0x000001CF64DD36A0>\n",
      "tensor(0., dtype=torch.float64)\n",
      "tensor(-0.0300, dtype=torch.float64)\n",
      "tensor(0.0951, dtype=torch.float64)\n",
      "tensor(-0.0063, dtype=torch.float64)\n",
      "tensor(0.0025, dtype=torch.float64)\n"
     ]
    },
    {
     "name": "stderr",
     "output_type": "stream",
     "text": [
      "ic| torch.max(P): tensor(49.2031, grad_fn=<MaxBackward1>)\n",
      "    torch.min(P): tensor(0.0483, grad_fn=<MinBackward1>)\n",
      "ic| torch.max(P2): tensor(0.9332, grad_fn=<MaxBackward1>)\n",
      "    torch.min(P2): tensor(0.0013, grad_fn=<MinBackward1>)\n"
     ]
    },
    {
     "name": "stdout",
     "output_type": "stream",
     "text": [
      "Epoch [91/100], Loss: -0.5257614254951477\n",
      "total_loss.grad:  <NllLossBackward0 object at 0x000001CF65232500>\n",
      "tensor(0., dtype=torch.float64)\n",
      "tensor(-0.0226, dtype=torch.float64)\n",
      "tensor(0.0950, dtype=torch.float64)\n",
      "tensor(-0.0063, dtype=torch.float64)\n",
      "tensor(-0.0097, dtype=torch.float64)\n"
     ]
    },
    {
     "name": "stderr",
     "output_type": "stream",
     "text": [
      "ic| torch.max(P): tensor(49.2068, grad_fn=<MaxBackward1>)\n",
      "    torch.min(P): tensor(0.0483, grad_fn=<MinBackward1>)\n",
      "ic| torch.max(P2): tensor(0.9332, grad_fn=<MaxBackward1>)\n",
      "    torch.min(P2): tensor(0.0013, grad_fn=<MinBackward1>)\n"
     ]
    },
    {
     "name": "stdout",
     "output_type": "stream",
     "text": [
      "Epoch [92/100], Loss: -0.5257694721221924\n",
      "total_loss.grad:  <NllLossBackward0 object at 0x000001CF6F35D2D0>\n",
      "tensor(0., dtype=torch.float64)\n",
      "tensor(-0.0136, dtype=torch.float64)\n",
      "tensor(0.0948, dtype=torch.float64)\n",
      "tensor(-0.0062, dtype=torch.float64)\n",
      "tensor(-0.0092, dtype=torch.float64)\n"
     ]
    },
    {
     "name": "stderr",
     "output_type": "stream",
     "text": [
      "ic| torch.max(P): tensor(49.2159, grad_fn=<MaxBackward1>)\n",
      "    torch.min(P): tensor(0.0483, grad_fn=<MinBackward1>)\n",
      "ic| torch.max(P2): tensor(0.9331, grad_fn=<MaxBackward1>)\n",
      "    torch.min(P2): tensor(0.0013, grad_fn=<MinBackward1>)\n"
     ]
    },
    {
     "name": "stdout",
     "output_type": "stream",
     "text": [
      "Epoch [93/100], Loss: -0.5257775187492371\n",
      "total_loss.grad:  <NllLossBackward0 object at 0x000001CF6F35D450>\n",
      "tensor(0., dtype=torch.float64)\n",
      "tensor(-0.0045, dtype=torch.float64)\n",
      "tensor(0.0945, dtype=torch.float64)\n",
      "tensor(-0.0062, dtype=torch.float64)\n",
      "tensor(0.0014, dtype=torch.float64)\n"
     ]
    },
    {
     "name": "stderr",
     "output_type": "stream",
     "text": [
      "ic| torch.max(P): tensor(49.2250, grad_fn=<MaxBackward1>)\n",
      "    torch.min(P): tensor(0.0483, grad_fn=<MinBackward1>)\n",
      "ic| torch.max(P2): tensor(0.9331, grad_fn=<MaxBackward1>)\n",
      "    torch.min(P2): tensor(0.0013, grad_fn=<MinBackward1>)\n"
     ]
    },
    {
     "name": "stdout",
     "output_type": "stream",
     "text": [
      "Epoch [94/100], Loss: -0.5257853269577026\n",
      "total_loss.grad:  <NllLossBackward0 object at 0x000001CF6F294580>\n",
      "tensor(0., dtype=torch.float64)\n",
      "tensor(0.0006, dtype=torch.float64)\n",
      "tensor(0.0942, dtype=torch.float64)\n",
      "tensor(-0.0062, dtype=torch.float64)\n",
      "tensor(0.0088, dtype=torch.float64)\n"
     ]
    },
    {
     "name": "stderr",
     "output_type": "stream",
     "text": [
      "ic| torch.max(P): tensor(49.2310, grad_fn=<MaxBackward1>)\n",
      "    torch.min(P): tensor(0.0484, grad_fn=<MinBackward1>)\n",
      "ic| torch.max(P2): tensor(0.9331, grad_fn=<MaxBackward1>)\n",
      "    torch.min(P2): tensor(0.0013, grad_fn=<MinBackward1>)\n"
     ]
    },
    {
     "name": "stdout",
     "output_type": "stream",
     "text": [
      "Epoch [95/100], Loss: -0.5257932543754578\n",
      "total_loss.grad:  <NllLossBackward0 object at 0x000001CF6F294580>\n",
      "tensor(0., dtype=torch.float64)\n",
      "tensor(-0.0007, dtype=torch.float64)\n",
      "tensor(0.0936, dtype=torch.float64)\n",
      "tensor(-0.0062, dtype=torch.float64)\n",
      "tensor(0.0049, dtype=torch.float64)\n"
     ]
    },
    {
     "name": "stderr",
     "output_type": "stream",
     "text": [
      "ic| torch.max(P): tensor(49.2358, grad_fn=<MaxBackward1>)\n",
      "    torch.min(P): tensor(0.0484, grad_fn=<MinBackward1>)\n",
      "ic| torch.max(P2): tensor(0.9330, grad_fn=<MaxBackward1>)\n",
      "    torch.min(P2): tensor(0.0013, grad_fn=<MinBackward1>)\n"
     ]
    },
    {
     "name": "stdout",
     "output_type": "stream",
     "text": [
      "Epoch [96/100], Loss: -0.5258011221885681\n",
      "total_loss.grad:  <NllLossBackward0 object at 0x000001CF6F294790>\n",
      "tensor(0., dtype=torch.float64)\n",
      "tensor(-0.0065, dtype=torch.float64)\n",
      "tensor(0.0929, dtype=torch.float64)\n",
      "tensor(-0.0061, dtype=torch.float64)\n",
      "tensor(-0.0051, dtype=torch.float64)\n"
     ]
    },
    {
     "name": "stderr",
     "output_type": "stream",
     "text": [
      "ic| torch.max(P): tensor(49.2440, grad_fn=<MaxBackward1>)\n",
      "    torch.min(P): tensor(0.0485, grad_fn=<MinBackward1>)\n",
      "ic| torch.max(P2): tensor(0.9330, grad_fn=<MaxBackward1>)\n",
      "    torch.min(P2): tensor(0.0013, grad_fn=<MinBackward1>)\n"
     ]
    },
    {
     "name": "stdout",
     "output_type": "stream",
     "text": [
      "Epoch [97/100], Loss: -0.5258090496063232\n",
      "total_loss.grad:  <NllLossBackward0 object at 0x000001CF64DD36A0>\n",
      "tensor(0., dtype=torch.float64)\n",
      "tensor(-0.0127, dtype=torch.float64)\n",
      "tensor(0.0922, dtype=torch.float64)\n",
      "tensor(-0.0061, dtype=torch.float64)\n",
      "tensor(-0.0088, dtype=torch.float64)\n"
     ]
    },
    {
     "name": "stderr",
     "output_type": "stream",
     "text": [
      "ic| torch.max(P): tensor(49.2571, grad_fn=<MaxBackward1>)\n",
      "    torch.min(P): tensor(0.0485, grad_fn=<MinBackward1>)\n",
      "ic| torch.max(P2): tensor(0.9329, grad_fn=<MaxBackward1>)\n",
      "    torch.min(P2): tensor(0.0013, grad_fn=<MinBackward1>)\n"
     ]
    },
    {
     "name": "stdout",
     "output_type": "stream",
     "text": [
      "Epoch [98/100], Loss: -0.5258164405822754\n",
      "total_loss.grad:  <NllLossBackward0 object at 0x000001CF6F2947F0>\n",
      "tensor(0., dtype=torch.float64)\n",
      "tensor(-0.0172, dtype=torch.float64)\n",
      "tensor(0.0914, dtype=torch.float64)\n",
      "tensor(-0.0061, dtype=torch.float64)\n",
      "tensor(-0.0024, dtype=torch.float64)\n"
     ]
    },
    {
     "name": "stderr",
     "output_type": "stream",
     "text": [
      "ic| torch.max(P): tensor(49.2716, grad_fn=<MaxBackward1>)\n",
      "    torch.min(P): tensor(0.0485, grad_fn=<MinBackward1>)\n",
      "ic| torch.max(P2): tensor(0.9329, grad_fn=<MaxBackward1>)\n",
      "    torch.min(P2): tensor(0.0013, grad_fn=<MinBackward1>)\n"
     ]
    },
    {
     "name": "stdout",
     "output_type": "stream",
     "text": [
      "Epoch [99/100], Loss: -0.5258241295814514\n",
      "total_loss.grad:  <NllLossBackward0 object at 0x000001CF64DD36A0>\n",
      "tensor(0., dtype=torch.float64)\n",
      "tensor(-0.0218, dtype=torch.float64)\n",
      "tensor(0.0906, dtype=torch.float64)\n",
      "tensor(-0.0060, dtype=torch.float64)\n",
      "tensor(0.0070, dtype=torch.float64)\n"
     ]
    },
    {
     "name": "stderr",
     "output_type": "stream",
     "text": [
      "ic| torch.max(P): tensor(49.2831, grad_fn=<MaxBackward1>)\n",
      "    torch.min(P): tensor(0.0486, grad_fn=<MinBackward1>)\n",
      "ic| torch.max(P2): tensor(0.9329, grad_fn=<MaxBackward1>)\n",
      "    torch.min(P2): tensor(0.0013, grad_fn=<MinBackward1>)\n"
     ]
    },
    {
     "name": "stdout",
     "output_type": "stream",
     "text": [
      "Epoch [100/100], Loss: -0.5258316993713379\n",
      "total_loss.grad:  <NllLossBackward0 object at 0x000001CF65230430>\n",
      "tensor(0., dtype=torch.float64)\n",
      "tensor(-0.0285, dtype=torch.float64)\n",
      "tensor(0.0897, dtype=torch.float64)\n",
      "tensor(-0.0060, dtype=torch.float64)\n",
      "tensor(0.0090, dtype=torch.float64)\n"
     ]
    }
   ],
   "source": [
    "model = Model(param=param, sim=sim, dicJ= J1)\n",
    "model.initiate_state()\n",
    "num_epoch = 100\n",
    "losses = torch.zeros(num_epoch)\n",
    "#criterion = torch.nn.CrossEntropyLoss()\n",
    "criterion = torch.nn.NLLLoss()\n",
    "logsoft = nn.LogSoftmax(dim=1)\n",
    "learning_rate =0.0001\n",
    "optimizer = optim.Adam(model.parameters(),\n",
    "                      lr=learning_rate) \n",
    "\"\"\"optim.SGD(model.parameters(),\n",
    "                      lr=0.0001, weight_decay = 0.001)\"\"\" \n",
    "T = make_Target_index(Xtrain_tensor)\n",
    "\n",
    "model.train()\n",
    "for epoch in range(num_epoch):\n",
    "    model.initiate_state()\n",
    "    optimizer.zero_grad()  \n",
    "    P = torch.zeros(Input.shape)   \n",
    "    I = torch.zeros(Input.shape)   \n",
    "    count = 0\n",
    "    for i, b in enumerate(T):\n",
    "        count +=1\n",
    "        P[i,:], I[i,:], dredt, dridt, ampa, gaba = model(Input[int(i),:])\n",
    "        if count == Xtrain_tensor.shape[1]: #if we end the simulation time and go to the next batch\n",
    "            count = 0\n",
    "            model.initiate_state()\n",
    "    \n",
    "    #P2 = pred_pop_log = F.softmax(P, dim=1)\n",
    "    #P2 = logsoft(P)#.t()\n",
    "    ic(torch.max(P), torch.min(P))\n",
    "    P2 = make_it_proba(P)\n",
    "    ic(torch.max(P2), torch.min(P2))\n",
    "    loss = criterion(P2, T.long())\n",
    "    #loss = criterion(P, T.long()) # #criterion(P2, T.long()) # \n",
    "    loss.backward()\n",
    "    optimizer.step()\n",
    "    losses[epoch] = loss\n",
    "    print(f'Epoch [{epoch + 1}/{num_epoch}], Loss: {loss}')#.item()\n",
    "    print(\"total_loss.grad: \",loss.grad_fn)\n",
    "    #print(\"after optimizer.step()\", model.Jee.grad)\n",
    "    for par in model.parameters():\n",
    "      print(par.grad)\n",
    "\n",
    "save_weights(model, \"Optimized.pth\")"
   ]
  },
  {
   "cell_type": "code",
   "execution_count": 28,
   "metadata": {},
   "outputs": [
    {
     "data": {
      "image/png": "[encoded data removed]",
      "text/plain": [
       "<Figure size 640x480 with 1 Axes>"
      ]
     },
     "metadata": {},
     "output_type": "display_data"
    }
   ],
   "source": [
    "plt.plot(np.arange(losses.shape[0]), losses.detach().numpy(), 'bo', label='Training loss')\n",
    "plt.title(f\"Loss over {num_epoch} epochs for a learning rate of {learning_rate}\")\n",
    "plt.show()"
   ]
  },
  {
   "cell_type": "markdown",
   "metadata": {},
   "source": [
    "### Check new parameters "
   ]
  },
  {
   "cell_type": "code",
   "execution_count": null,
   "metadata": {},
   "outputs": [],
   "source": [
    "newModel = Model(param, sim, J1)\n",
    "trained_model = load_weights(newModel, \"Optimized.pth\")\n",
    "\n",
    "ic(trained_model.state_dict(), J1)\n",
    "\n",
    "# ~~~~~~~~~~~~~~~~~~~~~~~~~~~~~~~~~~~~~~~ RUN forward pass and Print heatmap ~~~~~~~~~~~~~~~~~~~~~~~~~~~~~~~~~~~~~~~~~~~~~~~~~~~~~~~~~~\n",
    "trained_model.initiate_state()\n",
    "count = 0\n",
    "P_t = torch.zeros(Input.shape)  \n",
    "I_t = torch.zeros(Input.shape)\n",
    "for i, b in enumerate(T):\n",
    "        count +=1\n",
    "        P_t[i,:], I[i,:], dredt, dridt, ampa, gaba = trained_model(Input[int(i),:])#.item()\n",
    "        if count == Xtrain_tensor.shape[1]: #if we end the simulation time and go to the next batch\n",
    "            count = 0\n",
    "            trained_model.initiate_state()\n",
    "\n"
   ]
  },
  {
   "cell_type": "code",
   "execution_count": 34,
   "metadata": {},
   "outputs": [
    {
     "name": "stdout",
     "output_type": "stream",
     "text": [
      "tensor(32.9685, grad_fn=<MaxBackward1>) tensor(34.7111, grad_fn=<MaxBackward1>)\n"
     ]
    }
   ],
   "source": [
    "print(torch.max(P0[:500,:]), torch.max(P_t[:500,:]))"
   ]
  },
  {
   "cell_type": "code",
   "execution_count": 33,
   "metadata": {},
   "outputs": [
    {
     "data": {
      "image/png": "[encoded data removed]",
      "text/plain": [
       "<Figure size 600x600 with 4 Axes>"
      ]
     },
     "metadata": {},
     "output_type": "display_data"
    },
    {
     "data": {
      "image/png": "[encoded data removed]",
      "text/plain": [
       "<Figure size 600x600 with 4 Axes>"
      ]
     },
     "metadata": {},
     "output_type": "display_data"
    }
   ],
   "source": [
    "#[:500,:]\n",
    "HeatMap(P0[:500,:].detach().numpy(), I0[:500,:].detach().numpy(), J1)\n",
    "#[:500,:]\n",
    "J2= {'Jee': trained_model.Jee.detach().numpy(), 'Jei': trained_model.Jei.detach().numpy(), 'Jie': trained_model.Jie.detach().numpy(), 'Jii': trained_model.Jii.detach().numpy(), 'Jin': trained_model.Jin.detach().numpy()}\n",
    "HeatMap(P_t[:500,:].detach().numpy(), P_t[:500,:].detach().numpy(), J2)"
   ]
  },
  {
   "cell_type": "markdown",
   "metadata": {},
   "source": [
    "### Compare normalized data"
   ]
  },
  {
   "cell_type": "code",
   "execution_count": 39,
   "metadata": {},
   "outputs": [
    {
     "name": "stderr",
     "output_type": "stream",
     "text": [
      "ic| r_e_trained[i,:].shape: torch.Size([20])\n"
     ]
    },
    {
     "name": "stdout",
     "output_type": "stream",
     "text": [
      "[ 0.12295689  0.12295584  0.12295473  0.12295334  0.12295318  0.12297559\n",
      "  0.12319409  0.12462706  0.13184266  0.16227047  0.28903887  0.9421422\n",
      "  4.83757    15.149137   19.767359   15.14917     4.8376174   0.9421593\n",
      "  0.28904623  0.1622757 ]\n"
     ]
    },
    {
     "data": {
      "text/plain": [
       "<matplotlib.legend.Legend at 0x17f81f35210>"
      ]
     },
     "execution_count": 39,
     "metadata": {},
     "output_type": "execute_result"
    },
    {
     "data": {
      "image/png": "[encoded data removed]",
      "text/plain": [
       "<Figure size 640x480 with 1 Axes>"
      ]
     },
     "metadata": {},
     "output_type": "display_data"
    }
   ],
   "source": [
    "t = 1\n",
    "t2 = 500\n",
    "t3 = 250\n",
    "r_e_trained = P_t\n",
    "\n",
    "from sklearn import preprocessing\n",
    "re_numpy = np.array(P.detach().numpy())\n",
    "re_numpy_train = np.array(r_e_trained.detach().numpy())\n",
    "print(np.array(re_numpy[20,:]))\n",
    "\n",
    "\n",
    "re_tr_norm = preprocessing.normalize(re_numpy_train, axis= 1) #torch.zeros(r_e_trained.shape)\n",
    "re_norm = preprocessing.normalize(re_numpy, axis= 1) #torch.zeros(r_e_trained.shape)\n",
    "ic(r_e_trained[i,:].shape)\n",
    "\n",
    "\"\"\"for i in range(r_e_trained.shape[0]):\n",
    "    re_tr_norm[i,:] = preprocessing.normalize(r_e_trained[i,:].detach().numpy())# / retrained_t2[i,:].sum()\n",
    "    re_norm[i,:] = preprocessing.normalize(r_e[i,:])# / r_e[i,:].sum()\n",
    "\"\"\"\n",
    "\n",
    "plt.plot(np.arange(r_e_trained.shape[1]), re_tr_norm[t,:], label = f\"{t} trained\")\n",
    "plt.plot(np.arange(r_e_trained.shape[1]), re_norm[t,:], label = f\"{t} untrained\")\n",
    "\n",
    "plt.plot(np.arange(r_e_trained.shape[1]), re_norm[t2,:], label = f\"t = {t2}ms, untrained\")\n",
    "plt.plot(np.arange(r_e_trained.shape[1]), re_tr_norm[t2,:], label = f\"t = {t2}ms, trained\")\n",
    "\n",
    "plt.plot(np.arange(r_e_trained.shape[1]), re_tr_norm[t3,:], label = f\"{t3} trained\")\n",
    "plt.plot(np.arange(r_e_trained.shape[1]), re_norm[t3,:], label = f\"{t3} untrained\")\n",
    "\n",
    "#plt.plot(np.arange((r_e_bad[t,:].detach().numpy()).shape[0]), r_e_bad[t,:].detach().numpy(), label = f\"bad {t}\")\n",
    "#plt.plot(np.arange((r_e_bad[t2,:].detach().numpy()).shape[0]), r_e_bad[t2,:].detach().numpy(), label = f\"bad {t2}\")\n",
    "\n",
    "plt.legend()"
   ]
  }
 ],
 "metadata": {
  "kernelspec": {
   "display_name": "Python 3",
   "language": "python",
   "name": "python3"
  },
  "language_info": {
   "codemirror_mode": {
    "name": "ipython",
    "version": 3
   },
   "file_extension": ".py",
   "mimetype": "text/x-python",
   "name": "python",
   "nbconvert_exporter": "python",
   "pygments_lexer": "ipython3",
   "version": "3.11.4"
  }
 },
 "nbformat": 4,
 "nbformat_minor": 2
}
