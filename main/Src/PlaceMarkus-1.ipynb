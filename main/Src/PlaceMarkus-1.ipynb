{
 "cells": [
  {
   "cell_type": "code",
   "execution_count": null,
   "metadata": {},
   "outputs": [],
   "source": []
  },
  {
   "cell_type": "markdown",
   "metadata": {},
   "source": [
    "Prem, Markus\n",
    "\t\n",
    "12:55 (il y a 0 minute)\n",
    "\t\n",
    "À moi\n",
    "\n",
    "Raum 4.158: Hasani, Pleißner, Miller\n",
    "\n",
    "Raum 4.157: Bellingrodt, Arinrad, Sumislawski\n",
    "\n",
    "Raum 4.153: Prilop, Buszello ici\n",
    "\n",
    "Raum 4.124: Prem, Reinhart\n",
    "\n",
    "Raum 4.130: Sagerer, Richter\n",
    "\n",
    "Raum 4.228: Romualdo, Emmanouilidis ici\n",
    "\n",
    "\n",
    "\n",
    "Apres \n",
    "Raum 4.158: Weigt, Richter, Romualdo\n",
    "\n",
    "Raum 4.157: Felgenhauer, Prilop, Buszello\n",
    "\n",
    "Raum 4.153: Miller, Hasani, Pleißner ici\n",
    "\n",
    "Raum 4.124: Emma, Sumislawski\n",
    "\n",
    "Raum 4.130: Prem, Reinhart\n",
    "\n",
    "Raum 4.228: Bellingrodt, Sagerer, Arinrad ici"
   ]
  },
  {
   "cell_type": "code",
   "execution_count": 1,
   "metadata": {},
   "outputs": [],
   "source": [
    "import numpy as np\n",
    "import pandas as pd"
   ]
  },
  {
   "cell_type": "code",
   "execution_count": 2,
   "metadata": {},
   "outputs": [],
   "source": [
    "raum = {'228' : [1, 2], '130': [1, 2], '124': [1, 2], '153':[1,2,3], '157': [1,2,3], '158': [1,2,3]}\n",
    "\n",
    "np.array([1, 2, 3],[1,2,3],[1,2,3, 444],[1,2],[1,2],[1,2,3, 444])"
   ]
  }
 ],
 "metadata": {
  "kernelspec": {
   "display_name": "Python 3",
   "language": "python",
   "name": "python3"
  },
  "language_info": {
   "codemirror_mode": {
    "name": "ipython",
    "version": 3
   },
   "file_extension": ".py",
   "mimetype": "text/x-python",
   "name": "python",
   "nbconvert_exporter": "python",
   "pygments_lexer": "ipython3",
   "version": "3.11.4"
  }
 },
 "nbformat": 4,
 "nbformat_minor": 2
}
