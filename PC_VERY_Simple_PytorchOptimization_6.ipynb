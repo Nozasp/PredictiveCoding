{
  "nbformat": 4,
  "nbformat_minor": 0,
  "metadata": {
    "colab": {
      "provenance": [],
      "collapsed_sections": [
        "ID61nwq6sFgE",
        "ofnjZhitaiIu",
        "FTtu11ny5Sky"
      ],
      "authorship_tag": "ABX9TyPgaWn9w5iqM0r5Yqs7qXUX",
      "include_colab_link": true
    },
    "kernelspec": {
      "name": "python3",
      "display_name": "Python 3"
    },
    "language_info": {
      "name": "python"
    }
  },
  "cells": [
    {
      "cell_type": "markdown",
      "metadata": {
        "id": "view-in-github",
        "colab_type": "text"
      },
      "source": [
        "<a href=\"https://colab.research.google.com/github/Nozasp/PredictiveCoding/blob/main/PC_VERY_Simple_PytorchOptimization_6.ipynb\" target=\"_parent\"><img src=\"https://colab.research.google.com/assets/colab-badge.svg\" alt=\"Open In Colab\"/></a>"
      ]
    },
    {
      "cell_type": "markdown",
      "metadata": {
        "id": "ID61nwq6sFgE"
      },
      "source": [
        "# Import"
      ]
    },
    {
      "cell_type": "code",
      "execution_count": 1,
      "metadata": {
        "colab": {
          "base_uri": "https://localhost:8080/"
        },
        "id": "9iJoB2KuC4Lz",
        "outputId": "42a624d8-c403-4952-be5b-383849ddf87d"
      },
      "outputs": [
        {
          "output_type": "stream",
          "name": "stdout",
          "text": [
            "Drive already mounted at /content/gdrive; to attempt to forcibly remount, call drive.mount(\"/content/gdrive\", force_remount=True).\n",
            "/content/gdrive/MyDrive/Github/PredictiveCoding/main/Src\n",
            "/content/gdrive/MyDrive/Github/PredictiveCoding/main/Src\n",
            "PC_filters.ipynb    PC_Main.ipynb\t     PC_param.ipynb\t\t PC_StimuliSequence.ipynb\n",
            "PC_functions.ipynb  PC_Main_toPytorch.ipynb  PC_Step_8_loopJeiJii.ipynb\n"
          ]
        }
      ],
      "source": [
        "import sys\n",
        "import os, sys #os for global variable\n",
        "from google.colab import drive\n",
        "\n",
        "drive.mount('/content/gdrive')\n",
        "path_to_module = \"/content/gdrive/MyDrive/Github/PredictiveCoding/main/Src/PC_param.ipynb\" #path_to_module = '/content/gdrive/MyDrive/ColabNotebooks/PC_param.ipynb'\n",
        "\n",
        "#os.symlink('/content/gdrive/MyDrive/Github/PredictiveCoding/main/src', path_to_module)\n",
        "sys.path.append(path_to_module) # or sys.path.insert(0, path_to_module)\n",
        "%cd /content/gdrive/MyDrive/Github/PredictiveCoding/main/Src\n",
        "!pwd\n",
        "\n",
        "!ls"
      ]
    },
    {
      "cell_type": "code",
      "execution_count": 2,
      "metadata": {
        "colab": {
          "base_uri": "https://localhost:8080/"
        },
        "id": "NtsZYqIFwUV-",
        "outputId": "09a8e0c9-843d-49a1-ff45-48765466fbe9"
      },
      "outputs": [
        {
          "output_type": "stream",
          "name": "stdout",
          "text": [
            "Requirement already satisfied: import_ipynb in /usr/local/lib/python3.10/dist-packages (0.1.4)\n",
            "Requirement already satisfied: IPython in /usr/local/lib/python3.10/dist-packages (from import_ipynb) (7.34.0)\n",
            "Requirement already satisfied: nbformat in /usr/local/lib/python3.10/dist-packages (from import_ipynb) (5.9.2)\n",
            "Requirement already satisfied: setuptools>=18.5 in /usr/local/lib/python3.10/dist-packages (from IPython->import_ipynb) (67.7.2)\n",
            "Requirement already satisfied: jedi>=0.16 in /usr/local/lib/python3.10/dist-packages (from IPython->import_ipynb) (0.19.1)\n",
            "Requirement already satisfied: decorator in /usr/local/lib/python3.10/dist-packages (from IPython->import_ipynb) (4.4.2)\n",
            "Requirement already satisfied: pickleshare in /usr/local/lib/python3.10/dist-packages (from IPython->import_ipynb) (0.7.5)\n",
            "Requirement already satisfied: traitlets>=4.2 in /usr/local/lib/python3.10/dist-packages (from IPython->import_ipynb) (5.7.1)\n",
            "Requirement already satisfied: prompt-toolkit!=3.0.0,!=3.0.1,<3.1.0,>=2.0.0 in /usr/local/lib/python3.10/dist-packages (from IPython->import_ipynb) (3.0.39)\n",
            "Requirement already satisfied: pygments in /usr/local/lib/python3.10/dist-packages (from IPython->import_ipynb) (2.16.1)\n",
            "Requirement already satisfied: backcall in /usr/local/lib/python3.10/dist-packages (from IPython->import_ipynb) (0.2.0)\n",
            "Requirement already satisfied: matplotlib-inline in /usr/local/lib/python3.10/dist-packages (from IPython->import_ipynb) (0.1.6)\n",
            "Requirement already satisfied: pexpect>4.3 in /usr/local/lib/python3.10/dist-packages (from IPython->import_ipynb) (4.8.0)\n",
            "Requirement already satisfied: fastjsonschema in /usr/local/lib/python3.10/dist-packages (from nbformat->import_ipynb) (2.18.1)\n",
            "Requirement already satisfied: jsonschema>=2.6 in /usr/local/lib/python3.10/dist-packages (from nbformat->import_ipynb) (4.19.1)\n",
            "Requirement already satisfied: jupyter-core in /usr/local/lib/python3.10/dist-packages (from nbformat->import_ipynb) (5.4.0)\n",
            "Requirement already satisfied: parso<0.9.0,>=0.8.3 in /usr/local/lib/python3.10/dist-packages (from jedi>=0.16->IPython->import_ipynb) (0.8.3)\n",
            "Requirement already satisfied: attrs>=22.2.0 in /usr/local/lib/python3.10/dist-packages (from jsonschema>=2.6->nbformat->import_ipynb) (23.1.0)\n",
            "Requirement already satisfied: jsonschema-specifications>=2023.03.6 in /usr/local/lib/python3.10/dist-packages (from jsonschema>=2.6->nbformat->import_ipynb) (2023.7.1)\n",
            "Requirement already satisfied: referencing>=0.28.4 in /usr/local/lib/python3.10/dist-packages (from jsonschema>=2.6->nbformat->import_ipynb) (0.30.2)\n",
            "Requirement already satisfied: rpds-py>=0.7.1 in /usr/local/lib/python3.10/dist-packages (from jsonschema>=2.6->nbformat->import_ipynb) (0.10.6)\n",
            "Requirement already satisfied: ptyprocess>=0.5 in /usr/local/lib/python3.10/dist-packages (from pexpect>4.3->IPython->import_ipynb) (0.7.0)\n",
            "Requirement already satisfied: wcwidth in /usr/local/lib/python3.10/dist-packages (from prompt-toolkit!=3.0.0,!=3.0.1,<3.1.0,>=2.0.0->IPython->import_ipynb) (0.2.8)\n",
            "Requirement already satisfied: platformdirs>=2.5 in /usr/local/lib/python3.10/dist-packages (from jupyter-core->nbformat->import_ipynb) (3.11.0)\n",
            "Requirement already satisfied: lmfit in /usr/local/lib/python3.10/dist-packages (1.2.2)\n",
            "Requirement already satisfied: asteval>=0.9.28 in /usr/local/lib/python3.10/dist-packages (from lmfit) (0.9.31)\n",
            "Requirement already satisfied: numpy>=1.19 in /usr/local/lib/python3.10/dist-packages (from lmfit) (1.23.5)\n",
            "Requirement already satisfied: scipy>=1.6 in /usr/local/lib/python3.10/dist-packages (from lmfit) (1.11.3)\n",
            "Requirement already satisfied: uncertainties>=3.1.4 in /usr/local/lib/python3.10/dist-packages (from lmfit) (3.1.7)\n",
            "Requirement already satisfied: future in /usr/local/lib/python3.10/dist-packages (from uncertainties>=3.1.4->lmfit) (0.18.3)\n",
            "Requirement already satisfied: icecream in /usr/local/lib/python3.10/dist-packages (2.1.3)\n",
            "Requirement already satisfied: colorama>=0.3.9 in /usr/local/lib/python3.10/dist-packages (from icecream) (0.4.6)\n",
            "Requirement already satisfied: pygments>=2.2.0 in /usr/local/lib/python3.10/dist-packages (from icecream) (2.16.1)\n",
            "Requirement already satisfied: executing>=0.3.1 in /usr/local/lib/python3.10/dist-packages (from icecream) (2.0.1)\n",
            "Requirement already satisfied: asttokens>=2.0.1 in /usr/local/lib/python3.10/dist-packages (from icecream) (2.4.1)\n",
            "Requirement already satisfied: six>=1.12.0 in /usr/local/lib/python3.10/dist-packages (from asttokens>=2.0.1->icecream) (1.16.0)\n"
          ]
        }
      ],
      "source": [
        "!pip install import_ipynb\n",
        "#!pip install --target=$/content/gdrive/MyDrive/Github/PredictiveCoding/Lib/site-packages import_ipynb\n",
        "!pip install lmfit\n",
        "\n",
        "!pip install icecream"
      ]
    },
    {
      "cell_type": "code",
      "execution_count": 3,
      "metadata": {
        "id": "T8Mniw57Bm8I"
      },
      "outputs": [],
      "source": [
        "from lmfit import Model\n",
        "import import_ipynb\n",
        "\n",
        "import torch\n",
        "import torch.nn as nn\n",
        "import torch.nn.functional as F #F.mse_loss\n",
        "import torch.optim as optim\n",
        "from torchvision import transforms, utils, datasets\n",
        "from torch.utils.data import Dataset, DataLoader, random_split, SubsetRandomSampler, WeightedRandomSampler\n",
        "from torch.utils.data import TensorDataset, DataLoader # for batch and split Xtrain Ytrain dataset\n",
        "\n",
        "import scipy\n",
        "import scipy.ndimage as nd\n",
        "from scipy.stats import norm\n",
        "from scipy.optimize import minimize\n",
        "\n",
        "from locale import format\n",
        "from dataclasses import dataclass, MISSING\n",
        "\n",
        "import seaborn as sns\n",
        "import plotly.graph_objects as go\n",
        "import pandas as pd\n",
        "\n",
        "import numpy as np\n",
        "import matplotlib as mpl\n",
        "import matplotlib.pyplot as plt\n",
        "import math\n",
        "#from scipy.sparse import identity\n",
        "\n",
        "from icecream import ic #for debugging. print variable name"
      ]
    },
    {
      "cell_type": "markdown",
      "metadata": {
        "id": "ofnjZhitaiIu"
      },
      "source": [
        "# Functions"
      ]
    },
    {
      "cell_type": "markdown",
      "metadata": {
        "id": "4Of_A0rZig6U"
      },
      "source": [
        "### Basics ones"
      ]
    },
    {
      "cell_type": "code",
      "execution_count": 4,
      "metadata": {
        "id": "qzO7TIUHTVTf"
      },
      "outputs": [],
      "source": [
        "# 2- Input/Output function\n",
        "def plot_io(x, y, sign):\n",
        "    if sign == \"+\":\n",
        "        sign_name = 'Excitatory'\n",
        "        label = \"ae={0}, be={1}, hme={2}\"\n",
        "        a, b, hm = pars['ae'], pars['be'], pars['hme']\n",
        "        color = \"k\"\n",
        "    elif sign == \"-\":\n",
        "        sign_name = 'Inhibitory'\n",
        "        label = \"ai={0}, bi={1}, hmi={2}\"\n",
        "        a, b, hm = pars['ai'], pars['bi'], pars['hmi']\n",
        "        color = \"r\"\n",
        "\n",
        "    plt.plot(x, y, color, label=label.format(a, b, hm))\n",
        "\n",
        "    plt.xlabel(\"Input values - nA\")\n",
        "    plt.ylabel(\"Spike Frequency - Hz\")\n",
        "    plt.xlim([-0.01, 1])\n",
        "    plt.title(\"Input-output function\")\n",
        "    # plt.title(\"{0} Input-output function\".format(sign_name))\n",
        "    plt.legend()\n",
        "\n",
        "\n",
        "def plot_r(range_sim, r_e, r_i, param, xlim_ar = None):\n",
        "    label_e = \"Excitatoty  Jee={0}, Jei={1}\"#, I1={2}\"\n",
        "    label_i = \"Inhibitory  Jii={0}, Jie={1}\"#, I2={2}\"\n",
        "    plt.plot(range_sim, r_e, \"r\", label=label_e.format(param.Jee, param.Jei))#, param.I1 #, param.In\n",
        "    plt.plot(range_sim, r_i, \"orange\", label=label_i.format(param.Jii, param.Jie)) #, round(param.I2, 2)))\n",
        "\n",
        "    plt.xlabel(\"Time - ms\")\n",
        "    plt.ylabel(\"Spike Frequency - Hz\")\n",
        "    if xlim_ar != None:\n",
        "      plt.xlim(xlim_ar) #[0, .1]\n",
        "    plt.title(\"Firing rate of the NMDA and GABA populations\")\n",
        "    plt.legend()\n",
        "\n",
        "def plot_s(range_sim, S_e, S_i, param, xlim_ar = None):\n",
        "    label_e = \"Excitatoty  Jee={0}, Jei={1}\"#, I1={2}\"\n",
        "    label_i = \"Inhibitory  Jii={0}, Jie={1}\"#, I2={2}\"\n",
        "    plt.plot(range_sim, S_e, \"olive\", label=label_e.format(param.Jee, param.Jei)) #, param.I1\n",
        "    plt.plot(range_sim, S_i, \"green\", label=label_i.format(param.Jii, param.Jie)) #, round(param.I2, 2)\n",
        "    if xlim_ar != None:\n",
        "      plt.xlim(xlim_ar)\n",
        "    plt.xlabel(\"Time - ms\")\n",
        "    plt.ylabel(\"Open channel\")\n",
        "    #plt.xlim([0, .1])\n",
        "    plt.title(\"Average open channel for the NMDA and GABA populations\")\n",
        "    plt.legend()\n",
        "\n",
        "# 2- Plot HeatMap of firing rate function\n",
        "def HeatMap(rE, rI, J=None):\n",
        "    if J == None:\n",
        "        J = [.00989, 0.0081, .1, .87, .00081]  # J = dict(Jin=.008, Jee= .2, Jie=.2, Jei=1.4, Jii=6.7)\n",
        "    if type(J) == dict:\n",
        "        J = np.array(list(J.values()))\n",
        "\n",
        "    rE_df = pd.DataFrame(rE.T)  # to get time vs pop\n",
        "    rI_df = pd.DataFrame(rI.T)\n",
        "\n",
        "    rE_df.index.name, rI_df.index.name = [\"Excitatory Population\", \"Inhibitory Population\"]\n",
        "    rE_df.columns.name, rI_df.columns.name = [\"Time s\", \"Time s\"]\n",
        "    # print(rE_df.loc[[10]])\n",
        "\n",
        "    # set context for the upcoming plot\n",
        "    sns.set_context(\"notebook\", font_scale=.8, rc={\"lines.linewidth\": 2.5, 'font.family': 'Helvetica'})\n",
        "\n",
        "    fig, (axA, axB) = plt.subplots(2, 1, figsize=(6, 6))\n",
        "\n",
        "    sns.heatmap(rE_df, ax=axA, cmap=\"viridis\")\n",
        "    sns.heatmap(rI_df, ax=axB)\n",
        "    axA.set_title(f\"Firing rate in Hz of exc populations over time. Jie: {J[2]}, Jee: {J[1]}, Jin: {J[0]}\",\n",
        "                  fontdict={\"fontsize\": 10})\n",
        "    axB.set_title(f\"Firing rate in Hz of inh populations over time. Jei: {J[3]}, Jii: {J[4]}\",\n",
        "                  fontdict={\"fontsize\": 10})\n",
        "    plt.tight_layout()\n",
        "\n",
        "    plt.show()"
      ]
    },
    {
      "cell_type": "code",
      "execution_count": 5,
      "metadata": {
        "id": "vBjHGDU9ahDJ"
      },
      "outputs": [],
      "source": [
        "\n",
        "# Filters gauss and Dog and LoG\n",
        "\n",
        "def gaussian_filter(s, N):\n",
        "    k = np.arange(1, N+1)\n",
        "    n = 1 / (np.sqrt(2 * np.pi) * N * s)\n",
        "    gaussW = n * np.exp(-(k - k[:, np.newaxis])**2 / (2 * s**2))\n",
        "    gaussW2 = gaussW / (.009**2 / np.max(gaussW)) #1\n",
        "    return gaussW2\n",
        "\n",
        "def dog_filter(sOut, N):\n",
        "    sIn = sOut / 30\n",
        "    k = np.arange(1, N+1)\n",
        "    gaussIn =  np.exp(-(k - k[:, np.newaxis])**2 / (2 * sIn**2))\n",
        "    gaussOut = np.exp(-(k - k[:, np.newaxis])**2 / (2 * sOut**2))\n",
        "    dog = gaussOut - gaussIn\n",
        "    if np.max(dog) == 0 or None :\n",
        "        print('zero max')\n",
        "        dog = 0\n",
        "    else:\n",
        "      dog = dog/ (.042**2 / np.max(dog)) #.0088\n",
        "    return dog\n",
        "\n",
        "def LoG_filter(s, N):\n",
        "  x_lap = np.eye(N)\n",
        "  lapl_filter = nd.gaussian_laplace(x_lap , sigma= (s, s))\n",
        "  return lapl_filter\n",
        "\n",
        "\n",
        "def dLogGaus(s =.61, N=20):\n",
        "  dig = LoG_filter(s, N) + gaussian_filter(.019 *s, N)\n",
        "  return dig"
      ]
    },
    {
      "cell_type": "markdown",
      "metadata": {
        "id": "IvNpQzoahoWG"
      },
      "source": [
        "### Differentiable function for back propagation"
      ]
    },
    {
      "cell_type": "markdown",
      "metadata": {
        "id": "Tt6BRjSGDa2l"
      },
      "source": [
        "To avoid non-differentiable araising from discontinuity of the function, I \"relax\" (smoothen) the where() expression by using a sigmoid instead\n",
        "\n",
        "*   if I get : > <SumBackward1 object at 0x7f79da0b9520> # differentiable\n",
        "*   else I get none"
      ]
    },
    {
      "cell_type": "code",
      "execution_count": 6,
      "metadata": {
        "colab": {
          "base_uri": "https://localhost:8080/",
          "height": 124
        },
        "id": "p6JcvOkpR4Wm",
        "outputId": "fb09ba25-780a-4b06-c255-2632d6fe6e3f"
      },
      "outputs": [
        {
          "output_type": "stream",
          "name": "stdout",
          "text": [
            "<ReluBackward0 object at 0x7c46970c41f0>\n"
          ]
        },
        {
          "output_type": "execute_result",
          "data": {
            "text/plain": [
              "[<matplotlib.lines.Line2D at 0x7c46970ac4c0>]"
            ]
          },
          "metadata": {},
          "execution_count": 6
        },
        {
          "output_type": "display_data",
          "data": {
            "text/plain": [
              "<Figure size 640x480 with 1 Axes>"
            ],
            "image/png": "[encoded data removed]"
          },
          "metadata": {}
        }
      ],
      "source": [
        "def relu_stim(x, stim):\n",
        "  return torch.nn.functional.relu(1.0 - torch.abs(x - stim), inplace = False) #inplace = False to avoid implace operation\n",
        "\n",
        "x = torch.cat((torch.tensor([10.,2.,2.,2.]),torch.tensor([8.]))).requires_grad_(True)\n",
        "x = torch.cat((x,torch.zeros(5))).requires_grad_(True)\n",
        "stim = torch.tensor([8,8,8,8,8,8,8,8,8,8], dtype = float).requires_grad_(True)\n",
        "\n",
        "sisi = relu_stim(x, stim)\n",
        "print(sisi.grad_fn)\n",
        "plt.plot(torch.arange(10), sisi.detach().numpy())#, label = f\"{round(x.item(),3)}\")"
      ]
    },
    {
      "cell_type": "markdown",
      "metadata": {
        "id": "_3-2rYdfg57f"
      },
      "source": [
        "Check if differentiable: # if I get : > <SumBackward1 object at 0x7f79da0b9520> # differentiable else I get none"
      ]
    },
    {
      "cell_type": "code",
      "execution_count": 7,
      "metadata": {
        "colab": {
          "base_uri": "https://localhost:8080/"
        },
        "id": "Ff2sCtweFPLl",
        "outputId": "2e52cc57-5023-4db1-c5a3-d5d8468814aa"
      },
      "outputs": [
        {
          "output_type": "stream",
          "name": "stdout",
          "text": [
            "importing Jupyter notebook from /content/gdrive/MyDrive/Github/PredictiveCoding/main/Src/PC_param.ipynb\n",
            "{'ae': 18.26, 'be': -5.38, 'hme': 78.67, 'ai': 21.97, 'bi': -4.81, 'hmi': 125.62, 'taue': 0.005, 'taui': 0.005, 'tauNMDA': 0.1, 'tauGABA': 0.005, 'tauAMPA': 0.002, 'gamma': 0.641, 'sigma': 0.0007, 'I0e': 0.2346, 'I0i': 0.17, 'sigmaIn': 3, 'sigmaEI': 3, 'sigmaInh': [0.2, 3], 'I_ext': 0.0, 'c_dash': 90, 'mu0': 30, 'Jext': 0.01, 'I1': 0.57, 'I2': 0.029999999999999992, 'Jee': 0.2, 'Jie': 0.2, 'Jei': 1.4, 'Jii': 6.7, 'Jin': 0.008, 'Jiq': 0.85, 'Jes': 3.5, 'Jsi': 0.12, 'Jem': 2.2, 'I_noise': array([[-6.56214880e-04],\n",
            "       [-7.20791630e-05],\n",
            "       [ 7.16428183e-04],\n",
            "       [-5.04560730e-04]]), 'T': 3, 'dt': 2e-05, 'r_init': 0.2, 'range_t': array([0.00000e+00, 2.00000e-05, 4.00000e-05, ..., 2.99994e+00,\n",
            "       2.99996e+00, 2.99998e+00]), 'Lt': 150000, 'NumN': 20, 'f': array([ 1,  2,  3,  4,  5,  6,  7,  8,  9, 10, 11, 12, 13, 14, 15, 16, 17,\n",
            "       18, 19, 20]), 'In0': 0, 'InMax': 50, 'Iq0': 0, 'IqMax': 10}\n"
          ]
        }
      ],
      "source": [
        "from gdrive.MyDrive.Github.PredictiveCoding.main.Src.PC_param import default_parameters_network\n",
        "pars = default_parameters_network()\n",
        "\n",
        "def Dirac(A, N= pars[\"NumN\"]):\n",
        "  y = scipy.signal.unit_impulse(N, idx= (torch.max(torch.argmax(A))))#, dtype= <class 'float'>)\n",
        "  return torch.tensor(y)\n",
        "\n",
        "\n",
        "#out = Dirac((x))\n",
        "#print(out.grad_fn) # if I get : > <SumBackward1 object at 0x7f79da0b9520> # differentiable else I get none\n"
      ]
    },
    {
      "cell_type": "markdown",
      "metadata": {
        "id": "KM-4LOVP5aVP"
      },
      "source": [
        "### Try \"make it proba\" to \"make it proba\""
      ]
    },
    {
      "cell_type": "code",
      "execution_count": 8,
      "metadata": {
        "id": "1xbJr0mD5Wij"
      },
      "outputs": [],
      "source": [
        "def make_it_proba(r_e):\n",
        "  #prob_r = torch.zeros((r_e.shape[0], r_e.shape[1])) #empty matrix initialisation\n",
        "  sum_r_e = torch.sum(r_e, 1).reshape(r_e.shape[0],1)\n",
        "  #sum_r_e = sum_r_e.reshape(r_e.shape[0],1)\n",
        "  prob_r = torch.div(r_e, sum_r_e)#torch.transpose(r_e, dim0=0 ,dim1=1) this pose problem\n",
        "  print(prob_r.grad_fn)\n",
        "  prob_r[prob_r != prob_r] = 0.05 #to replace nan to 1/20 - to sum to 1\n",
        "  #print(\"should sum to 1:\", torch.sum(prob_r, 1)) #to check that it worked\n",
        "\n",
        "  return prob_r.reshape(r_e.shape[0],r_e.shape[1]) #log or not log?\n",
        "\n",
        "def log_proba(proba_r):\n",
        "  return torch.log(proba_r)\n"
      ]
    },
    {
      "cell_type": "code",
      "execution_count": 9,
      "metadata": {
        "colab": {
          "base_uri": "https://localhost:8080/"
        },
        "id": "w_mUCE-89TxK",
        "outputId": "470072f4-9340-443a-950b-4a1c89903db8"
      },
      "outputs": [
        {
          "output_type": "stream",
          "name": "stdout",
          "text": [
            "<DivBackward0 object at 0x7c4696f66740>\n"
          ]
        }
      ],
      "source": [
        "xmake = torch.tensor([[1.,2.],[3.,4.]],requires_grad =True)\n",
        "god = torch.sum(make_it_proba(xmake))# .grad_fn\n",
        "#make_it_proba(r_e).grad_fn\n",
        "god.backward()"
      ]
    },
    {
      "cell_type": "markdown",
      "metadata": {
        "id": "FTtu11ny5Sky"
      },
      "source": [
        "### Try softmax to \"make it proba\""
      ]
    },
    {
      "cell_type": "code",
      "execution_count": 10,
      "metadata": {
        "colab": {
          "base_uri": "https://localhost:8080/",
          "height": 1000
        },
        "id": "mBWto4YN399N",
        "outputId": "29635204-b216-422e-82bb-82ad6609c1c2"
      },
      "outputs": [
        {
          "output_type": "execute_result",
          "data": {
            "text/plain": [
              "'\\nsoftMax_drdt = softmax(r_e) # Drdt here!\\n#Correct for the nan!\\nsoftMax_re = F.softmax(r_e, dim=1)\\nsoftMax_ri = F.softmax(r_i, dim=1)\\n\\nprint(\"softMax_drdt\", softMax_drdt[1000,:])\\n#for i in range(5, 13):\\n # plt.plot(torch.arange(3999), softMax_drdt[:,i], linewidth = .6)\\n'"
            ],
            "application/vnd.google.colaboratory.intrinsic+json": {
              "type": "string"
            }
          },
          "metadata": {},
          "execution_count": 10
        }
      ],
      "source": [
        "def softmax(x):\n",
        "    return torch.exp(x) / torch.sum(torch.exp(x), axis=1, keepdims=True)\n",
        "\"\"\"\n",
        "softMax_drdt = softmax(r_e) # Drdt here!\n",
        "#Correct for the nan!\n",
        "softMax_re = F.softmax(r_e, dim=1)\n",
        "softMax_ri = F.softmax(r_i, dim=1)\n",
        "\n",
        "print(\"softMax_drdt\", softMax_drdt[1000,:])\n",
        "#for i in range(5, 13):\n",
        " # plt.plot(torch.arange(3999), softMax_drdt[:,i], linewidth = .6)\n",
        "\"\"\""
      ]
    },
    {
      "cell_type": "code",
      "execution_count": 11,
      "metadata": {
        "colab": {
          "base_uri": "https://localhost:8080/"
        },
        "id": "zoJ8er8Mh0kq",
        "outputId": "4b2649b7-bd72-4506-af5e-593cc9114f2e"
      },
      "outputs": [
        {
          "output_type": "execute_result",
          "data": {
            "text/plain": [
              "<DivBackward0 at 0x7c46970c4100>"
            ]
          },
          "metadata": {},
          "execution_count": 11
        }
      ],
      "source": [
        "x2 =torch.tensor([[0.,1.],[2.,3.]], requires_grad = True)\n",
        "softmax(x2).grad_fn # check if differentiable"
      ]
    },
    {
      "cell_type": "code",
      "source": [],
      "metadata": {
        "id": "8a3JF4lCKhNN"
      },
      "execution_count": 11,
      "outputs": []
    },
    {
      "cell_type": "markdown",
      "metadata": {
        "id": "vAkgH1tggDho"
      },
      "source": [
        "# Class"
      ]
    },
    {
      "cell_type": "markdown",
      "metadata": {
        "id": "r15S4SRkwA11"
      },
      "source": [
        "## 1- Basic classes"
      ]
    },
    {
      "cell_type": "code",
      "execution_count": 12,
      "metadata": {
        "id": "UbYEdB_-wIjH"
      },
      "outputs": [],
      "source": [
        "# ***************** CLASS ***************************************\n",
        "from gdrive.MyDrive.Github.PredictiveCoding.main.Src.PC_param import default_parameters_network\n",
        "pars = default_parameters_network()\n",
        "\n",
        "@dataclass\n",
        "class Parameter:\n",
        "    # °°° Load the parameters °°°\n",
        "\n",
        "    taue: float = pars[\"taue\"]\n",
        "    ae: float = pars['ae']\n",
        "    be, hme, I_noise = pars['be'], pars['hme'], pars['I_noise']\n",
        "    Jee: float = pars['Jee']\n",
        "    taui, ai, bi, hmi = pars['taui'], pars['ai'], pars['bi'], pars['hmi']\n",
        "    Jii: float  = pars['Jii']\n",
        "    Jei: float = pars['Jei']\n",
        "    Jie: float  = pars['Jie']\n",
        "    Jes, Jsi = pars['Jes'], pars['Jsi']\n",
        "    Jiq: float = pars['Jiq']  #0.85; #nA\n",
        "    Jin: float = pars['Jin']\n",
        "    tauNMDA, tauAMPA, tauGABA = pars['tauNMDA'], pars['tauAMPA'], pars['tauGABA']\n",
        "    gamma: float = pars['gamma']  # nmda coupling parameter from brunel\n",
        "    # I1, I2 = pars['I1'], pars['I2']\n",
        "    c_dash = pars['c_dash']\n",
        "    sigma = pars['sigma']  #param.sigma = .0007 for Noise\n",
        "    I_noise = pars['sigma'] * np.random.randn(3, 1)\n",
        "    I1 = pars['Jext'] * pars['mu0'] * (1 + pars['c_dash'] / 100)\n",
        "    I2 = pars['Jext'] * pars['mu0'] * (1 - pars['c_dash'] / 100)\n",
        "\n",
        "    sigmaIn = pars['sigmaIn']\n",
        "\n",
        "    #Input parameters\n",
        "    In0 = pars['In0']       #% Spontaneous firing rate of input populations (Hz)\n",
        "    InMax = pars['InMax']   #% Max firing rate of input populations (Hz)\n",
        "    Iq0 = pars['Iq0']       #% Spontaneous firing rate of feedback populations (Hz)\n",
        "    IqMax = pars['IqMax']   #% Max firing rate of feedback populations (Hz)\n",
        "\n",
        "    #Gaussian filter\n",
        "    #sIn = pars['sigmaInh'][0]\n",
        "    #sOut = pars['sigmaInh'][1]\n",
        "\n",
        "    def __init__(self,sEI, sIn, sOut, N): # sEI=4, sIn=.2, sOut=1.2,\n",
        "      # Weights (from gaussian filter)\n",
        "      self.N = N  #pars['NumN']\n",
        "      self.wei = torch.tensor(dog_filter(sOut, int(N)).astype(float))#, dtype='float64'# fun.dLogGaus(.61, N)  #fun.dog_filter(sIn, sOut, N)#gaussian_filter(sEI, N)\n",
        "      self.wii = torch.tensor(np.eye(int(N)).astype(float))#dog_filter(sIn, sOut, N)#np.eye(N) #\n",
        "      self.wie = torch.tensor(gaussian_filter(sEI, int(N)).astype(float)) #dog_filter(sIn, sOut, N)\n",
        "      self.wes = torch.tensor(np.eye(int(N)).astype(float)) # Identity matrix\n",
        "      self.f = np.arange(1, N +1)\n",
        "      self.sEI = sEI\n",
        "      self.sIn = sIn\n",
        "      self.sOut = sOut\n",
        "\n",
        "\n",
        "    def reset(self):  # https://stackoverflow.com/questions/56878667/setting-default-values-in-a-class\n",
        "\n",
        "        for name, field in self.__dataclass_fields__.items():\n",
        "            if field.default != MISSING:\n",
        "                setattr(self, name, field.default)\n",
        "            else:\n",
        "                setattr(self, name, field.default_factory())\n",
        "\n",
        "\n",
        "\n",
        "\n",
        "# °°° Time of the simulation °°°\n",
        "class Simulation:\n",
        "    def __init__(self, dt, T):\n",
        "        self.dt = dt\n",
        "        self.T = T\n",
        "        self.range_t = (np.arange(0, self.T, self.dt))\n",
        "        self.Lt = self.range_t.size\n",
        "\n",
        "\n",
        "    def printSim(self):\n",
        "        print(\"T time step of the simulation (dt): \", self.dt, \"  Duration of simulation S (T): \", self.T,\n",
        "              \"Length of the time frame (Lt): \", self.Lt)\n",
        "\n",
        "\n",
        "#  °°° Initialisation of the variables °°°\n",
        "class Neurons:\n",
        "    def __init__(neur, Ltime, Ntime , RFfrequency =0, init_r=0, init_S=0 ):\n",
        "        neur.r = torch.tensor(np.zeros((Ltime, Ntime), dtype='float64'), requires_grad = False)\n",
        "        neur.drdt = torch.tensor(np.zeros((Ltime, Ntime), dtype='float64'), requires_grad = False)\n",
        "        neur.S = torch.tensor(np.zeros((Ltime,Ntime), dtype='float64'), requires_grad = False)\n",
        "        neur.Itot = (np.zeros((Ltime, Ntime), dtype='float64'))#, requires_grad = False\n",
        "        neur.Phi = (np.zeros((Ltime, Ntime))) #np.zeros(Ltime)\n",
        "        neur.rinit = init_r\n",
        "        neur.Sinit = init_S\n",
        "        neur.RFf = RFfrequency\n",
        "        if neur.Sinit != 0:\n",
        "          neur.S[0,:] = neur.Sinit\n",
        "         # neur.S = np.full((Ltime, Ntime), neur.Sinit)\n",
        "\n",
        "\n",
        "\n",
        "    def printNeur(neur):\n",
        "        print(\"size S and r andItot and Phi is: \", neur.S.shape, neur.r.shape, neur.Itot.shape, neur.Phi.shape)\n",
        "\n",
        "\n",
        "\n",
        "class Stim:\n",
        "  def __init__(self, param, simu, f, ISI = 1, dur = 0.2): #8 #[10]\n",
        "    self.f = f #array of frequency stimulus types\n",
        "    self.ISI = ISI # inter-stimulus interval\n",
        "    self.dur = dur #duration in s of a specific stimulus segment . The time the frequency fi ll be maintained in the f array\n",
        "    self.tail   = 0;\n",
        "    self.predDt = 0;\n",
        "    self.pred   = 0;\n",
        "    self.InMax = param.InMax\n",
        "    self.In0 = param.In0\n",
        "\n",
        "    # Instantaneous frequency\n",
        "    f_instant = np.zeros((int(self.ISI / simu.dt)+1, 1)) #size ISI : 1 /dt : 1000\n",
        "\n",
        "    #print(f.shape)\n",
        "    for fx in self.f:\n",
        "      fx_array = np.concatenate((np.ones((int(self.dur / simu.dt), 1)) * fx, #just 1 frequency of 8 . # inter-stim interval is aslong as stim interval\n",
        "                               np.zeros((int(self.ISI / simu.dt), 1))))   # so I get 1 list with 1000 lists containing 8 and 1000 lists containing 0\n",
        "    f_stim = np.vstack((f_instant, fx_array)) #stack vertically these arrays # [0] *1000 , [8]*1000, [0]*1000\n",
        "    self.f_stim = f_stim[1:] #1400*1\n",
        "\n",
        "  #bottom up sensory Input # duration 1sec\n",
        "  def sensoryInput(self, parameter, simu,sigmaIn = None, paramf = None , f_stim = None, InMax = None, In0 = None):\n",
        "      #paramf = np.arange(1, 101)\n",
        "      w = np.exp(-(((paramf or parameter.f) - (f_stim or self.f_stim)) ** 2) / (2 * (sigmaIn or parameter.sigmaIn) ** 2))  # pars['f'] = 1:N\n",
        "\n",
        "      #totalAct = w.sum(axis = 1) #sum over each row\n",
        "      #norm_w = (w.T / totalAct).T # elementwise division\n",
        "      In = np.where(f_stim or self.f_stim > 0, (InMax or self.InMax) * w + (In0 or self.In0), 0) #if stim >0 give InMax * weight + In0 otherwise give 0\n",
        "      if self.tail != 0:\n",
        "        tail_zeros = np.zeros((parameter.N, int(self.tail / simu.dt)))\n",
        "        In = np.hstack((In, tail_zeros))\n",
        "\n",
        "      range_sim = np.arange(1, In.shape[0] +1)\n",
        "      self.In = In\n",
        "      self.w = w\n",
        "      self.sigmaIn = sigmaIn\n",
        "\n",
        "      return In, range_sim, w, sigmaIn\n",
        "\n",
        "\n",
        "  def printStim(self):\n",
        "    print(\"frequence of stimulus f:\", self.f, \"  ISI:\",self.ISI, \" Size In:\", self.In.shape, \"Size w:\", self.w.shape, \"  f_stim:\", self.f_stim.shape,\n",
        "          \"sigmaIn:\", self.sigmaIn)\n",
        "\n"
      ]
    },
    {
      "cell_type": "markdown",
      "metadata": {
        "id": "c2B8uKdcn4HV"
      },
      "source": [
        "## 2- Model Classes"
      ]
    },
    {
      "cell_type": "code",
      "execution_count": 13,
      "metadata": {
        "id": "GfhUfdaoNSBV"
      },
      "outputs": [],
      "source": [
        "class MyModel(nn.Module):\n",
        "    def __init__(self, param, sim, **kwargs):\n",
        "        super(MyModel, self).__init__()\n",
        "        torch.manual_seed(2020)\n",
        "        # Define other model parameters, layers, or components here if needed\n",
        "        self.param = param\n",
        "        self.dicJ = kwargs\n",
        "        self.dt = sim.dt\n",
        "        self.N = (param.N)\n",
        "        self.Jee = nn.Parameter((torch.tensor((self.dicJ['Jee']), requires_grad = True, dtype= float)))\n",
        "        self.Jei = nn.Parameter((torch.tensor((self.dicJ['Jei']), requires_grad = True, dtype= float)))\n",
        "        self.Jie = nn.Parameter((torch.tensor((self.dicJ['Jie']), requires_grad = True, dtype= float)))\n",
        "        self.Jii = nn.Parameter((torch.tensor((self.dicJ['Jii']), requires_grad = True, dtype= float)))\n",
        "        self.Jin = nn.Parameter((torch.tensor((self.dicJ['Jin']), requires_grad = True, dtype= float)))\n",
        "        print(self.Jee, self.dicJ['Jee'])\n",
        "\n",
        "    def phi(self, I_tot, a, b, hm):\n",
        "        return torch.multiply(hm, torch.divide(1, (1 + torch.exp(- (torch.multiply(a, I_tot) + b)))))\n",
        "        #return hm * (1 / (1 + torch.exp(- (a * I_tot + b))))\n",
        "\n",
        "    def forward(self, stim):\n",
        "        \"\"\"\n",
        "        if type(stim) == torch.Tensor:\n",
        "          In = stim\n",
        "        else:\n",
        "          In = stim.In #stim.In@weight\n",
        "          In = (torch.tensor(In).float()) #, requires_grad = True).float())\n",
        "        \"\"\"\n",
        "        In = stim\n",
        "        # Initialize model variables here\n",
        "        r_e = torch.zeros((In.shape[0],self.N), dtype= float) #, requires_grad=True)\n",
        "        r_i = torch.zeros((In.shape[0], self.N), dtype= float) #, requires_grad=True)\n",
        "        s_ampa = torch.zeros((In.shape[0], self.N), dtype= float)\n",
        "        s_gaba = torch.zeros((In.shape[0], self.N), dtype= float)\n",
        "        i_tot_e = torch.zeros((In.shape[0], self.N), dtype= float)\n",
        "        i_tot_i = torch.zeros((In.shape[0], self.N), dtype= float)\n",
        "        dr_e_dt = torch.zeros((In.shape[0], self.N), dtype= float)\n",
        "        dr_i_dt = torch.zeros((In.shape[0], self.N), dtype= float)\n",
        "\n",
        "\n",
        "        # Perform integration over time steps\n",
        "        for k in range(1, In.shape[0]):\n",
        "            s_gaba_wie = s_gaba[k - 1, :] @ self.param.wie # replaced torch.matmul() by @\n",
        "            s_ampa_wei = s_ampa[k - 1, :] @ self.param.wei #@ is an inplace operation!\n",
        "            s_gaba_wii = s_gaba[k - 1, :] @ (self.param.wii)\n",
        "            sampa = s_ampa.detach().clone()\n",
        "            #Jee = self.Jee.clone()\n",
        "            Sampa_Jee = self.Jee * sampa[k - 1, :] #self.Jee.clone() does not work\n",
        "            IN_JIN = self.Jin * stim[k-1,:]\n",
        "            #ic(Sampa_Jee.grad_fn)\n",
        "            #ic(s_ampa.grad_fn)\n",
        "            #ic(self.Jee.grad_fn)\n",
        "\n",
        "            #print(Sampa_Jee.type)\n",
        "            i_tot_e[k, :] =(Sampa_Jee) - (self.Jie * s_gaba_wie) + (IN_JIN)# stim=In #(torch.tensor(In[k-1,:], requires_grad = True).float()\n",
        "            i_tot_i[k, :] = (self.Jei * s_ampa_wei) - (self.Jii * s_gaba_wii)\n",
        "\n",
        "            phi_arr_e = self.phi(i_tot_e[k, :], self.param.ae, self.param.be, self.param.hme) #.detach().numpy()\n",
        "            phi_arr_i = self.phi(i_tot_i[k, :], self.param.ai, self.param.bi, self.param.hmi) #.detach().numpy()\n",
        "\n",
        "            dr_e_dt[k, :]  = (-r_e[k - 1, :] + phi_arr_e) / self.param.taue\n",
        "            dr_i_dt[k, :]  = (-r_i[k - 1, :] + phi_arr_i) / self.param.taui\n",
        "\n",
        "            r_e[k, :] = r_e[k - 1, :] + dr_e_dt[k, :]  * self.dt\n",
        "            r_i[k, :] = r_i[k - 1, :] + dr_i_dt[k, :]  * self.dt\n",
        "\n",
        "            dS_amp_dt = (- s_ampa[k - 1, :] / self.param.tauAMPA) + r_e[k, :]\n",
        "            s_ampa[k, :] = s_ampa[k - 1, :] + dS_amp_dt * self.dt\n",
        "\n",
        "            dS_gab_dt = (- s_gaba[k - 1, :] / self.param.tauGABA) + r_i[k, :]\n",
        "            s_gaba[k, :] = s_gaba[k - 1, :] + dS_gab_dt * self.dt\n",
        "\n",
        "        return r_e, r_i #, dr_e_dt, dr_i_dt # r_e, r_i, s_ampa, s_gaba, i_tot_e, i_tot_i, In, dr_e_dt, dr_i_dt"
      ]
    },
    {
      "cell_type": "markdown",
      "metadata": {
        "id": "en1oY4T8vUQ2"
      },
      "source": [
        "### Call the model and the classes"
      ]
    },
    {
      "cell_type": "code",
      "execution_count": 14,
      "metadata": {
        "colab": {
          "base_uri": "https://localhost:8080/",
          "height": 712
        },
        "id": "TTnRXyaxbVeu",
        "outputId": "22c8456e-b991-4a0e-d722-14fef1b5ca93"
      },
      "outputs": [
        {
          "output_type": "stream",
          "name": "stdout",
          "text": [
            "sIN 0.1 sout 3.0 sEI 0.2\n",
            "Jee: 0.2   Jei: 1.4\n",
            "Jii 6.7 Jie: 0.2  Jin: 0.008\n",
            "T time step of the simulation (dt):  0.0001   Duration of simulation S (T):  0.4 Length of the time frame (Lt):  4000\n",
            "Parameter containing:\n",
            "tensor(0.0720, dtype=torch.float64, requires_grad=True) 0.072\n"
          ]
        },
        {
          "output_type": "display_data",
          "data": {
            "text/plain": [
              "<Figure size 600x600 with 4 Axes>"
            ],
            "image/png": "[encoded data removed]"
          },
          "metadata": {}
        }
      ],
      "source": [
        "N=20\n",
        "# \\\\\\\\\\\\\\\\\\\\\\ Parameters\n",
        "param = Parameter(N = 20, sIn = .1, sOut =3., sEI = .2)\n",
        "sigmas = [param.sOut, param.sEI]# = sigmas\n",
        "print(\"sIN\", sigmas[0]/30, \"sout\", sigmas[0], \"sEI\", sigmas[1])\n",
        "print(\"Jee:\", param.Jee, \"  Jei:\", param.Jei)\n",
        "print(\"Jii\", param.Jii, \"Jie:\", param.Jie, \" Jin:\", param.Jin)\n",
        "J = param.Jin, param.Jee, param.Jie, param.Jei, param.Jii\n",
        "\n",
        "# \\\\\\\\\\\\\\\\\\\\\\ Simulation time\n",
        "simu = Simulation(1e-4, .4) #dt #rangeSim #dur = 2s\n",
        "simu.printSim()\n",
        "\n",
        "# \\\\\\\\\\\\\\\\\\\\\\ Bottom up sensory input\n",
        "stimuli = Stim(param,simu, dur=.3, f = [8],ISI=.05) #dur = 1s Isi=1s\n",
        "In, range_sim, w, sigmaIn =stimuli.sensoryInput(param, simu, sigmaIn = 2.)\n",
        "#stim.printStim()\n",
        "\n",
        "# \\\\\\\\\\\\\\\\\\\\\\ Neurons (empty variables)\n",
        "pop3 = Neurons(In.shape[0], param.N)#\n",
        "pop4 = Neurons(In.shape[0], param.N)\n",
        "\n",
        "\n",
        "# Initialize the model\n",
        "\n",
        "# +++++++++++++++++++++++++ Model ++++++++++++++++++++++++++++\n",
        "J1 = {'Jee': 0.072, 'Jei': 0.004, 'Jie': 0.05, 'Jii': 0.6, 'Jin': 0.00695}\n",
        "mymodel = MyModel(param, simu, **J1)  #these ** pass J as an unpacked dict, not as a single positional argument\n",
        "#mymodel.Jdic = J\n",
        "#print(mymodel.dicJ['Jee'])\n",
        "\n",
        "# ~~~~~~~~~~~~~~~~~~~~~~~~~~~~~~~~~~~~~~~ RUN  ~~~~~~~~~~~~~~~~~~~~~~~~~~~~~~~~~~~~~~~~~~~~~~~~~~~~~~~~~~\n",
        "sti = torch.tensor(stimuli.In).float()\n",
        "r_e, r_i = mymodel.forward(stim = sti)#  ,r_i, dr_e_dt, dr_i_dt, s_ampa, s_gaba, i_tot_e, i_tot_i, In,\n",
        "\n",
        "HeatMap(r_e.detach().numpy(), r_i.detach().numpy(), J1)"
      ]
    },
    {
      "cell_type": "code",
      "source": [
        "# find the stimuli for every X = stim dataset\n",
        "def get_stimuli_input(X_train_tensor): # input of the shape Xtrain_tensor[5,:,:]\n",
        "  Xargmax = torch.argmax(X_train_tensor, dim = 1)\n",
        "  #print(Xargmax.grad_fn)\n",
        "  Xmax =torch.max(Xargmax)\n",
        "  #print(Xmax.grad_fn)\n",
        "  return Xmax\n",
        "\n",
        "\n",
        "# replace where function by relu functio which is differentiable\n",
        "def get_expected_Y_relu(X_train_tensor):\n",
        "  x_t = torch.transpose(X_train_tensor, 0,1)\n",
        "  #print(x_t.grad_fn)\n",
        "  dirac_2d = torch.zeros(x_t.shape)\n",
        "  stim = get_stimuli_input(X_train_tensor) # input of the shape Xtrain_tensor[5,:,:] # here get_stimuli not differenciable\n",
        "  #print(stim.grad_fn)\n",
        "  for pop, t in enumerate(x_t):\n",
        "    tpop = torch.tensor(pop)\n",
        "    #print(tpop.grad_fn)\n",
        "    dirac_2d[pop,:] = torch.nn.functional.relu(1.0 - torch.abs(tpop - stim), inplace = False).requires_grad_(True)\n",
        "  dirac_2d = torch.transpose(dirac_2d, 1,0)\n",
        "  #print(dirac_2d.grad_fn)\n",
        "  return dirac_2d\n",
        "\n",
        "def get_expected_Y_relu_1d_where(X_train_tensor):\n",
        "    stim = get_stimuli_input(X_train_tensor)\n",
        "    dirac_1d = torch.zeros(X_train_tensor.shape)\n",
        "    # Calculate the difference between tpop and stim\n",
        "    for pop in enumerate(X_train_tensor):\n",
        "      dirac_1d[pop[0]] = torch.where(pop[0] == torch.tensor(stim), torch.tensor(1.0),torch.tensor(0.0))\n",
        "    return dirac_1d"
      ],
      "metadata": {
        "id": "CWpMk4zRL3aw"
      },
      "execution_count": 15,
      "outputs": []
    },
    {
      "cell_type": "markdown",
      "metadata": {
        "id": "qC5RxAspVnmX"
      },
      "source": [
        "# Optimization"
      ]
    },
    {
      "cell_type": "code",
      "execution_count": 16,
      "metadata": {
        "id": "DmhLUIyTE4p6"
      },
      "outputs": [],
      "source": [
        "#Initialise  loss function, and the SGD optimizer\n",
        "# +++++++++++++++++++++++++ Optimizer ++++++++++++++++++++++++++++\n",
        "optimizer = optim.SGD(mymodel.parameters(), lr=0.05) #, lr=0.05) or use optim.Adam(mymodel.parameters(), lr=.05)\n",
        "\n",
        "# +++++++++++++++++++++++++ Loss ++++++++++++++++++++++++++++\n",
        "#simpler_custom_loss(X_input_proba, Y_target)\n",
        "#diff = torch.sum((X_input_proba - Y_target), axis =1).requires_grad_(True)\n",
        "\n",
        "# +++++++++++++++++++++++++ Epochs +++++++++++++++++++++++++\n",
        "num_epochs = 2 #5"
      ]
    },
    {
      "cell_type": "code",
      "source": [
        "torch.autograd.set_detect_anomaly(False)\n"
      ],
      "metadata": {
        "colab": {
          "base_uri": "https://localhost:8080/"
        },
        "id": "awfsqjxstatJ",
        "outputId": "854681c6-17a4-4812-e021-f4ffbb938f41"
      },
      "execution_count": 17,
      "outputs": [
        {
          "output_type": "execute_result",
          "data": {
            "text/plain": [
              "<torch.autograd.anomaly_mode.set_detect_anomaly at 0x7c4694924a30>"
            ]
          },
          "metadata": {},
          "execution_count": 17
        }
      ]
    },
    {
      "cell_type": "code",
      "execution_count": 21,
      "metadata": {
        "id": "hX5Z9MPN0kOI",
        "colab": {
          "base_uri": "https://localhost:8080/",
          "height": 669
        },
        "outputId": "6e1de623-625f-45de-81ff-0c07147f241a"
      },
      "outputs": [
        {
          "output_type": "stream",
          "name": "stdout",
          "text": [
            "Epoch [1/2], Loss: 1.801420000779528e-15, Loss_grad: <SumBackward0 object at 0x7c46975d6b90>\n",
            "Jee tensor(-8.0978e-14, dtype=torch.float64)\n",
            "Jei tensor(1.1846e-11, dtype=torch.float64)\n",
            "Jie tensor(1.0296e-12, dtype=torch.float64)\n",
            "Jii tensor(-2.1733e-14, dtype=torch.float64)\n",
            "Jin tensor(-5.0611e-11, dtype=torch.float64)\n"
          ]
        },
        {
          "output_type": "error",
          "ename": "RuntimeError",
          "evalue": "ignored",
          "traceback": [
            "\u001b[0;31m---------------------------------------------------------------------------\u001b[0m",
            "\u001b[0;31mRuntimeError\u001b[0m                              Traceback (most recent call last)",
            "\u001b[0;32m<ipython-input-21-6c8693d70449>\u001b[0m in \u001b[0;36m<cell line: 13>\u001b[0;34m()\u001b[0m\n\u001b[1;32m     25\u001b[0m   \u001b[0;31m#backprop\u001b[0m\u001b[0;34m\u001b[0m\u001b[0;34m\u001b[0m\u001b[0m\n\u001b[1;32m     26\u001b[0m   \u001b[0;31m#optimizer.zero_grad()\u001b[0m\u001b[0;34m\u001b[0m\u001b[0;34m\u001b[0m\u001b[0m\n\u001b[0;32m---> 27\u001b[0;31m   \u001b[0mloss\u001b[0m\u001b[0;34m.\u001b[0m\u001b[0mbackward\u001b[0m\u001b[0;34m(\u001b[0m\u001b[0;34m)\u001b[0m\u001b[0;31m#retain_graph=True\u001b[0m\u001b[0;34m\u001b[0m\u001b[0;34m\u001b[0m\u001b[0m\n\u001b[0m\u001b[1;32m     28\u001b[0m   \u001b[0moptimizer\u001b[0m\u001b[0;34m.\u001b[0m\u001b[0mstep\u001b[0m\u001b[0;34m(\u001b[0m\u001b[0;34m)\u001b[0m\u001b[0;34m\u001b[0m\u001b[0;34m\u001b[0m\u001b[0m\n\u001b[1;32m     29\u001b[0m \u001b[0;34m\u001b[0m\u001b[0m\n",
            "\u001b[0;32m/usr/local/lib/python3.10/dist-packages/torch/_tensor.py\u001b[0m in \u001b[0;36mbackward\u001b[0;34m(self, gradient, retain_graph, create_graph, inputs)\u001b[0m\n\u001b[1;32m    490\u001b[0m                 \u001b[0minputs\u001b[0m\u001b[0;34m=\u001b[0m\u001b[0minputs\u001b[0m\u001b[0;34m,\u001b[0m\u001b[0;34m\u001b[0m\u001b[0;34m\u001b[0m\u001b[0m\n\u001b[1;32m    491\u001b[0m             )\n\u001b[0;32m--> 492\u001b[0;31m         torch.autograd.backward(\n\u001b[0m\u001b[1;32m    493\u001b[0m             \u001b[0mself\u001b[0m\u001b[0;34m,\u001b[0m \u001b[0mgradient\u001b[0m\u001b[0;34m,\u001b[0m \u001b[0mretain_graph\u001b[0m\u001b[0;34m,\u001b[0m \u001b[0mcreate_graph\u001b[0m\u001b[0;34m,\u001b[0m \u001b[0minputs\u001b[0m\u001b[0;34m=\u001b[0m\u001b[0minputs\u001b[0m\u001b[0;34m\u001b[0m\u001b[0;34m\u001b[0m\u001b[0m\n\u001b[1;32m    494\u001b[0m         )\n",
            "\u001b[0;32m/usr/local/lib/python3.10/dist-packages/torch/autograd/__init__.py\u001b[0m in \u001b[0;36mbackward\u001b[0;34m(tensors, grad_tensors, retain_graph, create_graph, grad_variables, inputs)\u001b[0m\n\u001b[1;32m    249\u001b[0m     \u001b[0;31m# some Python versions print out the first line of a multi-line function\u001b[0m\u001b[0;34m\u001b[0m\u001b[0;34m\u001b[0m\u001b[0m\n\u001b[1;32m    250\u001b[0m     \u001b[0;31m# calls in the traceback and some print out the last line\u001b[0m\u001b[0;34m\u001b[0m\u001b[0;34m\u001b[0m\u001b[0m\n\u001b[0;32m--> 251\u001b[0;31m     Variable._execution_engine.run_backward(  # Calls into the C++ engine to run the backward pass\n\u001b[0m\u001b[1;32m    252\u001b[0m         \u001b[0mtensors\u001b[0m\u001b[0;34m,\u001b[0m\u001b[0;34m\u001b[0m\u001b[0;34m\u001b[0m\u001b[0m\n\u001b[1;32m    253\u001b[0m         \u001b[0mgrad_tensors_\u001b[0m\u001b[0;34m,\u001b[0m\u001b[0;34m\u001b[0m\u001b[0;34m\u001b[0m\u001b[0m\n",
            "\u001b[0;31mRuntimeError\u001b[0m: Trying to backward through the graph a second time (or directly access saved tensors after they have already been freed). Saved intermediate values of the graph are freed when you call .backward() or autograd.grad(). Specify retain_graph=True if you need to backward through the graph a second time or if you need to access saved tensors after calling backward."
          ]
        }
      ],
      "source": [
        "#test customloss\n",
        "J_list = list(J1.keys())\n",
        "X_input = sti#.requires_grad_(True)\n",
        "\n",
        "Y_target = get_expected_Y_relu(X_input)\n",
        "#Y_target = get_expected_Y_relu_1d_where(X_input)\n",
        "\n",
        "#Y_target.requires_grad_(True)\n",
        "m = nn.Softmax(dim = 1)\n",
        "\n",
        "\n",
        "losses = torch.zeros(num_epochs)\n",
        "for epoch in range(num_epochs):\n",
        "  optimizer.zero_grad()  # Zero the gradients\n",
        "  #calculate output\n",
        "  #mymodel.train()\n",
        "  r_e, r_i = mymodel(X_input) #, r_I, dr_e_dt, dr_i_dt\n",
        "  Y_prediction = softmax(r_e) #m(r_e) #make_it_proba(r_e)# #torch.exp(r_e) / torch.sum(torch.exp(r_e), axis=1))\n",
        "  #ic(Y_prediction.grad_fn)\n",
        "  #calculate loss\n",
        "  loss = torch.sum(torch.sum((Y_prediction - Y_target), axis =1))\n",
        "  #ic(loss.grad_fn)\n",
        "  #print(f\"\\n loss for sample {epoch}\", loss)\n",
        "  #print(torch.isfinite(loss).all())\n",
        "  #backprop\n",
        "  #optimizer.zero_grad()\n",
        "  loss.backward()#retain_graph=True\n",
        "  optimizer.step()\n",
        "\n",
        "  losses[epoch] = loss\n",
        "  print(f'Epoch [{epoch + 1}/{num_epochs}], Loss: {loss}, Loss_grad: {loss.grad_fn}')#.item()\n",
        "  #optimizer.zero_grad()\n",
        "  #print(\"x.grad\", X_input.grad)\n",
        "  for i, par in enumerate(mymodel.parameters()):\n",
        "    print(J_list[i], par.grad)\n",
        "\n"
      ]
    },
    {
      "cell_type": "code",
      "source": [
        "# Loss over time\n",
        "\n",
        "\n",
        "plt.plot(np.arange(losses.shape[0]), losses.detach().numpy(), 'bo', label='Training loss')"
      ],
      "metadata": {
        "id": "mDl03CMNbuRi",
        "colab": {
          "base_uri": "https://localhost:8080/",
          "height": 463
        },
        "outputId": "510c83b6-8ae9-4f6d-e2f5-dc770d7dbf12"
      },
      "execution_count": 19,
      "outputs": [
        {
          "output_type": "execute_result",
          "data": {
            "text/plain": [
              "[<matplotlib.lines.Line2D at 0x7c4694ca6e00>]"
            ]
          },
          "metadata": {},
          "execution_count": 19
        },
        {
          "output_type": "display_data",
          "data": {
            "text/plain": [
              "<Figure size 640x480 with 1 Axes>"
            ],
            "image/png": "[encoded data removed]"
          },
          "metadata": {}
        }
      ]
    },
    {
      "cell_type": "code",
      "source": [
        "import torch\n",
        "\n",
        "# Create a sample computation graph\n",
        "x = torch.tensor([2.0], requires_grad=True)\n",
        "y = x * 3\n",
        "z = y + 4\n",
        "loss = z.mean()\n",
        "\n",
        "# Start with the loss tensor\n",
        "current_tensor = loss\n",
        "\n",
        "print(f\"Tensor: {current_tensor}\")\n",
        "print(f\"Operation: {current_tensor.grad_fn}\")\n",
        "\n",
        "print(current_tensor.backward())\n",
        "\n",
        "print(x.grad)\n",
        "print(loss.grad)"
      ],
      "metadata": {
        "id": "PKuSioBzQYUd",
        "colab": {
          "base_uri": "https://localhost:8080/"
        },
        "outputId": "05886bad-b8d0-4e82-b35b-3aa4c832d897"
      },
      "execution_count": 20,
      "outputs": [
        {
          "output_type": "stream",
          "name": "stdout",
          "text": [
            "Tensor: 10.0\n",
            "Operation: <MeanBackward0 object at 0x7c4692e1be80>\n",
            "None\n",
            "tensor([3.])\n",
            "None\n"
          ]
        },
        {
          "output_type": "stream",
          "name": "stderr",
          "text": [
            "<ipython-input-20-b8af2aafcc30>:18: UserWarning: The .grad attribute of a Tensor that is not a leaf Tensor is being accessed. Its .grad attribute won't be populated during autograd.backward(). If you indeed want the .grad field to be populated for a non-leaf Tensor, use .retain_grad() on the non-leaf Tensor. If you access the non-leaf Tensor by mistake, make sure you access the leaf Tensor instead. See github.com/pytorch/pytorch/pull/30531 for more informations. (Triggered internally at aten/src/ATen/core/TensorBody.h:489.)\n",
            "  print(loss.grad)\n"
          ]
        }
      ]
    },
    {
      "cell_type": "code",
      "source": [],
      "metadata": {
        "id": "SP4r8-rER5HF"
      },
      "execution_count": 20,
      "outputs": []
    }
  ]
}