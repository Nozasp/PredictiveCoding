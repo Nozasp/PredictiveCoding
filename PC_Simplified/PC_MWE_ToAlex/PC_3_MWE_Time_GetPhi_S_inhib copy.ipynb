{
 "cells": [
  {
   "cell_type": "markdown",
   "metadata": {},
   "source": [
    "PC"
   ]
  },
  {
   "cell_type": "markdown",
   "metadata": {},
   "source": [
    "## -*- coding: utf-8 -*-\n",
    "# PC_"
   ]
  },
  {
   "cell_type": "markdown",
   "metadata": {},
   "source": [
    "## Import"
   ]
  },
  {
   "cell_type": "code",
   "execution_count": 1,
   "metadata": {},
   "outputs": [
    {
     "name": "stdout",
     "output_type": "stream",
     "text": [
      "{'ae': 18.26, 'be': -5.38, 'hme': 78.67, 'ai': 21.97, 'bi': -4.81, 'hmi': 125.62, 'taue': 0.005, 'taui': 0.005, 'tauNMDA': 0.1, 'tauGABA': 0.005, 'tauAMPA': 0.002, 'gamma': 0.641, 'sigma': 0.0007, 'I0e': 0.2346, 'I0i': 0.17, 'sigmaIn': 3, 'sigmaEI': 3, 'sigmaInh': [0.2, 3], 'I_ext': 0.0, 'c_dash': 90, 'mu0': 30, 'Jext': 0.01, 'I1': 0.57, 'I2': 0.029999999999999992, 'Jee': 0.2, 'Jie': 0.2, 'Jei': 1.4, 'Jii': 6.7, 'Jin': 0.008, 'Jiq': 0.85, 'Jes': 3.5, 'Jsi': 0.12, 'Jem': 2.2, 'I_noise': array([[-0.00130474],\n",
      "       [ 0.00114454],\n",
      "       [-0.00011   ],\n",
      "       [ 0.00012314]]), 'T': 3, 'dt': 2e-05, 'r_init': 0.2, 'range_t': array([0.00000e+00, 2.00000e-05, 4.00000e-05, ..., 2.99994e+00,\n",
      "       2.99996e+00, 2.99998e+00]), 'Lt': 150000, 'NumN': 20, 'f': array([ 1,  2,  3,  4,  5,  6,  7,  8,  9, 10, 11, 12, 13, 14, 15, 16, 17,\n",
      "       18, 19, 20]), 'In0': 0, 'InMax': 50, 'Iq0': 0, 'IqMax': 10}\n"
     ]
    }
   ],
   "source": [
    "import pandas as pd\n",
    "import torch\n",
    "import torch.nn as nn\n",
    "import torch.nn.functional as F  # F.mse_loss\n",
    "import torch.optim as optim\n",
    "from torchvision import transforms, utils, datasets\n",
    "from torch.utils.data import Dataset, DataLoader, random_split, SubsetRandomSampler, WeightedRandomSampler\n",
    "from torch.utils.data import TensorDataset, DataLoader  # for batch and split Xtrain Ytrain dataset\n",
    "\n",
    "import scipy\n",
    "import scipy.ndimage as nd\n",
    "from scipy.stats import norm\n",
    "from scipy.optimize import minimize\n",
    "\n",
    "from locale import format\n",
    "from dataclasses import dataclass, MISSING\n",
    "\n",
    "import seaborn as sns\n",
    "import plotly.graph_objects as go\n",
    "\n",
    "\n",
    "from scipy.interpolate import griddata\n",
    "import numpy as np\n",
    "import matplotlib.pyplot as plt\n",
    "from mpl_toolkits.mplot3d import Axes3D\n",
    "\n",
    "# from scipy.sparse import identity\n",
    "from icecream import ic  # for debugging. print variable name\n",
    "\n",
    "## !!!!! To get the parameters\n",
    "from PC_Parameters import default_parameters_network\n",
    "\n",
    "pars = default_parameters_network()\n"
   ]
  },
  {
   "cell_type": "markdown",
   "metadata": {},
   "source": [
    "## Functions\n",
    "### Basics ones"
   ]
  },
  {
   "cell_type": "code",
   "execution_count": 2,
   "metadata": {},
   "outputs": [],
   "source": [
    "#### 2- Input/Output function\n",
    "\n",
    "def plot_io(x, y, sign):\n",
    "    if sign == \"+\":\n",
    "        sign_name = 'Excitatory'\n",
    "        label = \"ae={0}, be={1}, hme={2}\"\n",
    "        a, b, hm = pars['ae'], pars['be'], pars['hme']\n",
    "        color = \"k\"\n",
    "    elif sign == \"-\":\n",
    "        sign_name = 'Inhibitory'\n",
    "        label = \"ai={0}, bi={1}, hmi={2}\"\n",
    "        a, b, hm = pars['ai'], pars['bi'], pars['hmi']\n",
    "        color = \"r\"\n",
    "\n",
    "    plt.plot(x, y, color, label=label.format(a, b, hm))\n",
    "\n",
    "    plt.xlabel(\"Input values - nA\")\n",
    "    plt.ylabel(\"Spike Frequency - Hz\")\n",
    "    plt.xlim([-0.01, 1])\n",
    "    plt.title(\"Input-output function\")\n",
    "    # plt.title(\"{0} Input-output function\".format(sign_name))\n",
    "    plt.legend()\n",
    "\n",
    "\n",
    "def plot_r(range_sim, r_e, r_i, param, xlim_ar=None):\n",
    "    label_e = \"Excitatoty  Jee={0}, Jei={1}\"  # , I1={2}\"\n",
    "    label_i = \"Inhibitory  Jii={0}, Jie={1}\"  # , I2={2}\"\n",
    "    plt.plot(range_sim, r_e, \"r\", label=label_e.format(param.Jee, param.Jei))  # , param.I1 #, param.In\n",
    "    plt.plot(range_sim, r_i, \"orange\", label=label_i.format(param.Jii, param.Jie))  # , round(param.I2, 2)))\n",
    "\n",
    "    plt.xlabel(\"Time - ms\")\n",
    "    plt.ylabel(\"Spike Frequency - Hz\")\n",
    "    if xlim_ar != None:\n",
    "        plt.xlim(xlim_ar)  # [0, .1]\n",
    "    plt.title(\"Firing rate of the NMDA and GABA populations\")\n",
    "    plt.legend()\n",
    "\n",
    "\n",
    "def plot_s(range_sim, S_e, S_i, param, xlim_ar=None):\n",
    "    label_e = \"Excitatoty  Jee={0}, Jei={1}\"  # , I1={2}\"\n",
    "    label_i = \"Inhibitory  Jii={0}, Jie={1}\"  # , I2={2}\"\n",
    "    plt.plot(range_sim, S_e, \"olive\", label=label_e.format(param.Jee, param.Jei))  # , param.I1\n",
    "    plt.plot(range_sim, S_i, \"green\", label=label_i.format(param.Jii, param.Jie))  # , round(param.I2, 2)\n",
    "    if xlim_ar != None:\n",
    "        plt.xlim(xlim_ar)\n",
    "    plt.xlabel(\"Time - ms\")\n",
    "    plt.ylabel(\"Open channel\")\n",
    "    # plt.xlim([0, .1])\n",
    "    plt.title(\"Average open channel for the NMDA and GABA populations\")\n",
    "    plt.legend()\n",
    "\n",
    "\n",
    "# 2- Plot HeatMap of firing rate function\n",
    "def HeatMap(rE, rI, J=None):\n",
    "    if J == None:\n",
    "        J = [.00989, 0.0081, .1, .87, .00081]  # J = dict(Jin=.008, Jee= .2, Jie=.2, Jei=1.4, Jii=6.7)\n",
    "    if type(J) == dict:\n",
    "        J = np.array(list(J.values()))\n",
    "\n",
    "    rE_df = pd.DataFrame(rE.T)  # to get time vs pop\n",
    "    rI_df = pd.DataFrame(rI.T)\n",
    "\n",
    "    rE_df.index.name, rI_df.index.name = [\"Excitatory Population\", \"Inhibitory Population\"]\n",
    "    rE_df.columns.name, rI_df.columns.name = [\"Time s\", \"Time s\"]\n",
    "    # print(rE_df.loc[[10]])\n",
    "\n",
    "    # set context for the upcoming plot\n",
    "    sns.set_context(\"notebook\", font_scale=.8, rc={\"lines.linewidth\": 2.5, 'font.family': 'Helvetica'})\n",
    "\n",
    "    fig, (axA, axB) = plt.subplots(2, 1, figsize=(6, 6))\n",
    "\n",
    "    sns.heatmap(rE_df, ax=axA, cmap=\"viridis\")\n",
    "    sns.heatmap(rI_df, ax=axB)\n",
    "    axA.set_title(f\"Firing rate in Hz of exc populations over time. Jie: {J[2]}, Jee: {J[1]}, Jin: {J[0]}\",\n",
    "                  fontdict={\"fontsize\": 10})\n",
    "    axB.set_title(f\"Firing rate in Hz of inh populations over time. Jei: {J[3]}, Jii: {J[4]}\",\n",
    "                  fontdict={\"fontsize\": 10})\n",
    "    plt.tight_layout()\n",
    "\n",
    "    plt.show()\n",
    "\n",
    "\n",
    "# Filters gauss and Dog and LoG\n",
    "def gaussian_filter(s, N):\n",
    "    k = np.arange(1, N + 1)\n",
    "    n = 1 / (np.sqrt(2 * np.pi) * N * s)\n",
    "    gaussW = n * np.exp(-(k - k[:, np.newaxis]) ** 2 / (2 * s ** 2))\n",
    "    gaussW2 = gaussW / (.009 ** 2 / np.max(gaussW))  # 1\n",
    "    return gaussW2\n",
    "\n",
    "\n",
    "def dog_filter(sOut, N):\n",
    "    sIn = sOut / 30\n",
    "    k = np.arange(1, N + 1)\n",
    "    gaussIn = np.exp(-(k - k[:, np.newaxis]) ** 2 / (2 * sIn ** 2))\n",
    "    gaussOut = np.exp(-(k - k[:, np.newaxis]) ** 2 / (2 * sOut ** 2))\n",
    "    dog = gaussOut - gaussIn\n",
    "    if np.max(dog) == 0 or None:\n",
    "        print('zero max')\n",
    "        dog = 0\n",
    "    else:\n",
    "        dog = dog / (.042 ** 2 / np.max(dog))  # .0088\n",
    "    return dog\n",
    "\n",
    "\n",
    "def LoG_filter(s, N):\n",
    "    x_lap = np.eye(N)\n",
    "    lapl_filter = nd.gaussian_laplace(x_lap, sigma=(s, s))\n",
    "    return lapl_filter\n",
    "\n",
    "\n",
    "def dLogGaus(s=.61, N=20):\n",
    "    dig = LoG_filter(s, N) + gaussian_filter(.019 * s, N)\n",
    "    return dig\n",
    "\n",
    "\n",
    "\"\"\"### Differentiable function for back propagation\n",
    "\n",
    "To avoid non-differentiable araising from discontinuity of the function, I \"relax\" (smoothen) the where() expression by using a sigmoid instead\n",
    "*   with grad_fn:\n",
    "*   if I get : > <SumBackward1 object at 0x7f79da0b9520> # differentiable\n",
    "*   else I get none\n",
    "\"\"\"\n",
    "\n",
    "\n",
    "def relu_stim(x, stim):\n",
    "    return torch.nn.functional.relu(1.0 - torch.abs(x - stim),\n",
    "                                    inplace=False)  # inplace = False to avoid implace operation\n",
    "\n",
    "\n",
    "\n",
    "\n",
    "def Dirac(A, N=pars[\"NumN\"]):\n",
    "    y = scipy.signal.unit_impulse(N, idx=(torch.max(torch.argmax(A))))  # , dtype= <class 'float'>)\n",
    "    return torch.tensor(y)\n",
    "\n",
    "\n",
    "\n",
    "\"\"\"### Try Normalization to \"make it proba\"\n",
    "\"\"\"\n",
    "\n",
    "\n",
    "def make_it_proba(r_e):\n",
    "    sum_r_e = torch.sum(r_e, 1).reshape(r_e.shape[0], 1)\n",
    "    prob_r = torch.div(r_e, sum_r_e)  \n",
    "    print(prob_r.grad_fn)\n",
    "    prob_r[prob_r != prob_r] = 0.05  # to replace nan to 1/20 - to sum to 1\n",
    "    # print(\"should sum to 1:\", torch.sum(prob_r, 1)) #to check that it worked\n",
    "\n",
    "    return prob_r.reshape(r_e.shape[0], r_e.shape[1])  # log or not log?\n",
    "\n",
    "\n",
    "def make_it_proba_1d(r_e):\n",
    "    sum_r_e = torch.sum(r_e)\n",
    "    prob_r = torch.div(r_e, sum_r_e)  # torch.transpose(r_e, dim0=0 ,dim1=1) poses a problem\n",
    "    prob_r[prob_r != prob_r] = 0.05  # to replace nan to 1/20 - to sum to 1\n",
    "    print(\"should sum to 1:\", torch.sum(prob_r)) #to check that it worked\n",
    "\n",
    "    return prob_r\n",
    "\n",
    "\n",
    "def log_proba(proba_r):\n",
    "    return torch.log(proba_r)\n",
    "\n",
    "\n",
    "\"\"\"### Try softmax to \"make it proba\"\n",
    "\"\"\"\n",
    "\n",
    "\n",
    "def softmax(x):\n",
    "    return torch.exp(x) / torch.sum(torch.exp(x), axis=1, keepdims=True)\n",
    "\n",
    "def softmax1D(x):\n",
    "    return torch.exp(x) / torch.sum(torch.exp(x))\n",
    "\n",
    "\"\"\"### Get the expected stimuli : matrix of 1 where stimuli 0 elsewhere\"\"\"\n",
    "\n",
    "\n",
    "# find the stimuli for every X = stim dataset\n",
    "# find the stimuli for every X = stim dataset\n",
    "def get_stimuli_input(X_train_tensor):  # input of the shape Xtrain_tensor[5,:,:]\n",
    "    Xargmax = torch.argmax(X_train_tensor, dim=1)\n",
    "    Xmax = torch.max(Xargmax)\n",
    "    return Xmax\n",
    "\n",
    "def get_stimuli_input1D(X_train_tensor):  # input of the shape Xtrain_tensor[5,:,:]\n",
    "    Xargmax = torch.argmax(X_train_tensor)#, dim=1)\n",
    "    Xmax = torch.max(Xargmax)\n",
    "    return Xmax\n",
    "\n",
    "\n",
    "# replace where function by relu functio which is differentiable\n",
    "def get_expected_Y_relu(X_train_tensor):\n",
    "    x_t = torch.transpose(X_train_tensor, 0, 1)\n",
    "    dirac_2d = torch.zeros(x_t.shape)\n",
    "    stim = get_stimuli_input(\n",
    "        X_train_tensor)  # input of the shape Xtrain_tensor[5,:,:] # here get_stimuli not differenciable\n",
    "\n",
    "    for pop, t in enumerate(x_t):\n",
    "        tpop = torch.tensor(pop)\n",
    "        dirac_2d[pop, :] = torch.nn.functional.relu(1.0 - torch.abs(tpop - stim), inplace=False).requires_grad_(True)\n",
    "    dirac_2d = torch.transpose(dirac_2d, 1, 0)\n",
    "    return dirac_2d\n",
    "\n",
    "\n",
    "def get_expected_Y_relu_1d_where(X_train_tensor):\n",
    "    stim = get_stimuli_input1D(X_train_tensor)\n",
    "    dirac_1d = torch.zeros(X_train_tensor.shape)\n",
    "    # Calculate the difference between tpop and stim\n",
    "    for pop in enumerate(X_train_tensor):\n",
    "        dirac_1d[pop[0]] = torch.where(pop[0] == torch.tensor(stim), torch.tensor(1.0), torch.tensor(0.0)).requires_grad_(False)#true #not differenciable\n",
    "    return dirac_1d\n",
    "\n",
    "\n"
   ]
  },
  {
   "cell_type": "markdown",
   "metadata": {},
   "source": [
    "## Class"
   ]
  },
  {
   "cell_type": "markdown",
   "metadata": {},
   "source": [
    "### 1- Basic classes"
   ]
  },
  {
   "cell_type": "code",
   "execution_count": 3,
   "metadata": {},
   "outputs": [],
   "source": [
    "\n",
    "\n",
    "# ***************** CLASS ***************************************\n",
    "\n",
    "@dataclass\n",
    "class Parameter:\n",
    "    # °°° Load the parameters °°°\n",
    "\n",
    "    taue: float = pars[\"taue\"]\n",
    "    ae: float = pars['ae']\n",
    "    be, hme, I_noise = pars['be'], pars['hme'], pars['I_noise']\n",
    "    Jee: float = pars['Jee']\n",
    "    taui, ai, bi, hmi = pars['taui'], pars['ai'], pars['bi'], pars['hmi']\n",
    "    Jii: float = pars['Jii']\n",
    "    Jei: float = pars['Jei']\n",
    "    Jie: float = pars['Jie']\n",
    "    Jes, Jsi = pars['Jes'], pars['Jsi']\n",
    "    Jiq: float = pars['Jiq']  # 0.85; #nA\n",
    "    Jin: float = pars['Jin']\n",
    "    tauNMDA, tauAMPA, tauGABA = pars['tauNMDA'], pars['tauAMPA'], pars['tauGABA']\n",
    "    gamma: float = pars['gamma']  # nmda coupling parameter from brunel\n",
    "    c_dash = pars['c_dash']\n",
    "    sigma = pars['sigma']  # param.sigma = .0007 for Noise\n",
    "    I_noise = pars['sigma'] * np.random.randn(3, 1)\n",
    "    I1 = pars['Jext'] * pars['mu0'] * (1 + pars['c_dash'] / 100)\n",
    "    I2 = pars['Jext'] * pars['mu0'] * (1 - pars['c_dash'] / 100)\n",
    "    # I1, I2 = pars['I1'], pars['I2']\n",
    "\n",
    "    sigmaIn = pars['sigmaIn']\n",
    "\n",
    "    # Input parameters\n",
    "    In0 = pars['In0']  # % Spontaneous firing rate of input populations (Hz)\n",
    "    InMax = pars['InMax']  # % Max firing rate of input populations (Hz)\n",
    "    Iq0 = pars['Iq0']  # % Spontaneous firing rate of feedback populations (Hz)\n",
    "    IqMax = pars['IqMax']  # % Max firing rate of feedback populations (Hz)\n",
    "\n",
    "    # Gaussian filter\n",
    "    # sIn = pars['sigmaInh'][0]\n",
    "    # sOut = pars['sigmaInh'][1]\n",
    "\n",
    "    def __init__(self, sEI, sIn, sOut, N):  # sEI=4, sIn=.2, sOut=1.2,\n",
    "        # Weights (from gaussian filter)\n",
    "        self.N = N  # pars['NumN']\n",
    "        self.wei = torch.tensor(dog_filter(sOut, int(N)), dtype=torch.float32)   # .astype( torch.float32))  # , dtype='float64'# fun.dLogGaus(.61, N)  #fun.dog_filter(sIn, sOut, N)#gaussian_filter(sEI, N)\n",
    "        self.wii = torch.tensor(np.eye(int(N)), dtype=torch.float32) #.astype(torch.float32))  # dog_filter(sIn, sOut, N)#np.eye(N) #\n",
    "        self.wie = torch.tensor(gaussian_filter(sEI, int(N)), dtype=torch.float32) #.astype(torch.float32))  # dog_filter(sIn, sOut, N)\n",
    "        self.wes = torch.tensor(np.eye(int(N)), dtype=torch.float32)  #.astype(torch.float32))  # Identity matrix\n",
    "        self.f = np.arange(1, N + 1)\n",
    "        self.sEI = sEI\n",
    "        self.sIn = sIn\n",
    "        self.sOut = sOut\n",
    "\n",
    "    def reset(self):  # https://stackoverflow.com/questions/56878667/setting-default-values-in-a-class\n",
    "\n",
    "        for name, field in self.__dataclass_fields__.items():\n",
    "            if field.default != MISSING:\n",
    "                setattr(self, name, field.default)\n",
    "            else:\n",
    "                setattr(self, name, field.default_factory())\n",
    "\n",
    "\n",
    "# °°° Time of the simulation °°°\n",
    "class Simulation:\n",
    "    def __init__(self, dt, T):\n",
    "        self.dt = dt\n",
    "        self.T = T\n",
    "        self.range_t = (np.arange(0, self.T, self.dt))\n",
    "        self.Lt = self.range_t.size\n",
    "\n",
    "    def printSim(self):\n",
    "        print(\"T time step of the simulation (dt): \", self.dt, \"  Duration of simulation S (T): \", self.T,\n",
    "              \"Length of the time frame (Lt): \", self.Lt)\n",
    "\n",
    "\n",
    "#  °°° Initialisation of the variables °°°\n",
    "\n",
    "class Stim:\n",
    "    def __init__(self, param, simu, f, ISI=1, dur=0.2):  # 8 #[10]\n",
    "        self.f = f  # array of frequency stimulus types\n",
    "        self.ISI = ISI  # inter-stimulus interval\n",
    "        self.dur = dur  # duration in s of a specific stimulus segment . The time the frequency fi ll be maintained in the f array\n",
    "        self.tail = 0\n",
    "        self.predDt = 0\n",
    "        self.pred = 0\n",
    "        self.InMax = param.InMax\n",
    "        self.In0 = param.In0\n",
    "\n",
    "        # Instantaneous frequency\n",
    "        f_instant = np.zeros((int(self.ISI / simu.dt) + 1, 1))  # size ISI : 1 /dt : 1000\n",
    "\n",
    "        for fx in self.f:\n",
    "            fx_array = np.concatenate((np.ones((int(self.dur / simu.dt), 1)) * fx,\n",
    "                                       # just 1 frequency of 8 . # inter-stim interval is aslong as stim interval\n",
    "                                       np.zeros((int(self.ISI / simu.dt),\n",
    "                                                 1))))  # so I get 1 list with 1000 lists containing 8 and 1000 lists containing 0\n",
    "        f_stim = np.vstack((f_instant, fx_array))  # stack vertically these arrays # [0] *1000 , [8]*1000, [0]*1000\n",
    "        self.f_stim = f_stim[1:]  # 1400*1\n",
    "\n",
    "    # bottom up sensory Input # duration 1sec\n",
    "    def sensoryInput(self, parameter, simu, sigmaIn=None, paramf=None, f_stim=None, InMax=None, In0=None):\n",
    "        # paramf = np.arange(1, 101)\n",
    "        w = np.exp(-(((paramf or parameter.f) - (f_stim or self.f_stim)) ** 2) / (\n",
    "                2 * (sigmaIn or parameter.sigmaIn) ** 2))  # pars['f'] = 1:N\n",
    "\n",
    "        # totalAct = w.sum(axis = 1) #sum over each row\n",
    "        # norm_w = (w.T / totalAct).T # elementwise division\n",
    "        In = np.where(f_stim or self.f_stim > 0, (InMax or self.InMax) * w + (In0 or self.In0),\n",
    "                      0)  # if stim >0 give InMax * weight + In0 otherwise give 0\n",
    "        if self.tail != 0:\n",
    "            tail_zeros = np.zeros((parameter.N, int(self.tail / simu.dt)))\n",
    "            In = np.hstack((In, tail_zeros))\n",
    "\n",
    "        range_sim = np.arange(1, In.shape[0] + 1)\n",
    "        self.In = In\n",
    "        self.w = w\n",
    "        self.sigmaIn = sigmaIn\n",
    "\n",
    "        return In, range_sim, w, sigmaIn\n",
    "\n",
    "    def printStim(self):\n",
    "        print(\"frequence of stimulus f:\", self.f, \"  ISI:\", self.ISI, \" Size In:\", self.In.shape, \"Size w:\",\n",
    "              self.w.shape, \"  f_stim:\", self.f_stim.shape,\n",
    "              \"sigmaIn:\", self.sigmaIn)\n",
    "\n",
    "\n"
   ]
  },
  {
   "cell_type": "markdown",
   "metadata": {},
   "source": [
    "### 2- Model Classes"
   ]
  },
  {
   "cell_type": "markdown",
   "metadata": {},
   "source": [
    "My model without time"
   ]
  },
  {
   "cell_type": "code",
   "execution_count": 4,
   "metadata": {},
   "outputs": [
    {
     "data": {
      "text/plain": [
       "<matplotlib.image.AxesImage at 0x1d249e70c50>"
      ]
     },
     "execution_count": 4,
     "metadata": {},
     "output_type": "execute_result"
    },
    {
     "data": {
      "image/png": "[encoded data removed]",
      "text/plain": [
       "<Figure size 480x480 with 1 Axes>"
      ]
     },
     "metadata": {},
     "output_type": "display_data"
    }
   ],
   "source": [
    "sEI = .2\n",
    "wii = torch.tensor(np.eye(int(20)), dtype=torch.float32) #.astype(torch.float32))  # dog_filter(sIn, sOut, N)#np.eye(N) #\n",
    "wie = torch.tensor(gaussian_filter(sEI, int(20)), dtype=torch.float32) #.astype(torch.float32))  # dog_filter(sIn, sOut, N)\n",
    "wes = torch.tensor(np.eye(int(20)), dtype=torch.float32)  #.\n",
    "\n",
    "plt.matshow(wie) "
   ]
  },
  {
   "cell_type": "code",
   "execution_count": 5,
   "metadata": {},
   "outputs": [
    {
     "data": {
      "text/plain": [
       "<matplotlib.image.AxesImage at 0x1d24c18ba10>"
      ]
     },
     "execution_count": 5,
     "metadata": {},
     "output_type": "execute_result"
    },
    {
     "data": {
      "image/png": "[encoded data removed]",
      "text/plain": [
       "<Figure size 480x480 with 1 Axes>"
      ]
     },
     "metadata": {},
     "output_type": "display_data"
    }
   ],
   "source": [
    "sOut = 3.\n",
    "wei =torch.tensor(dog_filter(sOut, int(20)), dtype=torch.float32)  \n",
    "plt.matshow(wei) \n",
    "#plt.matshow(mymodel.wei) #wii as identity . matrix Jii = 0"
   ]
  },
  {
   "cell_type": "code",
   "execution_count": 16,
   "metadata": {},
   "outputs": [],
   "source": [
    "class MyModel_time(nn.Module):\n",
    "    def __init__(self): \n",
    "        super(MyModel_time, self).__init__()\n",
    "      \n",
    "        #--- Define other model parameters, layers, or components here if needed\n",
    "        self.dt = torch.tensor(1e-4) #sim.dt \n",
    "        self.N = 20 \n",
    "        self.taue = self.taui = torch.tensor(0.005)\n",
    "         # ¤ parameter of the phi function Not tweakable parameters\n",
    "        self.ae = torch.tensor(18.26)  # 2 #Wong have to check # Modelling and Meg Gain of the E populaiton\n",
    "        self.be = torch.tensor(-5.38)  # Threshold of the E populaiton\n",
    "        self.hme = torch.tensor(78.67)\n",
    "        self.ai = torch.tensor(21.97)\n",
    "        self.bi = torch.tensor(-4.81)\n",
    "        self.hmi = torch.tensor(125.62)\n",
    "        self.sIn = torch.tensor(.1)\n",
    "        self.sOut= 3.\n",
    "        self.sEI = .2\n",
    "        self.tauAMPA = torch.tensor(0.002) \n",
    "        self.tauGABA = torch.tensor(0.005)\n",
    "        \n",
    "        self.wei = torch.tensor(dog_filter(self.sOut, int(self.N)), dtype=torch.float32)   \n",
    "        self.wii = torch.tensor(np.eye(int(self.N)), dtype=torch.float32) #.astype(torch.float32))  # dog_filter(sIn, sOut, N)#np.eye(N) #\n",
    "        self.wie = torch.tensor(gaussian_filter(self.sEI, int(self.N)), dtype=torch.float32) #.astype(torch.float32))  # dog_filter(sIn, sOut, N)\n",
    "        self.wes = torch.tensor(np.eye(int(self.N)), dtype=torch.float32)  #.astype(torch.float32))  # Identity matrix\n",
    "\n",
    "\n",
    "        self.Jee = nn.Parameter(torch.tensor(0.072, requires_grad= True, dtype= torch.float64))#, requires_grad=False, dtype=torch.float32)#I replaced .072 by 0.072\n",
    "        #ic(self.Jee.grad_fn) #should be none\n",
    "        self.Jei =nn.Parameter(torch.tensor(0.004, requires_grad= True, dtype= torch.float64)) \n",
    "        self.Jie = nn.Parameter(torch.tensor(0.05, requires_grad=False, dtype=torch.float64))\n",
    "        self.Jii = nn.Parameter(torch.tensor(0.6, requires_grad=False, dtype=torch.float64))\n",
    "        self.Jin = nn.Parameter(torch.tensor(0.00695, requires_grad= True, dtype=torch.float64))\n",
    "        #self.newfactor = nn.Parameter(torch.tensor(10000., requires_grad= True, dtype=torch.float64)) #I have to scale this mock model with this new factor\n",
    "\n",
    "    def phi(self, I_tot, a, b, hm): #)))  # this use a lot of memory - exponential part\n",
    "        \"\"\"neg_mulA_I = torch.neg(torch.multiply(a, I_tot))\n",
    "        exp_b = torch.exp(torch.add(neg_mulA_I, b))\n",
    "        divide_and_one = torch.divide(1, torch.add(exp_b, 1))\n",
    "        mul_hm = torch.mul(hm, divide_and_one) #mul_hm\"\"\"\n",
    "        return torch.multiply(hm, torch.divide(1, (1 + torch.exp(- (torch.multiply(a, I_tot) + b)))))  #torch.multiply(hm, torch.divide(torch.ones(1), (torch.add(torch.ones(1), torch.exp(torch.add(torch.neg(torch.multiply(a, I_tot)), b)))\n",
    "\n",
    "    def forward(self, In):\n",
    "        #--- Initialize model variables here\n",
    "        prev_r_e = torch.zeros((In.shape[0], self.N)) # torch.ones(self.N) shows more obvious results\n",
    "        prev_r_i = torch.zeros((In.shape[0], self.N)) \n",
    "        #ic(prev_r_e.grad_fn)\n",
    "        prev_s_ampa = torch.zeros((In.shape[0], self.N)) \n",
    "        prev_s_gaba = torch.zeros((In.shape[0], self.N)) \n",
    "        \n",
    "        for k in range(1, In.shape[0]):\n",
    "            #--- Compute values of interest\n",
    "            #the operation Jee_re = self.Jee * prev_r_e => triggers inplace error\n",
    "            # i_tot_e[k, :] = self.Jee * s_ampa[k - 1, :] - (self.Jie * s_gaba_wie) + self.Jin * In[k - 1, :]\n",
    "            # i_tot_i[k, :] = (self.Jei * s_ampa_wei) - (self.Jii * s_gaba_wii)\n",
    "            s_gaba_wie = prev_s_gaba[k-1,:] @ self.wie  # replaced torch.matmul() by @\n",
    "            s_ampa_wei = prev_s_ampa[k-1,:] @ self.wei  # @ is an inplace operation!\n",
    "            s_gaba_wii = prev_s_gaba[k-1,:] @ self.wii \n",
    "\n",
    "            i_tot_e = torch.add(torch.subtract(torch.mul(prev_s_ampa[k-1,:], self.Jee), torch.mul(s_gaba_wie, self.Jie)), torch.mul(In[k-1,:], self.Jin))\n",
    "            #ic(i_tot_e.grad_fn)\n",
    "            i_tot_i = torch.subtract(torch.mul(s_ampa_wei,self.Jei), torch.mul(s_gaba_wii,self.Jii))\n",
    "\n",
    "            phi_arr_e = self.phi(i_tot_e, self.ae, self.be, self.hme)\n",
    "            phi_arr_i = self.phi(i_tot_i, self.ai, self.bi, self.hmi)\n",
    "            #ic(phi_arr_e.grad_fn)\n",
    "            \n",
    "\n",
    "            dr_e_dt = torch.div(torch.add(torch.neg(prev_r_e[k-1,:]), phi_arr_e), self.taue)\n",
    "            dr_i_dt = torch.div(torch.add(torch.neg(prev_r_i[k-1,:]), phi_arr_i), self.taui)\n",
    "            #ic(dr_e_dt.grad_fn)\n",
    "\n",
    "            r_e = torch.mul(torch.add(torch.neg(prev_r_e[k-1,:]), dr_e_dt), self.dt)# torch.multiply(), self.newfactor)\n",
    "            #ic(r_e.grad_fn, r_e.shape)\n",
    "            r_i = torch.mul(torch.add(torch.neg(prev_r_i[k-1,:]), dr_i_dt), self.dt)\n",
    "            \n",
    "                \n",
    "            dS_amp_dt = torch.add(torch.divide(- prev_s_ampa[k-1,:], self.tauAMPA), r_e)\n",
    "            s_ampa = torch.mul(torch.add(prev_s_ampa[k-1,:], dS_amp_dt), self.dt)\n",
    "            #ic(dS_amp_dt.grad_fn, s_ampa.grad_fn)\n",
    "            dS_gab_dt = torch.add(torch.divide(- prev_s_gaba[k-1,:], self.tauGABA), r_i)\n",
    "            s_gaba = torch.mul(torch.add(prev_s_gaba[k-1,:], dS_gab_dt), self.dt)\n",
    "            \n",
    "            prev_r_e[k,:] = r_e.clone()\n",
    "            prev_r_i[k,:] = r_i\n",
    "            prev_s_ampa[k,:] = s_ampa.clone()\n",
    "            prev_s_gaba[k,:] = s_gaba\n",
    "\n",
    "            #ic(dS_gab_dt.grad_fn, s_gaba.grad_fn)\n",
    "\n",
    "      \n",
    "            \n",
    "        return prev_r_e, prev_r_i\n",
    "    \n",
    "    "
   ]
  },
  {
   "cell_type": "code",
   "execution_count": null,
   "metadata": {},
   "outputs": [],
   "source": []
  },
  {
   "cell_type": "code",
   "execution_count": 17,
   "metadata": {},
   "outputs": [
    {
     "data": {
      "text/plain": [
       "'\\nphi_arr_e = self.phi(i_tot_e[k, :], self.param.ae, self.param.be, self.param.hme)\\nphi_arr_i = self.phi(i_tot_i[k, :], self.param.ai, self.param.bi, self.param.hmi)\\n\\ndr_e_dt[k, :] = (-r_e[k - 1, :] + phi_arr_e) / self.param.taue#Jee*r remove pi and S\\ndr_i_dt[k, :] = (-r_i[k - 1, :] + phi_arr_i) / self.param.taui\\n\\nr_e[k, :] = r_e[k - 1, :] + dr_e_dt[k, :] * self.dt\\nr_i[k, :] = r_i[k - 1, :] + dr_i_dt[k, :] * self.dt\\n\\ndS_amp_dt = (- s_ampa[k - 1, :] / self.param.tauAMPA) + r_e[k, :]\\ns_ampa[k, :] = s_ampa[k - 1, :] + dS_amp_dt * self.dt\\n\\ndS_gab_dt = (- s_gaba[k - 1, :] / self.param.tauGABA) + r_i[k, :]\\ns_gaba[k, :] = s_gaba[k - 1, :] + dS_gab_dt * self.dt\\n\\n'"
      ]
     },
     "execution_count": 17,
     "metadata": {},
     "output_type": "execute_result"
    }
   ],
   "source": [
    " \n",
    "            #Sampa_Jee = self.Jee * s_ampa[k - 1, :]  # self.Jee.clone() destroys the gradient\n",
    "            #In_Jin = self.Jin * stim[k - 1, :]\n",
    "            # ic(Sampa_Jee.grad_fn)\n",
    "            ##Jee *r depend on r # \n",
    "            #i_tot_e[k, :] = self.Jee * s_ampa[k - 1, :] - (self.Jie * s_gaba_wie) + self.Jin * In[k - 1, :]\n",
    "            #i_tot_i[k, :] = (self.Jei * s_ampa_wei) - (self.Jii * s_gaba_wii)\n",
    "\n",
    "\"\"\"\n",
    "            phi_arr_e = self.phi(i_tot_e[k, :], self.param.ae, self.param.be, self.param.hme)\n",
    "            phi_arr_i = self.phi(i_tot_i[k, :], self.param.ai, self.param.bi, self.param.hmi)\n",
    "\n",
    "            dr_e_dt[k, :] = (-r_e[k - 1, :] + phi_arr_e) / self.param.taue#Jee*r remove pi and S\n",
    "            dr_i_dt[k, :] = (-r_i[k - 1, :] + phi_arr_i) / self.param.taui\n",
    "\n",
    "            r_e[k, :] = r_e[k - 1, :] + dr_e_dt[k, :] * self.dt\n",
    "            r_i[k, :] = r_i[k - 1, :] + dr_i_dt[k, :] * self.dt\n",
    "\n",
    "            dS_amp_dt = (- s_ampa[k - 1, :] / self.param.tauAMPA) + r_e[k, :]\n",
    "            s_ampa[k, :] = s_ampa[k - 1, :] + dS_amp_dt * self.dt\n",
    "\n",
    "            dS_gab_dt = (- s_gaba[k - 1, :] / self.param.tauGABA) + r_i[k, :]\n",
    "            s_gaba[k, :] = s_gaba[k - 1, :] + dS_gab_dt * self.dt\n",
    "\n",
    "\"\"\""
   ]
  },
  {
   "cell_type": "markdown",
   "metadata": {},
   "source": [
    "## Call the classes to make the Input matrix (In)\n"
   ]
  },
  {
   "cell_type": "code",
   "execution_count": 18,
   "metadata": {},
   "outputs": [
    {
     "name": "stdout",
     "output_type": "stream",
     "text": [
      "tensor(1.1170, grad_fn=<MaxBackward1>)\n"
     ]
    },
    {
     "data": {
      "image/png": "[encoded data removed]",
      "text/plain": [
       "<Figure size 600x600 with 4 Axes>"
      ]
     },
     "metadata": {},
     "output_type": "display_data"
    }
   ],
   "source": [
    "## Parameters used to create In\n",
    "N = 20\n",
    "# \\\\\\\\\\\\\\\\\\\\\\ Parameters\n",
    "param = Parameter(N=20, sIn=.1, sOut=3., sEI=.2)\n",
    "# \\\\\\\\\\\\\\\\\\\\\\ Simulation time\n",
    "simu = Simulation(1e-4, .4)  # dt #rangeSim #dur = 2s\n",
    "\n",
    "# \\\\\\\\\\\\\\\\\\\\\\ Bottom up sensory input\n",
    "stimuli = Stim(param, simu, dur=.3, f=[8], ISI=.05)  # dur = 1s Isi=1s\n",
    "In, range_sim, w, sigmaIn = stimuli.sensoryInput(param, simu, sigmaIn=2.)\n",
    "\n",
    "J1 = {'Jee': 0.072, 'Jei': 0.004, 'Jie': 0.05, 'Jii': 0.6, 'Jin': 0.00695}\n",
    "J_list = list(J1.keys())\n",
    "\n",
    "\n",
    "mymodel = MyModel_time()\n",
    "\n",
    "\n",
    "\n",
    "# ~~~~~~~~~~~~~~~~~~~~~~~~~~~~~~~~~~~~~~~ RUN forward pass and Print heatmap ~~~~~~~~~~~~~~~~~~~~~~~~~~~~~~~~~~~~~~~~~~~~~~~~~~~~~~~~~~\n",
    "sti = torch.tensor(stimuli.In, dtype=torch.float32)\n",
    "r_e, r_i = mymodel.forward(sti)\n",
    "print(torch.max(r_e[1000,:]))\n",
    "HeatMap(r_e.detach().numpy(), r_i.detach().numpy(), J1)"
   ]
  },
  {
   "cell_type": "markdown",
   "metadata": {},
   "source": [
    "## Optimization steps"
   ]
  },
  {
   "cell_type": "markdown",
   "metadata": {},
   "source": [
    "### Parameters Initialization"
   ]
  },
  {
   "cell_type": "code",
   "execution_count": 19,
   "metadata": {},
   "outputs": [],
   "source": [
    "# +++++++++++++++++++++++++ Initialize the Model ++++++++++++++++++++++++++++\n",
    "\n",
    "# +++++++++++++++++++++++++ Optimizer ++++++++++++++++++++++++++++\n",
    "learning_rate = 0.1\n",
    "optimizer = optim.SGD(mymodel.parameters(),\n",
    "                      lr=learning_rate)\n",
    "# +++++++++++++++++++++++++ Epochs +++++++++++++++++++++++++++++++++++++++++++++++++++++++++++++++++++++++++++\n",
    "num_epochs = 2\n",
    "\n",
    "# +++++++++++++++++++++++++ Inputs + Labels +++++++++++++++++++++++++++++++++++++++++++++++++++++++++++++++++++++++++++\n",
    "#X_input = make_it_proba(torch.tensor(stimuli.In)) #make I at time 1000ms a probability function\n",
    "X_input = sti\n",
    "\n",
    "Y_target = get_expected_Y_relu(X_input) #get the expected dirac delta for our particular Input\n",
    "losses = torch.zeros(num_epochs) # used to plot the loss at the end\n",
    "\n",
    "# ~~~~~~~~~~~~~~~~~~~~~~~~~~~~~~~~~~~~~~~ RUN forward pass  ~~~~~~~~~~~~~~~~~~~~~~~~~~~~~~~~~~~~~~~~~~~~~~~~~~~~~~~~~~\n",
    "r_enew, rnewi = mymodel.forward(X_input)"
   ]
  },
  {
   "cell_type": "code",
   "execution_count": 20,
   "metadata": {},
   "outputs": [
    {
     "data": {
      "text/plain": [
       "<matplotlib.legend.Legend at 0x1d2649e6710>"
      ]
     },
     "execution_count": 20,
     "metadata": {},
     "output_type": "execute_result"
    },
    {
     "data": {
      "image/png": "[encoded data removed]",
      "text/plain": [
       "<Figure size 640x480 with 1 Axes>"
      ]
     },
     "metadata": {},
     "output_type": "display_data"
    }
   ],
   "source": [
    "\n",
    "plt.plot(np.arange(0,20),Y_target[1000,:].detach().numpy(), label = \"Expected Output (Y_target)\")\n",
    "plt.plot(np.arange(0,20), X_input[1000,:].detach().numpy(), label = \"Input of the Model (X_input)\")\n",
    "plt.plot(np.arange(0,20),r_enew[1000,:].detach().numpy(), label = \"Output (Y_prediction)\")\n",
    "\n",
    "plt.title(\"Actors of my model in probability\")\n",
    "plt.legend()"
   ]
  },
  {
   "cell_type": "markdown",
   "metadata": {},
   "source": [
    "### Optimization steps"
   ]
  },
  {
   "cell_type": "code",
   "execution_count": 21,
   "metadata": {},
   "outputs": [
    {
     "ename": "NameError",
     "evalue": "name 'mymodel2' is not defined",
     "output_type": "error",
     "traceback": [
      "\u001b[1;31m---------------------------------------------------------------------------\u001b[0m",
      "\u001b[1;31mNameError\u001b[0m                                 Traceback (most recent call last)",
      "\u001b[1;32mc:\\Users\\knzga\\Documents\\02_Computational Neuroscience Project\\Programming\\VScode\\PredictiveCoding\\PC_Simplified\\PC_MWE_ToAlex\\PC_3_MWE_Time_GetPhi_S_inhib copy.ipynb Cell 24\u001b[0m line \u001b[0;36m1\n\u001b[0;32m     <a href='vscode-notebook-cell:/c%3A/Users/knzga/Documents/02_Computational%20Neuroscience%20Project/Programming/VScode/PredictiveCoding/PC_Simplified/PC_MWE_ToAlex/PC_3_MWE_Time_GetPhi_S_inhib%20copy.ipynb#X26sZmlsZQ%3D%3D?line=11'>12</a>\u001b[0m optimizer\u001b[39m.\u001b[39mzero_grad()\n\u001b[0;32m     <a href='vscode-notebook-cell:/c%3A/Users/knzga/Documents/02_Computational%20Neuroscience%20Project/Programming/VScode/PredictiveCoding/PC_Simplified/PC_MWE_ToAlex/PC_3_MWE_Time_GetPhi_S_inhib%20copy.ipynb#X26sZmlsZQ%3D%3D?line=13'>14</a>\u001b[0m \u001b[39m# calculate output\u001b[39;00m\n\u001b[1;32m---> <a href='vscode-notebook-cell:/c%3A/Users/knzga/Documents/02_Computational%20Neuroscience%20Project/Programming/VScode/PredictiveCoding/PC_Simplified/PC_MWE_ToAlex/PC_3_MWE_Time_GetPhi_S_inhib%20copy.ipynb#X26sZmlsZQ%3D%3D?line=14'>15</a>\u001b[0m Y_prediction \u001b[39m=\u001b[39m mymodel2(X_input) \n\u001b[0;32m     <a href='vscode-notebook-cell:/c%3A/Users/knzga/Documents/02_Computational%20Neuroscience%20Project/Programming/VScode/PredictiveCoding/PC_Simplified/PC_MWE_ToAlex/PC_3_MWE_Time_GetPhi_S_inhib%20copy.ipynb#X26sZmlsZQ%3D%3D?line=15'>16</a>\u001b[0m ic(Y_prediction\u001b[39m.\u001b[39mgrad_fn)\n\u001b[0;32m     <a href='vscode-notebook-cell:/c%3A/Users/knzga/Documents/02_Computational%20Neuroscience%20Project/Programming/VScode/PredictiveCoding/PC_Simplified/PC_MWE_ToAlex/PC_3_MWE_Time_GetPhi_S_inhib%20copy.ipynb#X26sZmlsZQ%3D%3D?line=17'>18</a>\u001b[0m \u001b[39m# calculate loss\u001b[39;00m\n",
      "\u001b[1;31mNameError\u001b[0m: name 'mymodel2' is not defined"
     ]
    }
   ],
   "source": [
    "# +++++++++++++++++++++++++ Problems investigations +++++++++++++++++++++++++++++++++++++++++++++++++++++++++++++++++++\n",
    "# import tracemalloc\n",
    "# tracemalloc.start()\n",
    "#mymodel2.train()\n",
    "\n",
    "# +++++++++++++++++++++++++ Optimization loop +++++++++++++++++++++++++++++++++++++++++++++++++++++++++++++++++++\n",
    "with torch.autograd.set_detect_anomaly(True):\n",
    "    for epoch in range(num_epochs):\n",
    "        # Create a new input tensor for each epoch\n",
    "        X_input.requires_grad = False \n",
    "        # Clear the gradients \n",
    "        optimizer.zero_grad()\n",
    "\n",
    "        # calculate output\n",
    "        Y_prediction = mymodel2(X_input) \n",
    "        ic(Y_prediction.grad_fn)\n",
    "        \n",
    "        # calculate loss\n",
    "        loss1D = (torch.mean((Y_prediction - Y_target)**2))  \n",
    "        ic(loss1D.grad_fn)\n",
    "        loss1D.backward()\n",
    "        \n",
    "        optimizer.step()\n",
    "\n",
    "        losses[epoch] = loss1D\n",
    "        print(f'Epoch [{epoch + 1}/{num_epochs}], Loss: {loss1D}, Loss_grad: {loss1D.grad}')  # .item()\n",
    "        for i, par in enumerate(mymodel2.parameters()):\n",
    "           ic(J_list[i], par, par.grad)\n",
    "     \n"
   ]
  },
  {
   "cell_type": "markdown",
   "metadata": {},
   "source": [
    "### Model evaluation"
   ]
  },
  {
   "cell_type": "markdown",
   "metadata": {},
   "source": [
    "#### Loss over epochs"
   ]
  },
  {
   "cell_type": "code",
   "execution_count": null,
   "metadata": {},
   "outputs": [],
   "source": [
    "\n",
    "## +++++++++++++++++++++++++ Loss over epochs +++++++++++++++++++++++++++++++++++++++++++++++++++++++++++++++++\n",
    "plt.plot(np.arange(losses.shape[0]), losses.detach().numpy(), 'bo', label='Training loss')\n",
    "#plt.ylim([0.7179871796,0.71798718])\n",
    "#plt.axhline(y=0.7179871780183, color='blue', linestyle='-', label='Training loss')\n",
    "\n",
    "plt.title(f\"Loss over {num_epochs} epochs for a learning rate of {learning_rate}\")\n",
    "plt.show()"
   ]
  },
  {
   "cell_type": "markdown",
   "metadata": {},
   "source": [
    "#### Loss function observation"
   ]
  },
  {
   "cell_type": "code",
   "execution_count": null,
   "metadata": {},
   "outputs": [],
   "source": [
    "\n",
    "def discrete_loss(Y_prediction, Y_target):\n",
    "    return (((Y_prediction - Y_target)**2))\n",
    "\n",
    "grid_x, grid_y = np.mgrid[0:1:20j, 0:1:20j]\n",
    "\n",
    "values = discrete_loss(grid_x, grid_y)\n",
    "fig, ax = plt.subplots(nrows=1, ncols=1, num=0, figsize=(16, 8),\n",
    "                       subplot_kw={'projection': '3d'})\n",
    "pSurf = ax.plot_surface(grid_x, grid_y, values, rstride=1, cstride=1, cmap='rainbow')\n",
    "#ax = fig.add_subplot(111, projection='3d')\n",
    "#ax.plot_surface(x, y, z)\n",
    "fig.colorbar(pSurf)\n",
    "\n",
    "ax.set_xlabel('X')\n",
    "ax.set_ylabel('Y')\n",
    "ax.set_zlabel('Discrete Loss')\n",
    "ax.set_title(\"Loss function: squared difference\")"
   ]
  }
 ],
 "metadata": {
  "kernelspec": {
   "display_name": "Python 3",
   "language": "python",
   "name": "python3"
  },
  "language_info": {
   "codemirror_mode": {
    "name": "ipython",
    "version": 3
   },
   "file_extension": ".py",
   "mimetype": "text/x-python",
   "name": "python",
   "nbconvert_exporter": "python",
   "pygments_lexer": "ipython3",
   "version": "3.11.4"
  }
 },
 "nbformat": 4,
 "nbformat_minor": 2
}
